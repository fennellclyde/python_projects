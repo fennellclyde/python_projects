{
  "nbformat": 4,
  "nbformat_minor": 0,
  "metadata": {
    "colab": {
      "name": "Copy of SetTheory.ipynb",
      "provenance": [],
      "include_colab_link": true
    },
    "kernelspec": {
      "name": "python3",
      "display_name": "Python 3"
    },
    "language_info": {
      "name": "python"
    }
  },
  "cells": [
    {
      "cell_type": "markdown",
      "metadata": {
        "id": "view-in-github",
        "colab_type": "text"
      },
      "source": [
        "<a href=\"https://colab.research.google.com/github/fennellclyde/python_projects/blob/main/Copy_of_SetTheory.ipynb\" target=\"_parent\"><img src=\"https://colab.research.google.com/assets/colab-badge.svg\" alt=\"Open In Colab\"/></a>"
      ]
    },
    {
      "cell_type": "code",
      "metadata": {
        "colab": {
          "base_uri": "https://localhost:8080/"
        },
        "id": "IhtEGaFcc862",
        "outputId": "637303e8-f819-4f46-94a3-784c13f2b60a"
      },
      "source": [
        "# [ ] -> square brackets MEAN LIST\n",
        "A = [1,5,7,9,13,1,5,7,9,13]\n",
        "B = [3,5,7,9,11,3,5,7,9,11]\n",
        "print(A)\n",
        "print(B)"
      ],
      "execution_count": 1,
      "outputs": [
        {
          "output_type": "stream",
          "name": "stdout",
          "text": [
            "[1, 5, 7, 9, 13, 1, 5, 7, 9, 13]\n",
            "[3, 5, 7, 9, 11, 3, 5, 7, 9, 11]\n"
          ]
        }
      ]
    },
    {
      "cell_type": "code",
      "metadata": {
        "id": "XGLkM65ndIlQ"
      },
      "source": [
        "# list fruits-> [banana, apple, banana] was valid!\n",
        "# in a set -> NO DUPLICATION is allowed, and NO Order is followed!\n",
        "# set(fruits)-> {banana,apple} or {apple,banana}\n",
        "# CURLY BRACES-> { }. a SET-> No DUPLICATION no ORDER\n",
        "\n"
      ],
      "execution_count": 2,
      "outputs": []
    },
    {
      "cell_type": "code",
      "metadata": {
        "id": "Z61SiDP4dgg5"
      },
      "source": [
        "setA = set(A)\n",
        "setB = set(B)\n"
      ],
      "execution_count": 3,
      "outputs": []
    },
    {
      "cell_type": "code",
      "metadata": {
        "colab": {
          "base_uri": "https://localhost:8080/"
        },
        "id": "zKTIttPKdjpQ",
        "outputId": "9c2e2279-5347-4ebd-b503-bca4138a6bab"
      },
      "source": [
        "setA"
      ],
      "execution_count": 4,
      "outputs": [
        {
          "output_type": "execute_result",
          "data": {
            "text/plain": [
              "{1, 5, 7, 9, 13}"
            ]
          },
          "metadata": {},
          "execution_count": 4
        }
      ]
    },
    {
      "cell_type": "code",
      "metadata": {
        "colab": {
          "base_uri": "https://localhost:8080/"
        },
        "id": "AvBiBZD-dkOr",
        "outputId": "043093e9-0ae8-4d3d-a74d-eaf2611822ae"
      },
      "source": [
        "setB"
      ],
      "execution_count": 5,
      "outputs": [
        {
          "output_type": "execute_result",
          "data": {
            "text/plain": [
              "{3, 5, 7, 9, 11}"
            ]
          },
          "metadata": {},
          "execution_count": 5
        }
      ]
    },
    {
      "cell_type": "code",
      "metadata": {
        "colab": {
          "base_uri": "https://localhost:8080/"
        },
        "id": "F4nng5QRd1XY",
        "outputId": "db8e6f5d-f90e-4985-9e4f-13d8f7e46d9b"
      },
      "source": [
        "setC = {False, 0, 42, \"Pikachu\", \"Imotep\", \"Yokozuna\", 10, -3, False, True}\n",
        "setC\n",
        "# Deduplication -> FALSE which means 0 -> \n",
        "#so between 0 False and False -> 0 remains\n",
        "#so between False 0 and False -> False remains\n",
        "# First come first serve"
      ],
      "execution_count": 6,
      "outputs": [
        {
          "output_type": "execute_result",
          "data": {
            "text/plain": [
              "{-3, 10, 42, False, 'Imotep', 'Pikachu', True, 'Yokozuna'}"
            ]
          },
          "metadata": {},
          "execution_count": 6
        }
      ]
    },
    {
      "cell_type": "code",
      "metadata": {
        "colab": {
          "base_uri": "https://localhost:8080/"
        },
        "id": "ZF2K3OUzd1Uh",
        "outputId": "4608359c-c10d-4583-9f6c-09154cd99be8"
      },
      "source": [
        "# Union-> combining two sets\n",
        "setA.union(setB)"
      ],
      "execution_count": 7,
      "outputs": [
        {
          "output_type": "execute_result",
          "data": {
            "text/plain": [
              "{1, 3, 5, 7, 9, 11, 13}"
            ]
          },
          "metadata": {},
          "execution_count": 7
        }
      ]
    },
    {
      "cell_type": "code",
      "metadata": {
        "id": "rWLQvef8d1Sd",
        "colab": {
          "base_uri": "https://localhost:8080/"
        },
        "outputId": "fad1fc4d-6efc-4da4-ed13-516ccca1415c"
      },
      "source": [
        "# intersection-> taking common values out\n",
        "# https://www.researchgate.net/figure/A-Venn-diagram-of-unions-and-intersections-for-two-sets-A-and-B-and-their-complements_fig1_332453167\n",
        "# https://www.mathsisfun.com/sets/venn-diagrams.html\n",
        "setA.intersection(setB)\n"
      ],
      "execution_count": 8,
      "outputs": [
        {
          "output_type": "execute_result",
          "data": {
            "text/plain": [
              "{5, 7, 9}"
            ]
          },
          "metadata": {},
          "execution_count": 8
        }
      ]
    },
    {
      "cell_type": "code",
      "metadata": {
        "id": "jpEH9z0Udl0r"
      },
      "source": [
        "# ( ) -> tuples-> read only values\n",
        "# NO CHANGES what so ever once created"
      ],
      "execution_count": 9,
      "outputs": []
    }
  ]
}