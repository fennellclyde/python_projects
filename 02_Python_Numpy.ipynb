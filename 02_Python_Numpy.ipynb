{
  "nbformat": 4,
  "nbformat_minor": 0,
  "metadata": {
    "kernelspec": {
      "display_name": "Python 3",
      "language": "python",
      "name": "python3"
    },
    "language_info": {
      "codemirror_mode": {
        "name": "ipython",
        "version": 3
      },
      "file_extension": ".py",
      "mimetype": "text/x-python",
      "name": "python",
      "nbconvert_exporter": "python",
      "pygments_lexer": "ipython3",
      "version": "3.7.4"
    },
    "colab": {
      "name": "01_Python Numpy.ipynb",
      "provenance": [],
      "include_colab_link": true
    }
  },
  "cells": [
    {
      "cell_type": "markdown",
      "metadata": {
        "id": "view-in-github",
        "colab_type": "text"
      },
      "source": [
        "<a href=\"https://colab.research.google.com/github/fennellclyde/python_projects/blob/main/02_Python_Numpy.ipynb\" target=\"_parent\"><img src=\"https://colab.research.google.com/assets/colab-badge.svg\" alt=\"Open In Colab\"/></a>"
      ]
    },
    {
      "cell_type": "code",
      "metadata": {
        "id": "svuqXRfAUQSO"
      },
      "source": [
        ""
      ],
      "execution_count": null,
      "outputs": []
    },
    {
      "cell_type": "markdown",
      "metadata": {
        "id": "CQIdoQwFFEey"
      },
      "source": [
        "The first thing we want to do is import numpy."
      ]
    },
    {
      "cell_type": "code",
      "metadata": {
        "id": "gaFMYBu5FEe8"
      },
      "source": [
        "import numpy as np"
      ],
      "execution_count": 1,
      "outputs": []
    },
    {
      "cell_type": "markdown",
      "metadata": {
        "id": "jen2ILVRFEe-"
      },
      "source": [
        "Let us first define a Python list containing the ages of 6 people."
      ]
    },
    {
      "cell_type": "code",
      "metadata": {
        "id": "DEGlE86RFEe_",
        "outputId": "0c54b14a-077d-4422-d44d-ed9df48dfed5",
        "colab": {
          "base_uri": "https://localhost:8080/"
        }
      },
      "source": [
        "ages_list = [10, 5, 8, 32, 65, 43]\n",
        "print(ages_list)"
      ],
      "execution_count": 2,
      "outputs": [
        {
          "output_type": "stream",
          "name": "stdout",
          "text": [
            "[10, 5, 8, 32, 65, 43]\n"
          ]
        }
      ]
    },
    {
      "cell_type": "markdown",
      "metadata": {
        "id": "Yj7xUNWwFEfA"
      },
      "source": [
        "There are 3 main ways to instantiate a Numpy ndarray object. One of these is to use `np.array(<collection>)`"
      ]
    },
    {
      "cell_type": "code",
      "metadata": {
        "id": "Hfsn2AorFEfA",
        "outputId": "69061e72-b54e-46c6-cac6-dbdb48ff00a1",
        "colab": {
          "base_uri": "https://localhost:8080/"
        }
      },
      "source": [
        "ages = np.array(ages_list)\n",
        "print(type(ages))\n",
        "print(ages)"
      ],
      "execution_count": 3,
      "outputs": [
        {
          "output_type": "stream",
          "name": "stdout",
          "text": [
            "<class 'numpy.ndarray'>\n",
            "[10  5  8 32 65 43]\n"
          ]
        }
      ]
    },
    {
      "cell_type": "code",
      "metadata": {
        "id": "GwI0DSx2FEfB",
        "outputId": "0374504c-68de-4cdf-e0cf-b53ccf224d43",
        "colab": {
          "base_uri": "https://localhost:8080/"
        }
      },
      "source": [
        "print(ages)\n",
        "print(\"Size:\\t\" , ages.size)\n",
        "print(\"Shape:\\t\", ages.shape)"
      ],
      "execution_count": 4,
      "outputs": [
        {
          "output_type": "stream",
          "name": "stdout",
          "text": [
            "[10  5  8 32 65 43]\n",
            "Size:\t 6\n",
            "Shape:\t (6,)\n"
          ]
        }
      ]
    },
    {
      "cell_type": "code",
      "metadata": {
        "scrolled": true,
        "id": "GMqAlyHWFEfD",
        "outputId": "87ba44c8-7669-4456-9bd9-cbbe758710d8",
        "colab": {
          "base_uri": "https://localhost:8080/"
        }
      },
      "source": [
        "zeroArr = np.zeros(5)\n",
        "print(zeroArr)"
      ],
      "execution_count": 5,
      "outputs": [
        {
          "output_type": "stream",
          "name": "stdout",
          "text": [
            "[0. 0. 0. 0. 0.]\n"
          ]
        }
      ]
    },
    {
      "cell_type": "markdown",
      "metadata": {
        "id": "uDQnelbrFEfE"
      },
      "source": [
        "### Multi-dim"
      ]
    },
    {
      "cell_type": "markdown",
      "metadata": {
        "id": "tGN5oTcyFEfF"
      },
      "source": [
        "Now let us define a new list containing the weights of these 6 people."
      ]
    },
    {
      "cell_type": "code",
      "metadata": {
        "id": "OPrNicCXFEfG"
      },
      "source": [
        "weight_list = [32, 18, 26, 60, 55, 65]"
      ],
      "execution_count": 6,
      "outputs": []
    },
    {
      "cell_type": "markdown",
      "metadata": {
        "id": "9b1kE_aXFEfH"
      },
      "source": [
        "Now, we define an ndarray containing all fo this information, and again print the size and shape of the array."
      ]
    },
    {
      "cell_type": "code",
      "metadata": {
        "id": "lEGSfz9FFEfI",
        "outputId": "1e271626-9898-4943-91f8-bb13b5d2695c",
        "colab": {
          "base_uri": "https://localhost:8080/"
        }
      },
      "source": [
        "people = np.array([ages_list, weight_list])\n",
        "\n",
        "print(\"People:\\t\" , people)\n",
        "print(\"Size:\\t\" , people.size)\n",
        "print(\"Shape:\\t\", people.shape)"
      ],
      "execution_count": 7,
      "outputs": [
        {
          "output_type": "stream",
          "name": "stdout",
          "text": [
            "People:\t [[10  5  8 32 65 43]\n",
            " [32 18 26 60 55 65]]\n",
            "Size:\t 12\n",
            "Shape:\t (2, 6)\n"
          ]
        }
      ]
    },
    {
      "cell_type": "code",
      "metadata": {
        "id": "mSdEFurdFEfI",
        "outputId": "d662e40e-6f11-458e-c33d-df7f4b12e8b3",
        "colab": {
          "base_uri": "https://localhost:8080/"
        }
      },
      "source": [
        "people = people.reshape(12,1)\n",
        "print(\"People:\\t\" , people)\n",
        "print(\"Size:\\t\" , people.size)\n",
        "print(\"Shape:\\t\", people.shape)"
      ],
      "execution_count": 8,
      "outputs": [
        {
          "output_type": "stream",
          "name": "stdout",
          "text": [
            "People:\t [[10]\n",
            " [ 5]\n",
            " [ 8]\n",
            " [32]\n",
            " [65]\n",
            " [43]\n",
            " [32]\n",
            " [18]\n",
            " [26]\n",
            " [60]\n",
            " [55]\n",
            " [65]]\n",
            "Size:\t 12\n",
            "Shape:\t (12, 1)\n"
          ]
        }
      ]
    },
    {
      "cell_type": "markdown",
      "metadata": {
        "id": "AcAUmOGFFEfJ"
      },
      "source": [
        "###### Note: The new shape must be the same \"size\" as the old shape"
      ]
    },
    {
      "cell_type": "markdown",
      "metadata": {
        "id": "8SzgS-GeFEfJ"
      },
      "source": [
        "### Exercise\n",
        "\n",
        "* Generate a 1D numpy array with the values [7, 9, 65, 33, 85, 99]\n",
        "\n",
        "* Generate a matrix (2D numpy array) of the values:\n",
        "\n",
        "\\begin{align}\n",
        "  \\mathbf{A} =\n",
        "  \\begin{pmatrix}\n",
        "    1 & 2 & 4 \\\\\n",
        "    2 & 3 & 0 \\\\\n",
        "    0 & 5 & 1\n",
        "  \\end{pmatrix}\n",
        "\\end{align}\n",
        "\n",
        "* Change the dimensions of this array to another permitted shape"
      ]
    },
    {
      "cell_type": "markdown",
      "metadata": {
        "id": "_fwkQK3pFEfK"
      },
      "source": [
        "## Array Generation"
      ]
    },
    {
      "cell_type": "markdown",
      "metadata": {
        "id": "LgKM0b5VFEfL"
      },
      "source": [
        "Instead of defining an array manually, we can ask numpy to do it for us.\n",
        "\n",
        "The `np.arange()` method creates a range of numbers with user defined steps between each."
      ]
    },
    {
      "cell_type": "code",
      "metadata": {
        "id": "ODpkCW1UFEfM",
        "outputId": "b95b8e23-f8d9-484e-d305-7e3067c3e0dd",
        "colab": {
          "base_uri": "https://localhost:8080/"
        }
      },
      "source": [
        "five_times_table = np.arange(0, 55, 5)\n",
        "five_times_table"
      ],
      "execution_count": 9,
      "outputs": [
        {
          "output_type": "execute_result",
          "data": {
            "text/plain": [
              "array([ 0,  5, 10, 15, 20, 25, 30, 35, 40, 45, 50])"
            ]
          },
          "metadata": {},
          "execution_count": 9
        }
      ]
    },
    {
      "cell_type": "markdown",
      "metadata": {
        "id": "ennDVTlWFEfN"
      },
      "source": [
        "The `np.linspace()` method will produce a range of evenly spaced values, starting, ending, and taking as many steps as you specify."
      ]
    },
    {
      "cell_type": "code",
      "metadata": {
        "id": "YTqt8F6MFEfN",
        "outputId": "7a032a45-b1b4-455c-9551-443e6dbe6e85",
        "colab": {
          "base_uri": "https://localhost:8080/"
        }
      },
      "source": [
        "five_spaced = np.linspace(0,50,11)\n",
        "print(five_spaced)"
      ],
      "execution_count": 10,
      "outputs": [
        {
          "output_type": "stream",
          "name": "stdout",
          "text": [
            "[ 0.  5. 10. 15. 20. 25. 30. 35. 40. 45. 50.]\n"
          ]
        }
      ]
    },
    {
      "cell_type": "markdown",
      "metadata": {
        "id": "EGBBmwC2FEfO"
      },
      "source": [
        "The `.repeat()` method will repeat an object you pas a specified number of times."
      ]
    },
    {
      "cell_type": "code",
      "metadata": {
        "id": "j1GnEAEcFEfO",
        "outputId": "f998f7b7-52a3-406c-c954-1ebf192624c8",
        "colab": {
          "base_uri": "https://localhost:8080/"
        }
      },
      "source": [
        "twoArr = np.repeat(2, 10)\n",
        "print(twoArr)"
      ],
      "execution_count": 11,
      "outputs": [
        {
          "output_type": "stream",
          "name": "stdout",
          "text": [
            "[2 2 2 2 2 2 2 2 2 2]\n"
          ]
        }
      ]
    },
    {
      "cell_type": "markdown",
      "metadata": {
        "id": "cP96qdtzFEfP"
      },
      "source": [
        "The `np.eye()` functions will create an identity matrix/array for us."
      ]
    },
    {
      "cell_type": "code",
      "metadata": {
        "id": "tHpTIoOYFEfQ",
        "outputId": "bef73ea6-4965-4087-9e5c-acb99704268a",
        "colab": {
          "base_uri": "https://localhost:8080/"
        }
      },
      "source": [
        "identity_matrix = np.eye(6)\n",
        "print(identity_matrix)"
      ],
      "execution_count": 12,
      "outputs": [
        {
          "output_type": "stream",
          "name": "stdout",
          "text": [
            "[[1. 0. 0. 0. 0. 0.]\n",
            " [0. 1. 0. 0. 0. 0.]\n",
            " [0. 0. 1. 0. 0. 0.]\n",
            " [0. 0. 0. 1. 0. 0.]\n",
            " [0. 0. 0. 0. 1. 0.]\n",
            " [0. 0. 0. 0. 0. 1.]]\n"
          ]
        }
      ]
    },
    {
      "cell_type": "markdown",
      "metadata": {
        "id": "ZlimDz8DFEfQ"
      },
      "source": [
        "# Operations"
      ]
    },
    {
      "cell_type": "markdown",
      "metadata": {
        "id": "j0DL-NLLFEfQ"
      },
      "source": [
        "There are many, many operations which we can perform on arrays. Below, we demonstrate a few."
      ]
    },
    {
      "cell_type": "markdown",
      "metadata": {
        "id": "ysX7UWB3FEfR"
      },
      "source": [
        "What is happening in each line?"
      ]
    },
    {
      "cell_type": "code",
      "metadata": {
        "id": "9Ujl5KheFEfS",
        "outputId": "286a03fb-dd81-4db6-a5cc-1f55bb5df5da",
        "colab": {
          "base_uri": "https://localhost:8080/"
        }
      },
      "source": [
        "five_times_table"
      ],
      "execution_count": 13,
      "outputs": [
        {
          "output_type": "execute_result",
          "data": {
            "text/plain": [
              "array([ 0,  5, 10, 15, 20, 25, 30, 35, 40, 45, 50])"
            ]
          },
          "metadata": {},
          "execution_count": 13
        }
      ]
    },
    {
      "cell_type": "code",
      "metadata": {
        "scrolled": true,
        "id": "S_qeKK4iFEfS",
        "outputId": "bf53c3d0-48e4-4fe4-9cea-30f3f5ca21c0",
        "colab": {
          "base_uri": "https://localhost:8080/"
        }
      },
      "source": [
        "print(\"1:\", 2 * five_times_table)\n",
        "print(\"2:\", 10 + five_times_table)\n",
        "print(\"3:\", five_times_table - 1)\n",
        "print(\"4:\", five_times_table/5)\n",
        "print(\"5:\", five_times_table **2)\n",
        "print(\"6:\", five_times_table < 20)"
      ],
      "execution_count": 14,
      "outputs": [
        {
          "output_type": "stream",
          "name": "stdout",
          "text": [
            "1: [  0  10  20  30  40  50  60  70  80  90 100]\n",
            "2: [10 15 20 25 30 35 40 45 50 55 60]\n",
            "3: [-1  4  9 14 19 24 29 34 39 44 49]\n",
            "4: [ 0.  1.  2.  3.  4.  5.  6.  7.  8.  9. 10.]\n",
            "5: [   0   25  100  225  400  625  900 1225 1600 2025 2500]\n",
            "6: [ True  True  True  True False False False False False False False]\n"
          ]
        }
      ]
    },
    {
      "cell_type": "markdown",
      "metadata": {
        "id": "v8kLbKxvFEfS"
      },
      "source": [
        "### Speed Test"
      ]
    },
    {
      "cell_type": "markdown",
      "metadata": {
        "id": "K0_hxEyuFEfS"
      },
      "source": [
        "If we compare the speed at which we can do these operations compared to core python, we will notice a substantial difference."
      ]
    },
    {
      "cell_type": "code",
      "metadata": {
        "scrolled": true,
        "id": "yA2n--u2FEfT",
        "outputId": "8f737016-4082-4a76-efb4-dfd7f4987cba",
        "colab": {
          "base_uri": "https://localhost:8080/"
        }
      },
      "source": [
        "fives_list = list(range(0,5001,5))\n",
        "fives_list"
      ],
      "execution_count": 15,
      "outputs": [
        {
          "output_type": "execute_result",
          "data": {
            "text/plain": [
              "[0,\n",
              " 5,\n",
              " 10,\n",
              " 15,\n",
              " 20,\n",
              " 25,\n",
              " 30,\n",
              " 35,\n",
              " 40,\n",
              " 45,\n",
              " 50,\n",
              " 55,\n",
              " 60,\n",
              " 65,\n",
              " 70,\n",
              " 75,\n",
              " 80,\n",
              " 85,\n",
              " 90,\n",
              " 95,\n",
              " 100,\n",
              " 105,\n",
              " 110,\n",
              " 115,\n",
              " 120,\n",
              " 125,\n",
              " 130,\n",
              " 135,\n",
              " 140,\n",
              " 145,\n",
              " 150,\n",
              " 155,\n",
              " 160,\n",
              " 165,\n",
              " 170,\n",
              " 175,\n",
              " 180,\n",
              " 185,\n",
              " 190,\n",
              " 195,\n",
              " 200,\n",
              " 205,\n",
              " 210,\n",
              " 215,\n",
              " 220,\n",
              " 225,\n",
              " 230,\n",
              " 235,\n",
              " 240,\n",
              " 245,\n",
              " 250,\n",
              " 255,\n",
              " 260,\n",
              " 265,\n",
              " 270,\n",
              " 275,\n",
              " 280,\n",
              " 285,\n",
              " 290,\n",
              " 295,\n",
              " 300,\n",
              " 305,\n",
              " 310,\n",
              " 315,\n",
              " 320,\n",
              " 325,\n",
              " 330,\n",
              " 335,\n",
              " 340,\n",
              " 345,\n",
              " 350,\n",
              " 355,\n",
              " 360,\n",
              " 365,\n",
              " 370,\n",
              " 375,\n",
              " 380,\n",
              " 385,\n",
              " 390,\n",
              " 395,\n",
              " 400,\n",
              " 405,\n",
              " 410,\n",
              " 415,\n",
              " 420,\n",
              " 425,\n",
              " 430,\n",
              " 435,\n",
              " 440,\n",
              " 445,\n",
              " 450,\n",
              " 455,\n",
              " 460,\n",
              " 465,\n",
              " 470,\n",
              " 475,\n",
              " 480,\n",
              " 485,\n",
              " 490,\n",
              " 495,\n",
              " 500,\n",
              " 505,\n",
              " 510,\n",
              " 515,\n",
              " 520,\n",
              " 525,\n",
              " 530,\n",
              " 535,\n",
              " 540,\n",
              " 545,\n",
              " 550,\n",
              " 555,\n",
              " 560,\n",
              " 565,\n",
              " 570,\n",
              " 575,\n",
              " 580,\n",
              " 585,\n",
              " 590,\n",
              " 595,\n",
              " 600,\n",
              " 605,\n",
              " 610,\n",
              " 615,\n",
              " 620,\n",
              " 625,\n",
              " 630,\n",
              " 635,\n",
              " 640,\n",
              " 645,\n",
              " 650,\n",
              " 655,\n",
              " 660,\n",
              " 665,\n",
              " 670,\n",
              " 675,\n",
              " 680,\n",
              " 685,\n",
              " 690,\n",
              " 695,\n",
              " 700,\n",
              " 705,\n",
              " 710,\n",
              " 715,\n",
              " 720,\n",
              " 725,\n",
              " 730,\n",
              " 735,\n",
              " 740,\n",
              " 745,\n",
              " 750,\n",
              " 755,\n",
              " 760,\n",
              " 765,\n",
              " 770,\n",
              " 775,\n",
              " 780,\n",
              " 785,\n",
              " 790,\n",
              " 795,\n",
              " 800,\n",
              " 805,\n",
              " 810,\n",
              " 815,\n",
              " 820,\n",
              " 825,\n",
              " 830,\n",
              " 835,\n",
              " 840,\n",
              " 845,\n",
              " 850,\n",
              " 855,\n",
              " 860,\n",
              " 865,\n",
              " 870,\n",
              " 875,\n",
              " 880,\n",
              " 885,\n",
              " 890,\n",
              " 895,\n",
              " 900,\n",
              " 905,\n",
              " 910,\n",
              " 915,\n",
              " 920,\n",
              " 925,\n",
              " 930,\n",
              " 935,\n",
              " 940,\n",
              " 945,\n",
              " 950,\n",
              " 955,\n",
              " 960,\n",
              " 965,\n",
              " 970,\n",
              " 975,\n",
              " 980,\n",
              " 985,\n",
              " 990,\n",
              " 995,\n",
              " 1000,\n",
              " 1005,\n",
              " 1010,\n",
              " 1015,\n",
              " 1020,\n",
              " 1025,\n",
              " 1030,\n",
              " 1035,\n",
              " 1040,\n",
              " 1045,\n",
              " 1050,\n",
              " 1055,\n",
              " 1060,\n",
              " 1065,\n",
              " 1070,\n",
              " 1075,\n",
              " 1080,\n",
              " 1085,\n",
              " 1090,\n",
              " 1095,\n",
              " 1100,\n",
              " 1105,\n",
              " 1110,\n",
              " 1115,\n",
              " 1120,\n",
              " 1125,\n",
              " 1130,\n",
              " 1135,\n",
              " 1140,\n",
              " 1145,\n",
              " 1150,\n",
              " 1155,\n",
              " 1160,\n",
              " 1165,\n",
              " 1170,\n",
              " 1175,\n",
              " 1180,\n",
              " 1185,\n",
              " 1190,\n",
              " 1195,\n",
              " 1200,\n",
              " 1205,\n",
              " 1210,\n",
              " 1215,\n",
              " 1220,\n",
              " 1225,\n",
              " 1230,\n",
              " 1235,\n",
              " 1240,\n",
              " 1245,\n",
              " 1250,\n",
              " 1255,\n",
              " 1260,\n",
              " 1265,\n",
              " 1270,\n",
              " 1275,\n",
              " 1280,\n",
              " 1285,\n",
              " 1290,\n",
              " 1295,\n",
              " 1300,\n",
              " 1305,\n",
              " 1310,\n",
              " 1315,\n",
              " 1320,\n",
              " 1325,\n",
              " 1330,\n",
              " 1335,\n",
              " 1340,\n",
              " 1345,\n",
              " 1350,\n",
              " 1355,\n",
              " 1360,\n",
              " 1365,\n",
              " 1370,\n",
              " 1375,\n",
              " 1380,\n",
              " 1385,\n",
              " 1390,\n",
              " 1395,\n",
              " 1400,\n",
              " 1405,\n",
              " 1410,\n",
              " 1415,\n",
              " 1420,\n",
              " 1425,\n",
              " 1430,\n",
              " 1435,\n",
              " 1440,\n",
              " 1445,\n",
              " 1450,\n",
              " 1455,\n",
              " 1460,\n",
              " 1465,\n",
              " 1470,\n",
              " 1475,\n",
              " 1480,\n",
              " 1485,\n",
              " 1490,\n",
              " 1495,\n",
              " 1500,\n",
              " 1505,\n",
              " 1510,\n",
              " 1515,\n",
              " 1520,\n",
              " 1525,\n",
              " 1530,\n",
              " 1535,\n",
              " 1540,\n",
              " 1545,\n",
              " 1550,\n",
              " 1555,\n",
              " 1560,\n",
              " 1565,\n",
              " 1570,\n",
              " 1575,\n",
              " 1580,\n",
              " 1585,\n",
              " 1590,\n",
              " 1595,\n",
              " 1600,\n",
              " 1605,\n",
              " 1610,\n",
              " 1615,\n",
              " 1620,\n",
              " 1625,\n",
              " 1630,\n",
              " 1635,\n",
              " 1640,\n",
              " 1645,\n",
              " 1650,\n",
              " 1655,\n",
              " 1660,\n",
              " 1665,\n",
              " 1670,\n",
              " 1675,\n",
              " 1680,\n",
              " 1685,\n",
              " 1690,\n",
              " 1695,\n",
              " 1700,\n",
              " 1705,\n",
              " 1710,\n",
              " 1715,\n",
              " 1720,\n",
              " 1725,\n",
              " 1730,\n",
              " 1735,\n",
              " 1740,\n",
              " 1745,\n",
              " 1750,\n",
              " 1755,\n",
              " 1760,\n",
              " 1765,\n",
              " 1770,\n",
              " 1775,\n",
              " 1780,\n",
              " 1785,\n",
              " 1790,\n",
              " 1795,\n",
              " 1800,\n",
              " 1805,\n",
              " 1810,\n",
              " 1815,\n",
              " 1820,\n",
              " 1825,\n",
              " 1830,\n",
              " 1835,\n",
              " 1840,\n",
              " 1845,\n",
              " 1850,\n",
              " 1855,\n",
              " 1860,\n",
              " 1865,\n",
              " 1870,\n",
              " 1875,\n",
              " 1880,\n",
              " 1885,\n",
              " 1890,\n",
              " 1895,\n",
              " 1900,\n",
              " 1905,\n",
              " 1910,\n",
              " 1915,\n",
              " 1920,\n",
              " 1925,\n",
              " 1930,\n",
              " 1935,\n",
              " 1940,\n",
              " 1945,\n",
              " 1950,\n",
              " 1955,\n",
              " 1960,\n",
              " 1965,\n",
              " 1970,\n",
              " 1975,\n",
              " 1980,\n",
              " 1985,\n",
              " 1990,\n",
              " 1995,\n",
              " 2000,\n",
              " 2005,\n",
              " 2010,\n",
              " 2015,\n",
              " 2020,\n",
              " 2025,\n",
              " 2030,\n",
              " 2035,\n",
              " 2040,\n",
              " 2045,\n",
              " 2050,\n",
              " 2055,\n",
              " 2060,\n",
              " 2065,\n",
              " 2070,\n",
              " 2075,\n",
              " 2080,\n",
              " 2085,\n",
              " 2090,\n",
              " 2095,\n",
              " 2100,\n",
              " 2105,\n",
              " 2110,\n",
              " 2115,\n",
              " 2120,\n",
              " 2125,\n",
              " 2130,\n",
              " 2135,\n",
              " 2140,\n",
              " 2145,\n",
              " 2150,\n",
              " 2155,\n",
              " 2160,\n",
              " 2165,\n",
              " 2170,\n",
              " 2175,\n",
              " 2180,\n",
              " 2185,\n",
              " 2190,\n",
              " 2195,\n",
              " 2200,\n",
              " 2205,\n",
              " 2210,\n",
              " 2215,\n",
              " 2220,\n",
              " 2225,\n",
              " 2230,\n",
              " 2235,\n",
              " 2240,\n",
              " 2245,\n",
              " 2250,\n",
              " 2255,\n",
              " 2260,\n",
              " 2265,\n",
              " 2270,\n",
              " 2275,\n",
              " 2280,\n",
              " 2285,\n",
              " 2290,\n",
              " 2295,\n",
              " 2300,\n",
              " 2305,\n",
              " 2310,\n",
              " 2315,\n",
              " 2320,\n",
              " 2325,\n",
              " 2330,\n",
              " 2335,\n",
              " 2340,\n",
              " 2345,\n",
              " 2350,\n",
              " 2355,\n",
              " 2360,\n",
              " 2365,\n",
              " 2370,\n",
              " 2375,\n",
              " 2380,\n",
              " 2385,\n",
              " 2390,\n",
              " 2395,\n",
              " 2400,\n",
              " 2405,\n",
              " 2410,\n",
              " 2415,\n",
              " 2420,\n",
              " 2425,\n",
              " 2430,\n",
              " 2435,\n",
              " 2440,\n",
              " 2445,\n",
              " 2450,\n",
              " 2455,\n",
              " 2460,\n",
              " 2465,\n",
              " 2470,\n",
              " 2475,\n",
              " 2480,\n",
              " 2485,\n",
              " 2490,\n",
              " 2495,\n",
              " 2500,\n",
              " 2505,\n",
              " 2510,\n",
              " 2515,\n",
              " 2520,\n",
              " 2525,\n",
              " 2530,\n",
              " 2535,\n",
              " 2540,\n",
              " 2545,\n",
              " 2550,\n",
              " 2555,\n",
              " 2560,\n",
              " 2565,\n",
              " 2570,\n",
              " 2575,\n",
              " 2580,\n",
              " 2585,\n",
              " 2590,\n",
              " 2595,\n",
              " 2600,\n",
              " 2605,\n",
              " 2610,\n",
              " 2615,\n",
              " 2620,\n",
              " 2625,\n",
              " 2630,\n",
              " 2635,\n",
              " 2640,\n",
              " 2645,\n",
              " 2650,\n",
              " 2655,\n",
              " 2660,\n",
              " 2665,\n",
              " 2670,\n",
              " 2675,\n",
              " 2680,\n",
              " 2685,\n",
              " 2690,\n",
              " 2695,\n",
              " 2700,\n",
              " 2705,\n",
              " 2710,\n",
              " 2715,\n",
              " 2720,\n",
              " 2725,\n",
              " 2730,\n",
              " 2735,\n",
              " 2740,\n",
              " 2745,\n",
              " 2750,\n",
              " 2755,\n",
              " 2760,\n",
              " 2765,\n",
              " 2770,\n",
              " 2775,\n",
              " 2780,\n",
              " 2785,\n",
              " 2790,\n",
              " 2795,\n",
              " 2800,\n",
              " 2805,\n",
              " 2810,\n",
              " 2815,\n",
              " 2820,\n",
              " 2825,\n",
              " 2830,\n",
              " 2835,\n",
              " 2840,\n",
              " 2845,\n",
              " 2850,\n",
              " 2855,\n",
              " 2860,\n",
              " 2865,\n",
              " 2870,\n",
              " 2875,\n",
              " 2880,\n",
              " 2885,\n",
              " 2890,\n",
              " 2895,\n",
              " 2900,\n",
              " 2905,\n",
              " 2910,\n",
              " 2915,\n",
              " 2920,\n",
              " 2925,\n",
              " 2930,\n",
              " 2935,\n",
              " 2940,\n",
              " 2945,\n",
              " 2950,\n",
              " 2955,\n",
              " 2960,\n",
              " 2965,\n",
              " 2970,\n",
              " 2975,\n",
              " 2980,\n",
              " 2985,\n",
              " 2990,\n",
              " 2995,\n",
              " 3000,\n",
              " 3005,\n",
              " 3010,\n",
              " 3015,\n",
              " 3020,\n",
              " 3025,\n",
              " 3030,\n",
              " 3035,\n",
              " 3040,\n",
              " 3045,\n",
              " 3050,\n",
              " 3055,\n",
              " 3060,\n",
              " 3065,\n",
              " 3070,\n",
              " 3075,\n",
              " 3080,\n",
              " 3085,\n",
              " 3090,\n",
              " 3095,\n",
              " 3100,\n",
              " 3105,\n",
              " 3110,\n",
              " 3115,\n",
              " 3120,\n",
              " 3125,\n",
              " 3130,\n",
              " 3135,\n",
              " 3140,\n",
              " 3145,\n",
              " 3150,\n",
              " 3155,\n",
              " 3160,\n",
              " 3165,\n",
              " 3170,\n",
              " 3175,\n",
              " 3180,\n",
              " 3185,\n",
              " 3190,\n",
              " 3195,\n",
              " 3200,\n",
              " 3205,\n",
              " 3210,\n",
              " 3215,\n",
              " 3220,\n",
              " 3225,\n",
              " 3230,\n",
              " 3235,\n",
              " 3240,\n",
              " 3245,\n",
              " 3250,\n",
              " 3255,\n",
              " 3260,\n",
              " 3265,\n",
              " 3270,\n",
              " 3275,\n",
              " 3280,\n",
              " 3285,\n",
              " 3290,\n",
              " 3295,\n",
              " 3300,\n",
              " 3305,\n",
              " 3310,\n",
              " 3315,\n",
              " 3320,\n",
              " 3325,\n",
              " 3330,\n",
              " 3335,\n",
              " 3340,\n",
              " 3345,\n",
              " 3350,\n",
              " 3355,\n",
              " 3360,\n",
              " 3365,\n",
              " 3370,\n",
              " 3375,\n",
              " 3380,\n",
              " 3385,\n",
              " 3390,\n",
              " 3395,\n",
              " 3400,\n",
              " 3405,\n",
              " 3410,\n",
              " 3415,\n",
              " 3420,\n",
              " 3425,\n",
              " 3430,\n",
              " 3435,\n",
              " 3440,\n",
              " 3445,\n",
              " 3450,\n",
              " 3455,\n",
              " 3460,\n",
              " 3465,\n",
              " 3470,\n",
              " 3475,\n",
              " 3480,\n",
              " 3485,\n",
              " 3490,\n",
              " 3495,\n",
              " 3500,\n",
              " 3505,\n",
              " 3510,\n",
              " 3515,\n",
              " 3520,\n",
              " 3525,\n",
              " 3530,\n",
              " 3535,\n",
              " 3540,\n",
              " 3545,\n",
              " 3550,\n",
              " 3555,\n",
              " 3560,\n",
              " 3565,\n",
              " 3570,\n",
              " 3575,\n",
              " 3580,\n",
              " 3585,\n",
              " 3590,\n",
              " 3595,\n",
              " 3600,\n",
              " 3605,\n",
              " 3610,\n",
              " 3615,\n",
              " 3620,\n",
              " 3625,\n",
              " 3630,\n",
              " 3635,\n",
              " 3640,\n",
              " 3645,\n",
              " 3650,\n",
              " 3655,\n",
              " 3660,\n",
              " 3665,\n",
              " 3670,\n",
              " 3675,\n",
              " 3680,\n",
              " 3685,\n",
              " 3690,\n",
              " 3695,\n",
              " 3700,\n",
              " 3705,\n",
              " 3710,\n",
              " 3715,\n",
              " 3720,\n",
              " 3725,\n",
              " 3730,\n",
              " 3735,\n",
              " 3740,\n",
              " 3745,\n",
              " 3750,\n",
              " 3755,\n",
              " 3760,\n",
              " 3765,\n",
              " 3770,\n",
              " 3775,\n",
              " 3780,\n",
              " 3785,\n",
              " 3790,\n",
              " 3795,\n",
              " 3800,\n",
              " 3805,\n",
              " 3810,\n",
              " 3815,\n",
              " 3820,\n",
              " 3825,\n",
              " 3830,\n",
              " 3835,\n",
              " 3840,\n",
              " 3845,\n",
              " 3850,\n",
              " 3855,\n",
              " 3860,\n",
              " 3865,\n",
              " 3870,\n",
              " 3875,\n",
              " 3880,\n",
              " 3885,\n",
              " 3890,\n",
              " 3895,\n",
              " 3900,\n",
              " 3905,\n",
              " 3910,\n",
              " 3915,\n",
              " 3920,\n",
              " 3925,\n",
              " 3930,\n",
              " 3935,\n",
              " 3940,\n",
              " 3945,\n",
              " 3950,\n",
              " 3955,\n",
              " 3960,\n",
              " 3965,\n",
              " 3970,\n",
              " 3975,\n",
              " 3980,\n",
              " 3985,\n",
              " 3990,\n",
              " 3995,\n",
              " 4000,\n",
              " 4005,\n",
              " 4010,\n",
              " 4015,\n",
              " 4020,\n",
              " 4025,\n",
              " 4030,\n",
              " 4035,\n",
              " 4040,\n",
              " 4045,\n",
              " 4050,\n",
              " 4055,\n",
              " 4060,\n",
              " 4065,\n",
              " 4070,\n",
              " 4075,\n",
              " 4080,\n",
              " 4085,\n",
              " 4090,\n",
              " 4095,\n",
              " 4100,\n",
              " 4105,\n",
              " 4110,\n",
              " 4115,\n",
              " 4120,\n",
              " 4125,\n",
              " 4130,\n",
              " 4135,\n",
              " 4140,\n",
              " 4145,\n",
              " 4150,\n",
              " 4155,\n",
              " 4160,\n",
              " 4165,\n",
              " 4170,\n",
              " 4175,\n",
              " 4180,\n",
              " 4185,\n",
              " 4190,\n",
              " 4195,\n",
              " 4200,\n",
              " 4205,\n",
              " 4210,\n",
              " 4215,\n",
              " 4220,\n",
              " 4225,\n",
              " 4230,\n",
              " 4235,\n",
              " 4240,\n",
              " 4245,\n",
              " 4250,\n",
              " 4255,\n",
              " 4260,\n",
              " 4265,\n",
              " 4270,\n",
              " 4275,\n",
              " 4280,\n",
              " 4285,\n",
              " 4290,\n",
              " 4295,\n",
              " 4300,\n",
              " 4305,\n",
              " 4310,\n",
              " 4315,\n",
              " 4320,\n",
              " 4325,\n",
              " 4330,\n",
              " 4335,\n",
              " 4340,\n",
              " 4345,\n",
              " 4350,\n",
              " 4355,\n",
              " 4360,\n",
              " 4365,\n",
              " 4370,\n",
              " 4375,\n",
              " 4380,\n",
              " 4385,\n",
              " 4390,\n",
              " 4395,\n",
              " 4400,\n",
              " 4405,\n",
              " 4410,\n",
              " 4415,\n",
              " 4420,\n",
              " 4425,\n",
              " 4430,\n",
              " 4435,\n",
              " 4440,\n",
              " 4445,\n",
              " 4450,\n",
              " 4455,\n",
              " 4460,\n",
              " 4465,\n",
              " 4470,\n",
              " 4475,\n",
              " 4480,\n",
              " 4485,\n",
              " 4490,\n",
              " 4495,\n",
              " 4500,\n",
              " 4505,\n",
              " 4510,\n",
              " 4515,\n",
              " 4520,\n",
              " 4525,\n",
              " 4530,\n",
              " 4535,\n",
              " 4540,\n",
              " 4545,\n",
              " 4550,\n",
              " 4555,\n",
              " 4560,\n",
              " 4565,\n",
              " 4570,\n",
              " 4575,\n",
              " 4580,\n",
              " 4585,\n",
              " 4590,\n",
              " 4595,\n",
              " 4600,\n",
              " 4605,\n",
              " 4610,\n",
              " 4615,\n",
              " 4620,\n",
              " 4625,\n",
              " 4630,\n",
              " 4635,\n",
              " 4640,\n",
              " 4645,\n",
              " 4650,\n",
              " 4655,\n",
              " 4660,\n",
              " 4665,\n",
              " 4670,\n",
              " 4675,\n",
              " 4680,\n",
              " 4685,\n",
              " 4690,\n",
              " 4695,\n",
              " 4700,\n",
              " 4705,\n",
              " 4710,\n",
              " 4715,\n",
              " 4720,\n",
              " 4725,\n",
              " 4730,\n",
              " 4735,\n",
              " 4740,\n",
              " 4745,\n",
              " 4750,\n",
              " 4755,\n",
              " 4760,\n",
              " 4765,\n",
              " 4770,\n",
              " 4775,\n",
              " 4780,\n",
              " 4785,\n",
              " 4790,\n",
              " 4795,\n",
              " 4800,\n",
              " 4805,\n",
              " 4810,\n",
              " 4815,\n",
              " 4820,\n",
              " 4825,\n",
              " 4830,\n",
              " 4835,\n",
              " 4840,\n",
              " 4845,\n",
              " 4850,\n",
              " 4855,\n",
              " 4860,\n",
              " 4865,\n",
              " 4870,\n",
              " 4875,\n",
              " 4880,\n",
              " 4885,\n",
              " 4890,\n",
              " 4895,\n",
              " 4900,\n",
              " 4905,\n",
              " 4910,\n",
              " 4915,\n",
              " 4920,\n",
              " 4925,\n",
              " 4930,\n",
              " 4935,\n",
              " 4940,\n",
              " 4945,\n",
              " 4950,\n",
              " 4955,\n",
              " 4960,\n",
              " 4965,\n",
              " 4970,\n",
              " 4975,\n",
              " 4980,\n",
              " 4985,\n",
              " 4990,\n",
              " 4995,\n",
              " ...]"
            ]
          },
          "metadata": {},
          "execution_count": 15
        }
      ]
    },
    {
      "cell_type": "code",
      "metadata": {
        "id": "-SsircjyFEfU",
        "outputId": "942e8d70-587e-40be-ccc1-728082e23eaf",
        "colab": {
          "base_uri": "https://localhost:8080/"
        }
      },
      "source": [
        "five_times_table_lge = np.arange(0,5001,5)\n",
        "five_times_table_lge"
      ],
      "execution_count": 16,
      "outputs": [
        {
          "output_type": "execute_result",
          "data": {
            "text/plain": [
              "array([   0,    5,   10, ..., 4990, 4995, 5000])"
            ]
          },
          "metadata": {},
          "execution_count": 16
        }
      ]
    },
    {
      "cell_type": "code",
      "metadata": {
        "id": "38tBFAzHFEfU",
        "outputId": "b9ba8dc1-5fff-4e00-d735-c3c30f1d071e",
        "colab": {
          "base_uri": "https://localhost:8080/"
        }
      },
      "source": [
        "%timeit five_times_table_lge + 5"
      ],
      "execution_count": 17,
      "outputs": [
        {
          "output_type": "stream",
          "name": "stdout",
          "text": [
            "The slowest run took 49.97 times longer than the fastest. This could mean that an intermediate result is being cached.\n",
            "1000000 loops, best of 5: 1.31 µs per loop\n"
          ]
        }
      ]
    },
    {
      "cell_type": "code",
      "metadata": {
        "id": "WSh-KqW1FEfV",
        "outputId": "bc499a0e-fe0e-43f4-acce-f6fa63692e4d",
        "colab": {
          "base_uri": "https://localhost:8080/"
        }
      },
      "source": [
        "%timeit [e + 5 for e in fives_list]"
      ],
      "execution_count": 18,
      "outputs": [
        {
          "output_type": "stream",
          "name": "stdout",
          "text": [
            "10000 loops, best of 5: 63.7 µs per loop\n"
          ]
        }
      ]
    },
    {
      "cell_type": "markdown",
      "metadata": {
        "id": "smh7axQMFEfW"
      },
      "source": [
        "Boolean string operations can also be performed on ndarrays."
      ]
    },
    {
      "cell_type": "code",
      "metadata": {
        "id": "yGFUI1QXFEfW",
        "outputId": "f95b6902-7362-4780-af31-70a077080ef9",
        "colab": {
          "base_uri": "https://localhost:8080/"
        }
      },
      "source": [
        "words = np.array([\"ten\", \"nine\", \"eight\", \"seven\", \"six\"])\n",
        "\n",
        "print(np.isin(words, 'e'))\n",
        "\n",
        "print(\"e\" in words)\n",
        "[\"e\" in word for word in words]"
      ],
      "execution_count": 19,
      "outputs": [
        {
          "output_type": "stream",
          "name": "stdout",
          "text": [
            "[False False False False False]\n",
            "False\n"
          ]
        },
        {
          "output_type": "execute_result",
          "data": {
            "text/plain": [
              "[True, True, True, True, False]"
            ]
          },
          "metadata": {},
          "execution_count": 19
        }
      ]
    },
    {
      "cell_type": "markdown",
      "metadata": {
        "id": "sF7M84vDFEfW"
      },
      "source": [
        "# Transpose"
      ]
    },
    {
      "cell_type": "code",
      "metadata": {
        "id": "RfU8slI7FEfX",
        "outputId": "0d8c75e7-2925-4043-e93c-3d2722dfcb24",
        "colab": {
          "base_uri": "https://localhost:8080/"
        }
      },
      "source": [
        "people.shape = (2, 6)\n",
        "print(people, \"\\n\")\n",
        "print(people.T)"
      ],
      "execution_count": 20,
      "outputs": [
        {
          "output_type": "stream",
          "name": "stdout",
          "text": [
            "[[10  5  8 32 65 43]\n",
            " [32 18 26 60 55 65]] \n",
            "\n",
            "[[10 32]\n",
            " [ 5 18]\n",
            " [ 8 26]\n",
            " [32 60]\n",
            " [65 55]\n",
            " [43 65]]\n"
          ]
        }
      ]
    },
    {
      "cell_type": "markdown",
      "metadata": {
        "id": "0HrEHzb8FEfX"
      },
      "source": [
        "# Data Types"
      ]
    },
    {
      "cell_type": "markdown",
      "metadata": {
        "id": "oveu_xcaFEfY"
      },
      "source": [
        "As previously mentioned, ndarrays can only have one data type. If we want to obtain or change this, we use the `.dtype` attribute."
      ]
    },
    {
      "cell_type": "code",
      "metadata": {
        "id": "r8aNixM-FEfY",
        "outputId": "acababe9-be7f-4e59-d634-c51d0c82481a",
        "colab": {
          "base_uri": "https://localhost:8080/"
        }
      },
      "source": [
        "people.dtype"
      ],
      "execution_count": 21,
      "outputs": [
        {
          "output_type": "execute_result",
          "data": {
            "text/plain": [
              "dtype('int64')"
            ]
          },
          "metadata": {},
          "execution_count": 21
        }
      ]
    },
    {
      "cell_type": "markdown",
      "metadata": {
        "id": "czkJCtzhFEfY"
      },
      "source": [
        "What is the data type of the below ndarray?"
      ]
    },
    {
      "cell_type": "code",
      "metadata": {
        "id": "ThQknjOGFEfZ",
        "outputId": "38c089d6-ef82-4253-8fa8-c95efa869453",
        "colab": {
          "base_uri": "https://localhost:8080/"
        }
      },
      "source": [
        "ages_with_strings = np.array([10, 5, 8, '32', '65', '43'])\n",
        "ages_with_strings"
      ],
      "execution_count": 22,
      "outputs": [
        {
          "output_type": "execute_result",
          "data": {
            "text/plain": [
              "array(['10', '5', '8', '32', '65', '43'], dtype='<U21')"
            ]
          },
          "metadata": {},
          "execution_count": 22
        }
      ]
    },
    {
      "cell_type": "markdown",
      "metadata": {
        "id": "MtIG-jxyFEfZ"
      },
      "source": [
        "What is the dtype of this array?"
      ]
    },
    {
      "cell_type": "code",
      "metadata": {
        "id": "P_vdboesFEfa",
        "outputId": "7934f695-b116-421b-f3c4-f49722936cf4",
        "colab": {
          "base_uri": "https://localhost:8080/"
        }
      },
      "source": [
        "ages_with_strings = np.array([10, 5, 8, '32', '65', '43'], dtype='int32')\n",
        "ages_with_strings"
      ],
      "execution_count": 23,
      "outputs": [
        {
          "output_type": "execute_result",
          "data": {
            "text/plain": [
              "array([10,  5,  8, 32, 65, 43], dtype=int32)"
            ]
          },
          "metadata": {},
          "execution_count": 23
        }
      ]
    },
    {
      "cell_type": "markdown",
      "metadata": {
        "id": "4pUI16aeFEfa"
      },
      "source": [
        "What do you think has happened here?"
      ]
    },
    {
      "cell_type": "code",
      "metadata": {
        "id": "-urlcVeSFEfb",
        "outputId": "03eb2f4b-ae44-40f1-e310-5d114015b4dd",
        "colab": {
          "base_uri": "https://localhost:8080/"
        }
      },
      "source": [
        "ages_with_strings = np.array([10, 5, 8, '32', '65', '43'])\n",
        "print(ages_with_strings)"
      ],
      "execution_count": 24,
      "outputs": [
        {
          "output_type": "stream",
          "name": "stdout",
          "text": [
            "['10' '5' '8' '32' '65' '43']\n"
          ]
        }
      ]
    },
    {
      "cell_type": "code",
      "metadata": {
        "id": "Ple4QX2sFEfc",
        "outputId": "39f25d8f-2897-4dbd-fa5e-88764c5eb118",
        "colab": {
          "base_uri": "https://localhost:8080/"
        }
      },
      "source": [
        "ages_with_strings.dtype = 'int32'\n",
        "print(ages_with_strings)"
      ],
      "execution_count": 25,
      "outputs": [
        {
          "output_type": "stream",
          "name": "stdout",
          "text": [
            "[49 48  0  0  0  0  0  0  0  0  0  0  0  0  0  0  0  0  0  0  0 53  0  0\n",
            "  0  0  0  0  0  0  0  0  0  0  0  0  0  0  0  0  0  0 56  0  0  0  0  0\n",
            "  0  0  0  0  0  0  0  0  0  0  0  0  0  0  0 51 50  0  0  0  0  0  0  0\n",
            "  0  0  0  0  0  0  0  0  0  0  0  0 54 53  0  0  0  0  0  0  0  0  0  0\n",
            "  0  0  0  0  0  0  0  0  0 52 51  0  0  0  0  0  0  0  0  0  0  0  0  0\n",
            "  0  0  0  0  0  0]\n"
          ]
        }
      ]
    },
    {
      "cell_type": "code",
      "metadata": {
        "id": "TVd0_pb5FEfc",
        "outputId": "6560c34a-77b0-40a0-ee6e-7041a23d46d2",
        "colab": {
          "base_uri": "https://localhost:8080/"
        }
      },
      "source": [
        "ages_with_strings.size"
      ],
      "execution_count": 26,
      "outputs": [
        {
          "output_type": "execute_result",
          "data": {
            "text/plain": [
              "126"
            ]
          },
          "metadata": {},
          "execution_count": 26
        }
      ]
    },
    {
      "cell_type": "code",
      "metadata": {
        "id": "OoT-O25SFEfd",
        "outputId": "9e41fa2e-1015-49e8-e7f7-53a2d50f41a8",
        "colab": {
          "base_uri": "https://localhost:8080/"
        }
      },
      "source": [
        "ages_with_strings.size/21"
      ],
      "execution_count": 27,
      "outputs": [
        {
          "output_type": "execute_result",
          "data": {
            "text/plain": [
              "6.0"
            ]
          },
          "metadata": {},
          "execution_count": 27
        }
      ]
    },
    {
      "cell_type": "code",
      "metadata": {
        "id": "62UUrCb9FEfd",
        "outputId": "e50cea6b-d2b4-4a0e-e41f-6e62580cf222",
        "colab": {
          "base_uri": "https://localhost:8080/"
        }
      },
      "source": [
        "np.array([10, 5, 8, '32', '65', '43']).size"
      ],
      "execution_count": 28,
      "outputs": [
        {
          "output_type": "execute_result",
          "data": {
            "text/plain": [
              "6"
            ]
          },
          "metadata": {},
          "execution_count": 28
        }
      ]
    },
    {
      "cell_type": "markdown",
      "metadata": {
        "id": "9nwNz7qMFEfd"
      },
      "source": [
        "The correct way to have changed the data type of the ndarray would have been to use the `.astype()` method, demonstrated below."
      ]
    },
    {
      "cell_type": "code",
      "metadata": {
        "id": "8uRzzy4CFEfe",
        "outputId": "3731a74f-4b68-460a-a4a0-56657b265475",
        "colab": {
          "base_uri": "https://localhost:8080/"
        }
      },
      "source": [
        "ages_with_strings = np.array([10, 5, 8, '32', '65', '43'])\n",
        "print(ages_with_strings)\n",
        "print(ages_with_strings.astype('int32'))"
      ],
      "execution_count": 29,
      "outputs": [
        {
          "output_type": "stream",
          "name": "stdout",
          "text": [
            "['10' '5' '8' '32' '65' '43']\n",
            "[10  5  8 32 65 43]\n"
          ]
        }
      ]
    },
    {
      "cell_type": "markdown",
      "metadata": {
        "id": "HsZsH9LaFEfe"
      },
      "source": [
        "### Exercise\n",
        "\n",
        "* #### Create an array of string numbers, but use dtype to make it an array of floats.\n",
        "* #### Transpose the matrix, printing the new size and shape.\n",
        "* #### Use the .astype() method to convert the array to boolean."
      ]
    },
    {
      "cell_type": "markdown",
      "metadata": {
        "id": "S9EX1AZcFEff"
      },
      "source": [
        "## Array Slicing Operations"
      ]
    },
    {
      "cell_type": "markdown",
      "metadata": {
        "id": "8MQr36HaFEfg"
      },
      "source": [
        "As before, we can use square brackets and indices to access individual values, and the colon operator to slice the array."
      ]
    },
    {
      "cell_type": "code",
      "metadata": {
        "id": "i2u-37MAFEfg",
        "outputId": "650e374b-71ad-43f9-fed4-85bcac90731c",
        "colab": {
          "base_uri": "https://localhost:8080/"
        }
      },
      "source": [
        "five_times_table"
      ],
      "execution_count": 30,
      "outputs": [
        {
          "output_type": "execute_result",
          "data": {
            "text/plain": [
              "array([ 0,  5, 10, 15, 20, 25, 30, 35, 40, 45, 50])"
            ]
          },
          "metadata": {},
          "execution_count": 30
        }
      ]
    },
    {
      "cell_type": "code",
      "metadata": {
        "id": "E-u49lM2FEfh",
        "outputId": "db70d311-0ca1-4153-da18-f87703b8f7e9",
        "colab": {
          "base_uri": "https://localhost:8080/"
        }
      },
      "source": [
        "five_times_table[0]"
      ],
      "execution_count": 31,
      "outputs": [
        {
          "output_type": "execute_result",
          "data": {
            "text/plain": [
              "0"
            ]
          },
          "metadata": {},
          "execution_count": 31
        }
      ]
    },
    {
      "cell_type": "code",
      "metadata": {
        "scrolled": true,
        "id": "pbW94uDdFEfh",
        "outputId": "0d396694-6051-4bce-c551-584f496f473b",
        "colab": {
          "base_uri": "https://localhost:8080/"
        }
      },
      "source": [
        "five_times_table[-1]"
      ],
      "execution_count": 32,
      "outputs": [
        {
          "output_type": "execute_result",
          "data": {
            "text/plain": [
              "50"
            ]
          },
          "metadata": {},
          "execution_count": 32
        }
      ]
    },
    {
      "cell_type": "code",
      "metadata": {
        "id": "kckfSD3_FEfh",
        "outputId": "ad7315a1-6e27-4cbe-a267-86e1dfb4e65e",
        "colab": {
          "base_uri": "https://localhost:8080/"
        }
      },
      "source": [
        "five_times_table[:4]"
      ],
      "execution_count": 33,
      "outputs": [
        {
          "output_type": "execute_result",
          "data": {
            "text/plain": [
              "array([ 0,  5, 10, 15])"
            ]
          },
          "metadata": {},
          "execution_count": 33
        }
      ]
    },
    {
      "cell_type": "code",
      "metadata": {
        "id": "9DucKVcZFEfi",
        "outputId": "7f056da7-59b5-427c-9199-c941d99920b5",
        "colab": {
          "base_uri": "https://localhost:8080/"
        }
      },
      "source": [
        "five_times_table[4:]"
      ],
      "execution_count": 34,
      "outputs": [
        {
          "output_type": "execute_result",
          "data": {
            "text/plain": [
              "array([20, 25, 30, 35, 40, 45, 50])"
            ]
          },
          "metadata": {},
          "execution_count": 34
        }
      ]
    },
    {
      "cell_type": "markdown",
      "metadata": {
        "id": "FAQ3aDWHFEfi"
      },
      "source": [
        "We can also slice an n-dim ndarray., specifying the slice operation accross each axis."
      ]
    },
    {
      "cell_type": "code",
      "metadata": {
        "id": "_q-M3DIeFEfi",
        "outputId": "f40a942b-1205-4507-aab3-11077225e514",
        "colab": {
          "base_uri": "https://localhost:8080/"
        }
      },
      "source": [
        "print(people)\n",
        "people[:3, :3]"
      ],
      "execution_count": 35,
      "outputs": [
        {
          "output_type": "stream",
          "name": "stdout",
          "text": [
            "[[10  5  8 32 65 43]\n",
            " [32 18 26 60 55 65]]\n"
          ]
        },
        {
          "output_type": "execute_result",
          "data": {
            "text/plain": [
              "array([[10,  5,  8],\n",
              "       [32, 18, 26]])"
            ]
          },
          "metadata": {},
          "execution_count": 35
        }
      ]
    },
    {
      "cell_type": "markdown",
      "metadata": {
        "id": "RogUpaO0FEfj"
      },
      "source": [
        "### Exercise\n",
        "\n",
        "* Create a numpy array with 50 zeros\n",
        "* Create a np array of 2 repeated 20 times\n",
        "* Create a numpy array from 0 to 2 $\\pi$ in steps of 0.1\n",
        "\n",
        "For one of the arrays generated:\n",
        "* Get the first five values\n",
        "* Get the last 3 values\n",
        "* Get the 4th value to the 7th value"
      ]
    },
    {
      "cell_type": "markdown",
      "metadata": {
        "id": "vauaWn-aFEfj"
      },
      "source": [
        "We can reverse an array by using `.flip()` or by using the `::` operator."
      ]
    },
    {
      "cell_type": "code",
      "metadata": {
        "id": "kh3WWv7nFEfj",
        "outputId": "68f46024-a838-487e-f476-70fb7ef14fea",
        "colab": {
          "base_uri": "https://localhost:8080/"
        }
      },
      "source": [
        "reverse_five_times_table = np.flip(five_times_table)\n",
        "reverse_five_times_table"
      ],
      "execution_count": 36,
      "outputs": [
        {
          "output_type": "execute_result",
          "data": {
            "text/plain": [
              "array([50, 45, 40, 35, 30, 25, 20, 15, 10,  5,  0])"
            ]
          },
          "metadata": {},
          "execution_count": 36
        }
      ]
    },
    {
      "cell_type": "code",
      "metadata": {
        "id": "YLtfxWXZFEfk",
        "outputId": "4e30fbbf-b481-4ee7-ef6e-e7b09fdb3af3",
        "colab": {
          "base_uri": "https://localhost:8080/"
        }
      },
      "source": [
        "reverse_five_times_table = five_times_table[-1::-1]\n",
        "print(reverse_five_times_table)\n",
        "five_times_table"
      ],
      "execution_count": 37,
      "outputs": [
        {
          "output_type": "stream",
          "name": "stdout",
          "text": [
            "[50 45 40 35 30 25 20 15 10  5  0]\n"
          ]
        },
        {
          "output_type": "execute_result",
          "data": {
            "text/plain": [
              "array([ 0,  5, 10, 15, 20, 25, 30, 35, 40, 45, 50])"
            ]
          },
          "metadata": {},
          "execution_count": 37
        }
      ]
    },
    {
      "cell_type": "markdown",
      "metadata": {
        "id": "3LBEjaH8FEfk"
      },
      "source": [
        "We can also use the `::` operator to select steps of the original array."
      ]
    },
    {
      "cell_type": "code",
      "metadata": {
        "id": "XHXvyVasFEfk",
        "outputId": "5b427a24-c212-4105-9d22-17d834d2eaec",
        "colab": {
          "base_uri": "https://localhost:8080/"
        }
      },
      "source": [
        "five_times_table[0::3] #Every 3rd element starting from 0"
      ],
      "execution_count": 38,
      "outputs": [
        {
          "output_type": "execute_result",
          "data": {
            "text/plain": [
              "array([ 0, 15, 30, 45])"
            ]
          },
          "metadata": {},
          "execution_count": 38
        }
      ]
    },
    {
      "cell_type": "markdown",
      "metadata": {
        "id": "b-_dsT1-FEfk"
      },
      "source": [
        "### Exercise\n",
        "Take one of the arrays you defined and\n",
        "* #### Reverse it\n",
        "* #### Only keep every 4th element.\n",
        "* #### Get every 2nd element, starting from the last and moving backwards."
      ]
    },
    {
      "cell_type": "markdown",
      "metadata": {
        "id": "obq2_oOrFEfl"
      },
      "source": [
        "# Stats"
      ]
    },
    {
      "cell_type": "code",
      "metadata": {
        "id": "bPdg5NpYFEfl",
        "outputId": "7d6f6924-72ff-49fd-9f12-73715a3bdab6",
        "colab": {
          "base_uri": "https://localhost:8080/"
        }
      },
      "source": [
        "np.array([1.65432, 5.98765]).round(2)"
      ],
      "execution_count": 39,
      "outputs": [
        {
          "output_type": "execute_result",
          "data": {
            "text/plain": [
              "array([1.65, 5.99])"
            ]
          },
          "metadata": {},
          "execution_count": 39
        }
      ]
    },
    {
      "cell_type": "code",
      "metadata": {
        "id": "lZ7Bs-ecFEfm"
      },
      "source": [
        "nums = np.arange(0, 4, 0.2555)"
      ],
      "execution_count": 40,
      "outputs": []
    },
    {
      "cell_type": "markdown",
      "metadata": {
        "id": "eWlo7adMFEfm"
      },
      "source": [
        "### Exercise\n",
        "\n",
        "* Compute min, max, sum, mean, median, variance, and standard deviation of the above array, all to to 2 decimal places."
      ]
    },
    {
      "cell_type": "code",
      "metadata": {
        "id": "jBuj6BOiFEfm",
        "outputId": "9afa63ca-e7aa-4966-d90e-5e0d84dee877",
        "colab": {
          "base_uri": "https://localhost:8080/"
        }
      },
      "source": [
        "print(\"min = \", np.min(nums).round(2))\n",
        "print(\"max = \", np.max(nums).round(2))\n",
        "print(\"sum = \", np.sum(nums).round(2))\n",
        "print(\"mean = \", np.mean(nums).round(2))\n",
        "print(\"median = \", np.median(nums).round(2))\n",
        "print(\"var = \", np.var(nums).round(2))\n",
        "print(\"std = \", np.std(nums).round(2))"
      ],
      "execution_count": 41,
      "outputs": [
        {
          "output_type": "stream",
          "name": "stdout",
          "text": [
            "min =  0.0\n",
            "max =  3.83\n",
            "sum =  30.66\n",
            "mean =  1.92\n",
            "median =  1.92\n",
            "var =  1.39\n",
            "std =  1.18\n"
          ]
        }
      ]
    },
    {
      "cell_type": "markdown",
      "metadata": {
        "id": "EP7DuwB2FEfm"
      },
      "source": [
        "## Random"
      ]
    },
    {
      "cell_type": "markdown",
      "metadata": {
        "id": "bYE4Wl8AFEfn"
      },
      "source": [
        "With `np.random`, we can generate a number of types of dataset, and create training data.\n",
        "\n",
        "The below code simulates a fair coin toss."
      ]
    },
    {
      "cell_type": "code",
      "metadata": {
        "id": "wfYIQjYwFEfn",
        "outputId": "37a01855-98b7-4fff-e809-2a8daa62e517",
        "colab": {
          "base_uri": "https://localhost:8080/"
        }
      },
      "source": [
        "flip = np.random.choice([0,1], 10)\n",
        "flip"
      ],
      "execution_count": 42,
      "outputs": [
        {
          "output_type": "execute_result",
          "data": {
            "text/plain": [
              "array([0, 0, 0, 0, 1, 1, 0, 0, 1, 0])"
            ]
          },
          "metadata": {},
          "execution_count": 42
        }
      ]
    },
    {
      "cell_type": "code",
      "metadata": {
        "id": "fVkkVcAPFEfn",
        "outputId": "b0c86cc1-7778-428d-f1a5-492266dc06b5",
        "colab": {
          "base_uri": "https://localhost:8080/"
        }
      },
      "source": [
        "np.random.rand(10,20,9)"
      ],
      "execution_count": 43,
      "outputs": [
        {
          "output_type": "execute_result",
          "data": {
            "text/plain": [
              "array([[[0.46566265, 0.16369978, 0.0479798 , ..., 0.89789596,\n",
              "         0.14438728, 0.87121976],\n",
              "        [0.32983558, 0.0513409 , 0.30678083, ..., 0.88946238,\n",
              "         0.50295011, 0.51704333],\n",
              "        [0.19515448, 0.44927039, 0.87735126, ..., 0.03258324,\n",
              "         0.93509553, 0.43154705],\n",
              "        ...,\n",
              "        [0.31641954, 0.85335495, 0.90228134, ..., 0.64847381,\n",
              "         0.84310412, 0.28892917],\n",
              "        [0.71909246, 0.93870078, 0.368502  , ..., 0.97395185,\n",
              "         0.28695621, 0.31115784],\n",
              "        [0.5685642 , 0.17469207, 0.47687415, ..., 0.2127287 ,\n",
              "         0.90435166, 0.71503008]],\n",
              "\n",
              "       [[0.66318513, 0.21416322, 0.21747632, ..., 0.90669632,\n",
              "         0.87555668, 0.83995411],\n",
              "        [0.56894356, 0.65662803, 0.20611331, ..., 0.85588482,\n",
              "         0.52173254, 0.57525073],\n",
              "        [0.66576441, 0.05325072, 0.63560858, ..., 0.47041655,\n",
              "         0.55736632, 0.09095248],\n",
              "        ...,\n",
              "        [0.47285978, 0.08343525, 0.97355013, ..., 0.59793085,\n",
              "         0.80377909, 0.00889308],\n",
              "        [0.01977815, 0.81701425, 0.22279111, ..., 0.09658484,\n",
              "         0.49071479, 0.98145134],\n",
              "        [0.93653482, 0.94649809, 0.97165334, ..., 0.96900403,\n",
              "         0.78878423, 0.0246071 ]],\n",
              "\n",
              "       [[0.80113396, 0.38376604, 0.86871664, ..., 0.21559454,\n",
              "         0.78118179, 0.67787591],\n",
              "        [0.68085883, 0.96123347, 0.81303622, ..., 0.48764398,\n",
              "         0.92276847, 0.81495849],\n",
              "        [0.22227434, 0.04347239, 0.08625295, ..., 0.06468323,\n",
              "         0.66105376, 0.85828718],\n",
              "        ...,\n",
              "        [0.83243045, 0.71321525, 0.81128483, ..., 0.44875091,\n",
              "         0.71482908, 0.05227299],\n",
              "        [0.29616054, 0.50914137, 0.8140541 , ..., 0.06648935,\n",
              "         0.16831244, 0.8365546 ],\n",
              "        [0.15084385, 0.14224268, 0.04785759, ..., 0.65843046,\n",
              "         0.46227947, 0.47706247]],\n",
              "\n",
              "       ...,\n",
              "\n",
              "       [[0.86706548, 0.15391478, 0.42752809, ..., 0.25485613,\n",
              "         0.87565851, 0.66825101],\n",
              "        [0.08623731, 0.76233388, 0.14668487, ..., 0.99897913,\n",
              "         0.26392627, 0.95995913],\n",
              "        [0.32329309, 0.11690537, 0.41821852, ..., 0.56189929,\n",
              "         0.36652543, 0.51223417],\n",
              "        ...,\n",
              "        [0.7416754 , 0.95877476, 0.97240573, ..., 0.17054225,\n",
              "         0.24286269, 0.07888326],\n",
              "        [0.16362635, 0.5708211 , 0.62231499, ..., 0.94133619,\n",
              "         0.93822177, 0.87045215],\n",
              "        [0.19976001, 0.68479966, 0.03578071, ..., 0.33053752,\n",
              "         0.36613135, 0.86546771]],\n",
              "\n",
              "       [[0.8931398 , 0.28922782, 0.35508602, ..., 0.7406643 ,\n",
              "         0.47656505, 0.05121722],\n",
              "        [0.74340461, 0.26013808, 0.36485792, ..., 0.0724995 ,\n",
              "         0.08015856, 0.2071813 ],\n",
              "        [0.50657776, 0.67024775, 0.83350522, ..., 0.01099958,\n",
              "         0.16813963, 0.34109039],\n",
              "        ...,\n",
              "        [0.32682894, 0.93704681, 0.92053454, ..., 0.13225176,\n",
              "         0.93620142, 0.10588518],\n",
              "        [0.73765158, 0.41522846, 0.33728814, ..., 0.88883755,\n",
              "         0.19559694, 0.3159925 ],\n",
              "        [0.49431411, 0.85288884, 0.2360902 , ..., 0.83411997,\n",
              "         0.28081638, 0.29467137]],\n",
              "\n",
              "       [[0.7996914 , 0.82437155, 0.10178257, ..., 0.97140169,\n",
              "         0.86023823, 0.42898854],\n",
              "        [0.42649441, 0.14295462, 0.60593904, ..., 0.44627766,\n",
              "         0.37268593, 0.23864665],\n",
              "        [0.84429374, 0.33200002, 0.49241368, ..., 0.5656035 ,\n",
              "         0.77979194, 0.81661454],\n",
              "        ...,\n",
              "        [0.02638273, 0.12003184, 0.29993044, ..., 0.04681272,\n",
              "         0.56987244, 0.98348452],\n",
              "        [0.79103399, 0.77274007, 0.18547735, ..., 0.65817752,\n",
              "         0.91535825, 0.33346171],\n",
              "        [0.7982854 , 0.2491784 , 0.32774671, ..., 0.63941069,\n",
              "         0.04010422, 0.80124423]]])"
            ]
          },
          "metadata": {},
          "execution_count": 43
        }
      ]
    },
    {
      "cell_type": "markdown",
      "metadata": {
        "id": "u6zc1PWmFEfo"
      },
      "source": [
        "We can produce 1000 datapoints of a normally distributed data set by using `np.random.normal()`"
      ]
    },
    {
      "cell_type": "code",
      "metadata": {
        "id": "hgOD9gP2FEfo"
      },
      "source": [
        "mu, sigma = 0, 0.1 # mean and standard deviation\n",
        "s = np.random.normal(mu, sigma, 1000)"
      ],
      "execution_count": 44,
      "outputs": []
    },
    {
      "cell_type": "markdown",
      "metadata": {
        "id": "_h-U6ZocFEfq"
      },
      "source": [
        "### Exercise\n",
        "* Simulate a six-sided dice using numpy.random.choice(), generate a list of values you would obtain from 10 throws.\n",
        "* Simulate a two-sided coin toss that is NOT fair: it is twice as likely to have head than tails.\n"
      ]
    },
    {
      "cell_type": "code",
      "metadata": {
        "id": "QjTxRou7FEfq"
      },
      "source": [
        ""
      ],
      "execution_count": null,
      "outputs": []
    }
  ]
}