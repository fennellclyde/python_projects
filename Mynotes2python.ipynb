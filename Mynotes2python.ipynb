{
  "nbformat": 4,
  "nbformat_minor": 0,
  "metadata": {
    "colab": {
      "name": "Mynotes2python.ipynb",
      "provenance": [],
      "authorship_tag": "ABX9TyP6AB9A8PMgHp/CZvI9WfNY",
      "include_colab_link": true
    },
    "kernelspec": {
      "name": "python3",
      "display_name": "Python 3"
    },
    "language_info": {
      "name": "python"
    }
  },
  "cells": [
    {
      "cell_type": "markdown",
      "metadata": {
        "id": "view-in-github",
        "colab_type": "text"
      },
      "source": [
        "<a href=\"https://colab.research.google.com/github/fennellclyde/python_projects/blob/main/Mynotes2python.ipynb\" target=\"_parent\"><img src=\"https://colab.research.google.com/assets/colab-badge.svg\" alt=\"Open In Colab\"/></a>"
      ]
    },
    {
      "cell_type": "code",
      "metadata": {
        "colab": {
          "base_uri": "https://localhost:8080/"
        },
        "id": "nmb8EsR4i_EN",
        "outputId": "01eca457-5d3e-4d8b-9f18-9575c4b1f235"
      },
      "source": [
        "print(5)\n",
        "print(5.0)\n",
        "print(\"5\")\n",
        "print(True)\n",
        "print([\"Lovers\", \"Haters\", \"Needers\"])"
      ],
      "execution_count": 1,
      "outputs": [
        {
          "output_type": "stream",
          "name": "stdout",
          "text": [
            "5\n",
            "5.0\n",
            "5\n",
            "True\n",
            "['Lovers', 'Haters', 'Needers']\n"
          ]
        }
      ]
    },
    {
      "cell_type": "code",
      "metadata": {
        "colab": {
          "base_uri": "https://localhost:8080/"
        },
        "id": "z3582J8njM6X",
        "outputId": "f65de08a-ffdc-40b1-b7dc-a1599e5c7b30"
      },
      "source": [
        "print(type(5))\n",
        "print(type(5.0))\n",
        "print(type(\"5\"))\n",
        "print(type(True))\n",
        "print(type([\"Lovers\", \"Haters\", \"Needers\"]))"
      ],
      "execution_count": 2,
      "outputs": [
        {
          "output_type": "stream",
          "name": "stdout",
          "text": [
            "<class 'int'>\n",
            "<class 'float'>\n",
            "<class 'str'>\n",
            "<class 'bool'>\n",
            "<class 'list'>\n"
          ]
        }
      ]
    },
    {
      "cell_type": "code",
      "metadata": {
        "colab": {
          "base_uri": "https://localhost:8080/"
        },
        "id": "FaKSk-CIjYGN",
        "outputId": "370cdf6f-89a9-4417-f3ea-9ff5a7cf31ad"
      },
      "source": [
        "name = 'Kofi'\n",
        "age = 41\n",
        "height = 1.82\n",
        "hobbies = [\"Artificial Intelligence\", \"Gaming\", \"Functional Medicine\"]\n",
        "is_alive = True\n",
        "\n",
        "fmesg = f\"{name} is {age} and {height * 100} cm\" # formatted string\n",
        "\n",
        "print(name, age, height)  # print with multiple args = spaced output\n",
        "print(hobbies)\n",
        "print(is_alive)\n",
        "\n",
        "\n",
        "print(fmesg)"
      ],
      "execution_count": 3,
      "outputs": [
        {
          "output_type": "stream",
          "name": "stdout",
          "text": [
            "Kofi 41 1.82\n",
            "['Artificial Intelligence', 'Gaming', 'Functional Medicine']\n",
            "True\n",
            "Kofi is 41 and 182.0 cm\n"
          ]
        }
      ]
    },
    {
      "cell_type": "code",
      "metadata": {
        "colab": {
          "base_uri": "https://localhost:8080/"
        },
        "id": "NAymw0JWjnRa",
        "outputId": "14eb5681-04c4-4e89-f237-b9231512832a"
      },
      "source": [
        "print( \"Kofi \" + \"Glover\")\n",
        "print( 2 ** 3 )    # 2 * 2 * 2 = 2^3\n",
        "print( \"-\" * 3 )\n",
        "print( \"@\" in \"kofi.glover@qa.com\")\n",
        "print( True and False )\n",
        "print( [\"Cake\", \"Cream\"] + [\"Flour\", \"Sugar\"] )\n",
        "print( 1.14 <=  2.13 )"
      ],
      "execution_count": 4,
      "outputs": [
        {
          "output_type": "stream",
          "name": "stdout",
          "text": [
            "Kofi Glover\n",
            "8\n",
            "---\n",
            "True\n",
            "False\n",
            "['Cake', 'Cream', 'Flour', 'Sugar']\n",
            "True\n"
          ]
        }
      ]
    },
    {
      "cell_type": "code",
      "metadata": {
        "id": "90QD4z3ekJOE"
      },
      "source": [
        "michael_bp = 175\n",
        "alice_bp = 175\n",
        "eve_bp = 140"
      ],
      "execution_count": 5,
      "outputs": []
    },
    {
      "cell_type": "code",
      "metadata": {
        "colab": {
          "base_uri": "https://localhost:8080/"
        },
        "id": "-0vBMY5Fk7BF",
        "outputId": "60f91603-4469-4d2d-9571-9a84b88e79eb"
      },
      "source": [
        "michael_bp == alice_bp"
      ],
      "execution_count": 6,
      "outputs": [
        {
          "output_type": "execute_result",
          "data": {
            "text/plain": [
              "True"
            ]
          },
          "metadata": {},
          "execution_count": 6
        }
      ]
    },
    {
      "cell_type": "code",
      "metadata": {
        "colab": {
          "base_uri": "https://localhost:8080/"
        },
        "id": "eX_6EzDBlBFq",
        "outputId": "13d38c87-dab4-4d4a-d9a0-6e5a1fdaebdb"
      },
      "source": [
        "michael_bp != alice_bp"
      ],
      "execution_count": 7,
      "outputs": [
        {
          "output_type": "execute_result",
          "data": {
            "text/plain": [
              "False"
            ]
          },
          "metadata": {},
          "execution_count": 7
        }
      ]
    },
    {
      "cell_type": "code",
      "metadata": {
        "colab": {
          "base_uri": "https://localhost:8080/"
        },
        "id": "P3thn9MXlGcq",
        "outputId": "94c05ba3-9b3d-432a-e5b0-d2d0c9ce738b"
      },
      "source": [
        "michael_bp != eve_bp"
      ],
      "execution_count": 8,
      "outputs": [
        {
          "output_type": "execute_result",
          "data": {
            "text/plain": [
              "True"
            ]
          },
          "metadata": {},
          "execution_count": 8
        }
      ]
    },
    {
      "cell_type": "code",
      "metadata": {
        "colab": {
          "base_uri": "https://localhost:8080/"
        },
        "id": "feyjl4azlL-m",
        "outputId": "7126291f-91b9-48c8-d169-8c3488dff8d4"
      },
      "source": [
        "michael_bp >= eve_bp"
      ],
      "execution_count": 9,
      "outputs": [
        {
          "output_type": "execute_result",
          "data": {
            "text/plain": [
              "True"
            ]
          },
          "metadata": {},
          "execution_count": 9
        }
      ]
    },
    {
      "cell_type": "code",
      "metadata": {
        "id": "xXtqM0TklS1N"
      },
      "source": [
        "message = \"WARNING: Too High!\""
      ],
      "execution_count": 10,
      "outputs": []
    },
    {
      "cell_type": "code",
      "metadata": {
        "colab": {
          "base_uri": "https://localhost:8080/"
        },
        "id": "4qIgSg53lX4s",
        "outputId": "e1601e27-2ba1-4835-d33f-5a1a91db56f5"
      },
      "source": [
        "(\"WARNING\" in message) and (michael_bp >= eve_bp)"
      ],
      "execution_count": 11,
      "outputs": [
        {
          "output_type": "execute_result",
          "data": {
            "text/plain": [
              "True"
            ]
          },
          "metadata": {},
          "execution_count": 11
        }
      ]
    },
    {
      "cell_type": "code",
      "metadata": {
        "id": "TKhkm0lzlmHw"
      },
      "source": [
        "safe_max = 150\n",
        "safe_min = 80"
      ],
      "execution_count": 12,
      "outputs": []
    },
    {
      "cell_type": "code",
      "metadata": {
        "colab": {
          "base_uri": "https://localhost:8080/"
        },
        "id": "92OMsoHJlwIL",
        "outputId": "db0d60d8-3d39-48fb-b3c1-3866772bba52"
      },
      "source": [
        "michael_bp < safe_max"
      ],
      "execution_count": 13,
      "outputs": [
        {
          "output_type": "execute_result",
          "data": {
            "text/plain": [
              "False"
            ]
          },
          "metadata": {},
          "execution_count": 13
        }
      ]
    },
    {
      "cell_type": "code",
      "metadata": {
        "colab": {
          "base_uri": "https://localhost:8080/"
        },
        "id": "xdouZR-ul070",
        "outputId": "19377a1a-3c0c-4a39-cfd4-eb08843fc046"
      },
      "source": [
        "eve_bp < safe_max"
      ],
      "execution_count": 14,
      "outputs": [
        {
          "output_type": "execute_result",
          "data": {
            "text/plain": [
              "True"
            ]
          },
          "metadata": {},
          "execution_count": 14
        }
      ]
    },
    {
      "cell_type": "code",
      "metadata": {
        "colab": {
          "base_uri": "https://localhost:8080/"
        },
        "id": "GhUAshdZl47m",
        "outputId": "d88c9180-b075-4f3b-a090-ac5f557f346e"
      },
      "source": [
        "(eve_bp < safe_max) or (michael_bp < safe_max)"
      ],
      "execution_count": 15,
      "outputs": [
        {
          "output_type": "execute_result",
          "data": {
            "text/plain": [
              "True"
            ]
          },
          "metadata": {},
          "execution_count": 15
        }
      ]
    },
    {
      "cell_type": "code",
      "metadata": {
        "colab": {
          "base_uri": "https://localhost:8080/"
        },
        "id": "fvI3wkPxmBAC",
        "outputId": "db817ab7-0666-4c87-d60b-fa30586e61a0"
      },
      "source": [
        "not (\"WARNING\" in message)"
      ],
      "execution_count": 16,
      "outputs": [
        {
          "output_type": "execute_result",
          "data": {
            "text/plain": [
              "False"
            ]
          },
          "metadata": {},
          "execution_count": 16
        }
      ]
    },
    {
      "cell_type": "code",
      "metadata": {
        "colab": {
          "base_uri": "https://localhost:8080/"
        },
        "id": "V47VBYtnmGro",
        "outputId": "cbfb05ec-97be-457d-8c43-e4d84092b9f5"
      },
      "source": [
        "\"WARNING\" not in message"
      ],
      "execution_count": 17,
      "outputs": [
        {
          "output_type": "execute_result",
          "data": {
            "text/plain": [
              "False"
            ]
          },
          "metadata": {},
          "execution_count": 17
        }
      ]
    },
    {
      "cell_type": "code",
      "metadata": {
        "colab": {
          "base_uri": "https://localhost:8080/"
        },
        "id": "lktdR3DcmM2L",
        "outputId": "96ce6824-9ada-4600-9609-19282043513d"
      },
      "source": [
        "if (\"WARNING\" in message) and (michael_bp > safe_max):\n",
        "    print(\"GO TO HOSPITAL\")\n",
        "else:\n",
        "    print(\"STAY AT HOME\")"
      ],
      "execution_count": 18,
      "outputs": [
        {
          "output_type": "stream",
          "name": "stdout",
          "text": [
            "GO TO HOSPITAL\n"
          ]
        }
      ]
    },
    {
      "cell_type": "code",
      "metadata": {
        "colab": {
          "base_uri": "https://localhost:8080/"
        },
        "id": "1YPNkJ8rmUE3",
        "outputId": "78edbbbc-0e51-4b93-a8d9-54df14c83490"
      },
      "source": [
        "name = \"Kofi\"\n",
        "\n",
        "print(name)          # output the value of name\n",
        "print( id(name) )    # output the memory location of the value of name\n",
        "print( type(name) )  # output the type of the value of name\n",
        "print( len(name) )   # output the length of (the value of) name "
      ],
      "execution_count": 19,
      "outputs": [
        {
          "output_type": "stream",
          "name": "stdout",
          "text": [
            "Kofi\n",
            "139913793056496\n",
            "<class 'str'>\n",
            "4\n"
          ]
        }
      ]
    },
    {
      "cell_type": "code",
      "metadata": {
        "colab": {
          "base_uri": "https://localhost:8080/"
        },
        "id": "7FOswK83mrQI",
        "outputId": "037324dc-7d5d-4c30-f6dd-49a76dd6261a"
      },
      "source": [
        "# data.operation(requirements)\n",
        "# obj.method(parameters)\n",
        "# ask name to upper() itself \n",
        "# ask name if it startswith(M)\n",
        "\n",
        "print( name.upper()  )\n",
        "print( name.lower()   )\n",
        "print( name.startswith(\"K\") )\n",
        "print( name.endswith(\"K\") )\n",
        "\n",
        "# all data in python is an object\n",
        "# objects are data structures:  values (properties), types (class), id, methods"
      ],
      "execution_count": 20,
      "outputs": [
        {
          "output_type": "stream",
          "name": "stdout",
          "text": [
            "KOFI\n",
            "kofi\n",
            "True\n",
            "False\n"
          ]
        }
      ]
    },
    {
      "cell_type": "code",
      "metadata": {
        "colab": {
          "base_uri": "https://localhost:8080/"
        },
        "id": "MiClmNjfnDhl",
        "outputId": "2eb7f5c7-97f0-4389-b1d5-2da98f269b0a"
      },
      "source": [
        "dir(name)[-5:] # lists the last 5 attributes & methods of the object "
      ],
      "execution_count": 21,
      "outputs": [
        {
          "output_type": "execute_result",
          "data": {
            "text/plain": [
              "['swapcase', 'title', 'translate', 'upper', 'zfill']"
            ]
          },
          "metadata": {},
          "execution_count": 21
        }
      ]
    },
    {
      "cell_type": "code",
      "metadata": {
        "colab": {
          "base_uri": "https://localhost:8080/"
        },
        "id": "tjnZGtrCnok6",
        "outputId": "d269b3d5-9cc5-4164-8a49-7efc30e9de9b"
      },
      "source": [
        "name = \"Clyde\"\n",
        "age = 48\n",
        "location = \"Chessington\"\n",
        "emotion = \"Happy\"\n",
        "print (name)\n",
        "print (age)\n",
        "print (location)\n",
        "print (emotion)\n",
        "print ( name.upper())\n",
        "print (location.upper())\n",
        "print (emotion.upper())\n",
        "print (age > 18)\n",
        "print (\"-\"*10)"
      ],
      "execution_count": 26,
      "outputs": [
        {
          "output_type": "stream",
          "name": "stdout",
          "text": [
            "Clyde\n",
            "48\n",
            "Chessington\n",
            "Happy\n",
            "CLYDE\n",
            "CHESSINGTON\n",
            "HAPPY\n",
            "True\n",
            "----------\n"
          ]
        }
      ]
    },
    {
      "cell_type": "code",
      "metadata": {
        "colab": {
          "base_uri": "https://localhost:8080/"
        },
        "id": "NiK8hhtppL5N",
        "outputId": "13d1d9ad-3c20-4e5d-dfd6-9f0807ae1425"
      },
      "source": [
        "def error(pred, obv):\n",
        "    return (pred - obv) ** 2\n",
        "\n",
        "error(3, 3.3)"
      ],
      "execution_count": 27,
      "outputs": [
        {
          "output_type": "execute_result",
          "data": {
            "text/plain": [
              "0.0899999999999999"
            ]
          },
          "metadata": {},
          "execution_count": 27
        }
      ]
    },
    {
      "cell_type": "code",
      "metadata": {
        "id": "2mM-ZEuzqDFO"
      },
      "source": [
        "def predict(age, height, parameters=(0.5, 0.5, 0)):\n",
        "    \"\"\"\n",
        "    Predict a weight (kg) from an age (yr), height (cm) and\n",
        "        parameters :\n",
        "            (age importance, height importance, base weight)\n",
        "    \"\"\"\n",
        "    # reset the scales so each goes from 0 to 1\n",
        "    age, height = age/100, height/200\n",
        "    \n",
        "    # extract the parameters for each variable\n",
        "    a, h, w = parameters\n",
        "    \n",
        "    # predict a weight\n",
        "    weight = 100 * (a * age + h * height + w)\n",
        "    \n",
        "    return round(weight, 2)"
      ],
      "execution_count": 28,
      "outputs": []
    },
    {
      "cell_type": "code",
      "metadata": {
        "colab": {
          "base_uri": "https://localhost:8080/"
        },
        "id": "Ddz8OVqzqmnD",
        "outputId": "cf7bdf92-60a1-47d0-b758-9a75419723f2"
      },
      "source": [
        "help(predict)"
      ],
      "execution_count": 29,
      "outputs": [
        {
          "output_type": "stream",
          "name": "stdout",
          "text": [
            "Help on function predict in module __main__:\n",
            "\n",
            "predict(age, height, parameters=(0.5, 0.5, 0))\n",
            "    Predict a weight (kg) from an age (yr), height (cm) and\n",
            "        parameters :\n",
            "            (age importance, height importance, base weight)\n",
            "\n"
          ]
        }
      ]
    },
    {
      "cell_type": "code",
      "metadata": {
        "colab": {
          "base_uri": "https://localhost:8080/"
        },
        "id": "cHN2J9H_q4vN",
        "outputId": "84631cfc-79d5-4cb1-af25-aa2d293ee32a"
      },
      "source": [
        "predict(10, 150, (0.6, 0.4, 0.2)) # pass arguments by position"
      ],
      "execution_count": 30,
      "outputs": [
        {
          "output_type": "execute_result",
          "data": {
            "text/plain": [
              "56.0"
            ]
          },
          "metadata": {},
          "execution_count": 30
        }
      ]
    },
    {
      "cell_type": "code",
      "metadata": {
        "colab": {
          "base_uri": "https://localhost:8080/"
        },
        "id": "lc5zkgSwrCr8",
        "outputId": "3ad93dfb-2118-4dcf-841b-cd2fe1864b06"
      },
      "source": [
        "predict(10, 150) # pass arguments by position, one by default"
      ],
      "execution_count": 31,
      "outputs": [
        {
          "output_type": "execute_result",
          "data": {
            "text/plain": [
              "42.5"
            ]
          },
          "metadata": {},
          "execution_count": 31
        }
      ]
    },
    {
      "cell_type": "code",
      "metadata": {
        "colab": {
          "base_uri": "https://localhost:8080/"
        },
        "id": "0pUcmsr4rQCX",
        "outputId": "28fcac8d-b058-464b-a8ee-ef0b7efbc67b"
      },
      "source": [
        "predict(age=10, height=150) # pass by name"
      ],
      "execution_count": 32,
      "outputs": [
        {
          "output_type": "execute_result",
          "data": {
            "text/plain": [
              "42.5"
            ]
          },
          "metadata": {},
          "execution_count": 32
        }
      ]
    },
    {
      "cell_type": "code",
      "metadata": {
        "colab": {
          "base_uri": "https://localhost:8080/"
        },
        "id": "0ZDmh4rfrX2W",
        "outputId": "6417620b-9941-4e1d-d6a0-a5fdab5612b1"
      },
      "source": [
        "# functions = procedures\n",
        "# can also not return anything\n",
        "\n",
        "def show_results(results):\n",
        "    print(\"-\" * 10)\n",
        "    print(results)\n",
        "    print(\"-\" * 10)\n",
        "    \n",
        "show_results([12, 12, 15])   # writes to screen, but has no return value\n",
        "\n",
        "def distance(x1, x2):\n",
        "    return (x2 - x1) ** 2   # euclidean distance, aka. L2 norm\n",
        "    \n",
        "\n",
        "dist = distance(10, 12)\n",
        "print(dist * 1.1)  # calculated value can be stored in variable\n",
        "\n",
        "\n",
        "rtn = show_results([10, 12])\n",
        "\n",
        "print(type(rtn))\n",
        "print(rtn) # nothing is stored here, no return value"
      ],
      "execution_count": 33,
      "outputs": [
        {
          "output_type": "stream",
          "name": "stdout",
          "text": [
            "----------\n",
            "[12, 12, 15]\n",
            "----------\n",
            "4.4\n",
            "----------\n",
            "[10, 12]\n",
            "----------\n",
            "<class 'NoneType'>\n",
            "None\n"
          ]
        }
      ]
    },
    {
      "cell_type": "code",
      "metadata": {
        "colab": {
          "base_uri": "https://localhost:8080/"
        },
        "id": "f7J4J_o5r2Iy",
        "outputId": "648fb77d-1848-4aa8-b06e-3c96c89ab860"
      },
      "source": [
        "def mean(x, y, z):\n",
        "    return (x + y + z)/3\n",
        "\n",
        "def cube(x):\n",
        "    return x ** 3\n",
        "\n",
        "def is_adult(age):\n",
        "    return age >= 18\n",
        "\n",
        "\n",
        "def show(m, c, a):\n",
        "    print(\"mean:\", m)\n",
        "    print(\"cube:\", c)\n",
        "    print(\"age:\", a)\n",
        "    \n",
        "mean_ages = mean(18,18,20)\n",
        "two_late = cube(2)\n",
        "teen = is_adult(15)\n",
        "\n",
        "show(mean_ages, two_late, teen)\n",
        "\n"
      ],
      "execution_count": 34,
      "outputs": [
        {
          "output_type": "stream",
          "name": "stdout",
          "text": [
            "mean: 18.666666666666668\n",
            "cube: 8\n",
            "age: False\n"
          ]
        }
      ]
    },
    {
      "cell_type": "code",
      "metadata": {
        "colab": {
          "base_uri": "https://localhost:8080/"
        },
        "id": "vD78yozLwEnH",
        "outputId": "55e34692-930b-428b-a2b3-1e35df6ec8d2"
      },
      "source": [
        "# strings\n",
        "\n",
        "quote = \"Be the change you wish to see in the world!\"\n",
        "\n",
        "print( quote[0] )   # first\n",
        "print( quote[1] )   # second\n",
        "print( quote[-2] )  # second from last\n",
        "print( quote[-1] )  # last"
      ],
      "execution_count": 35,
      "outputs": [
        {
          "output_type": "stream",
          "name": "stdout",
          "text": [
            "B\n",
            "e\n",
            "d\n",
            "!\n"
          ]
        }
      ]
    },
    {
      "cell_type": "code",
      "metadata": {
        "colab": {
          "base_uri": "https://localhost:8080/"
        },
        "id": "WaQkyeOTwhWG",
        "outputId": "8e28a9dd-f72b-42a7-ac58-0da81195de06"
      },
      "source": [
        "print( quote[0:2] )  # zero until postn-2"
      ],
      "execution_count": 36,
      "outputs": [
        {
          "output_type": "stream",
          "name": "stdout",
          "text": [
            "Be\n"
          ]
        }
      ]
    },
    {
      "cell_type": "code",
      "metadata": {
        "colab": {
          "base_uri": "https://localhost:8080/"
        },
        "id": "UOmUgbrzwseu",
        "outputId": "8726371a-2789-4ad9-d720-b930f678a96a"
      },
      "source": [
        "print( quote[0:-6] ) # beginning until -6th postn"
      ],
      "execution_count": 37,
      "outputs": [
        {
          "output_type": "stream",
          "name": "stdout",
          "text": [
            "Be the change you wish to see in the \n"
          ]
        }
      ]
    },
    {
      "cell_type": "code",
      "metadata": {
        "colab": {
          "base_uri": "https://localhost:8080/"
        },
        "id": "24M0s2g4w8dV",
        "outputId": "92647ed4-6b92-4a62-c358-acfaf93f5c4d"
      },
      "source": [
        "print( quote[0:-6]  + \" bed\" )"
      ],
      "execution_count": 38,
      "outputs": [
        {
          "output_type": "stream",
          "name": "stdout",
          "text": [
            "Be the change you wish to see in the  bed\n"
          ]
        }
      ]
    },
    {
      "cell_type": "code",
      "metadata": {
        "colab": {
          "base_uri": "https://localhost:8080/"
        },
        "id": "Sthx2M7UxOBr",
        "outputId": "356b52c2-8d7d-47fc-c8be-a5fc87ed898a"
      },
      "source": [
        "print(quote[:2])    # leave off start postn = zero\n",
        "print(quote[-6:] )  # leave off end postn = end of string"
      ],
      "execution_count": 39,
      "outputs": [
        {
          "output_type": "stream",
          "name": "stdout",
          "text": [
            "Be\n",
            "world!\n"
          ]
        }
      ]
    },
    {
      "cell_type": "code",
      "metadata": {
        "colab": {
          "base_uri": "https://localhost:8080/"
        },
        "id": "sF0Y1XhBxZL6",
        "outputId": "77fed3b8-24f7-4c32-b203-5c483f12ff27"
      },
      "source": [
        "# tuple\n",
        "\n",
        "point = (10, 20, 30)\n",
        "\n",
        "print( point[0] )\n",
        "print( point[1] )\n",
        "print( point[-1] )\n",
        "\n",
        "print( point[0:2] ) #slice, as with strings\n",
        "\n",
        "# point[0] = 15 # error: not allowed to overwrite\n",
        "\n",
        "# technically, () not required...\n",
        "\n",
        "address = \"OldSt\", \"London\"\n",
        "\n",
        "print(address)"
      ],
      "execution_count": 40,
      "outputs": [
        {
          "output_type": "stream",
          "name": "stdout",
          "text": [
            "10\n",
            "20\n",
            "30\n",
            "(10, 20)\n",
            "('OldSt', 'London')\n"
          ]
        }
      ]
    },
    {
      "cell_type": "code",
      "metadata": {
        "colab": {
          "base_uri": "https://localhost:8080/"
        },
        "id": "ZwccK2Dnxp0P",
        "outputId": "00f1e469-3dec-40a9-d86d-abb86f24ad56"
      },
      "source": [
        "# tuple\n",
        "\n",
        "point = (10, 20, 30)\n",
        "\n",
        "print( point[0] )\n",
        "print( point[1] )\n",
        "print( point[-1] )\n",
        "\n",
        "print( point[0:2] ) #slice, as with strings\n",
        "\n",
        "# point[0] = 15 # error: not allowed to overwrite\n",
        "\n",
        "# technically, () not required...\n",
        "\n",
        "address = \"OldSt\", \"London\"\n",
        "\n",
        "print(address)"
      ],
      "execution_count": 41,
      "outputs": [
        {
          "output_type": "stream",
          "name": "stdout",
          "text": [
            "10\n",
            "20\n",
            "30\n",
            "(10, 20)\n",
            "('OldSt', 'London')\n"
          ]
        }
      ]
    },
    {
      "cell_type": "code",
      "metadata": {
        "colab": {
          "base_uri": "https://localhost:8080/"
        },
        "id": "YHAgdsQQx_5U",
        "outputId": "6d3d1901-1e2f-423c-b4aa-2455f8471597"
      },
      "source": [
        "# lists\n",
        "# y target customer satisfaction\n",
        "# x customer features \n",
        "# (days-since-first-purchase, total-spent, nearest-store, addresss)\n",
        "#  \n",
        "\n",
        "x = [300, 1000, \"London\", (\"Old Street\", \"London\")]\n",
        "\n",
        "print(x)\n",
        "print(len(x))\n",
        "\n",
        "print(x[-1])\n",
        "print(len(x[-1]))"
      ],
      "execution_count": 42,
      "outputs": [
        {
          "output_type": "stream",
          "name": "stdout",
          "text": [
            "[300, 1000, 'London', ('Old Street', 'London')]\n",
            "4\n",
            "('Old Street', 'London')\n",
            "2\n"
          ]
        }
      ]
    },
    {
      "cell_type": "code",
      "metadata": {
        "colab": {
          "base_uri": "https://localhost:8080/"
        },
        "id": "Hbk5ItgTyGL8",
        "outputId": "b4c8bf1b-514a-4912-c168-2d690d6928f6"
      },
      "source": [
        "x.append(1)\n",
        "x"
      ],
      "execution_count": 43,
      "outputs": [
        {
          "output_type": "execute_result",
          "data": {
            "text/plain": [
              "[300, 1000, 'London', ('Old Street', 'London'), 1]"
            ]
          },
          "metadata": {},
          "execution_count": 43
        }
      ]
    },
    {
      "cell_type": "code",
      "metadata": {
        "colab": {
          "base_uri": "https://localhost:8080/"
        },
        "id": "V7b3xKttymts",
        "outputId": "2b7e1e2d-df19-402a-d103-e722142bb092"
      },
      "source": [
        "x.pop()"
      ],
      "execution_count": 44,
      "outputs": [
        {
          "output_type": "execute_result",
          "data": {
            "text/plain": [
              "1"
            ]
          },
          "metadata": {},
          "execution_count": 44
        }
      ]
    },
    {
      "cell_type": "code",
      "metadata": {
        "colab": {
          "base_uri": "https://localhost:8080/"
        },
        "id": "k7D8dzzbywXJ",
        "outputId": "8674013a-150a-465a-c6ca-3522c19816ce"
      },
      "source": [
        "print(x)\n",
        "x.insert(0, 1) # insert at postn 0, the element 1\n",
        "\n",
        "print(x)"
      ],
      "execution_count": 45,
      "outputs": [
        {
          "output_type": "stream",
          "name": "stdout",
          "text": [
            "[300, 1000, 'London', ('Old Street', 'London')]\n",
            "[1, 300, 1000, 'London', ('Old Street', 'London')]\n"
          ]
        }
      ]
    },
    {
      "cell_type": "code",
      "metadata": {
        "id": "AMTipjWNy2gl"
      },
      "source": [
        "def error(y_pred, y, i):\n",
        "    return (y_pred - y[i]) ** 2"
      ],
      "execution_count": 46,
      "outputs": []
    },
    {
      "cell_type": "code",
      "metadata": {
        "colab": {
          "base_uri": "https://localhost:8080/"
        },
        "id": "Vvv6LV-hzNIO",
        "outputId": "a05a8154-be9e-4922-a34e-af8998719bcf"
      },
      "source": [
        "y = [2, 3, 5, 8]\n",
        "guess = 2.2\n",
        "\n",
        "error(guess, y, 1)   #   (2.2 - 3) ** 2"
      ],
      "execution_count": 47,
      "outputs": [
        {
          "output_type": "execute_result",
          "data": {
            "text/plain": [
              "0.6399999999999997"
            ]
          },
          "metadata": {},
          "execution_count": 47
        }
      ]
    },
    {
      "cell_type": "code",
      "metadata": {
        "colab": {
          "base_uri": "https://localhost:8080/"
        },
        "id": "ZHkrODaFzePk",
        "outputId": "d1c0bcb2-3a51-4e0b-d927-30fb651da36e"
      },
      "source": [
        "cart = [\"orange\", \"apple\", \"banana\", \"carrot\", \"cabbage\", \"peas\", \"lettuce\"]\n",
        "print (cart)\n",
        "print (cart [0])\n",
        "print (cart [-1])\n",
        "print (cart [2:4])\n",
        "\n",
        "cart.insert(0, \"pear\")\n",
        "print (cart)\n",
        "\n",
        "\n"
      ],
      "execution_count": 53,
      "outputs": [
        {
          "output_type": "stream",
          "name": "stdout",
          "text": [
            "['orange', 'apple', 'banana', 'carrot', 'cabbage', 'peas', 'lettuce']\n",
            "orange\n",
            "lettuce\n",
            "['banana', 'carrot']\n",
            "['pear', 'orange', 'apple', 'banana', 'carrot', 'cabbage', 'peas', 'lettuce']\n"
          ]
        }
      ]
    },
    {
      "cell_type": "code",
      "metadata": {
        "colab": {
          "base_uri": "https://localhost:8080/"
        },
        "id": "Hi_apiohGg9E",
        "outputId": "4d2a5033-50e4-4570-995a-7b6a251ed052"
      },
      "source": [
        "user = {\n",
        "    \"name\": \"kofi\",\n",
        "    \"age\": 41,\n",
        "    \"location\": \"uk\"\n",
        "}\n",
        "\n",
        "print(user[\"name\"])     # use string keys to look up value rather than int index\n",
        "print(user[\"age\"])\n",
        "print(user[\"location\"])"
      ],
      "execution_count": 54,
      "outputs": [
        {
          "output_type": "stream",
          "name": "stdout",
          "text": [
            "kofi\n",
            "41\n",
            "uk\n"
          ]
        }
      ]
    },
    {
      "cell_type": "code",
      "metadata": {
        "colab": {
          "base_uri": "https://localhost:8080/",
          "height": 35
        },
        "id": "04xu8ww0HUwE",
        "outputId": "564f748a-688f-456a-835b-81cc3bf3e2d7"
      },
      "source": [
        "# data science example: labelling for Fraud|NotFraud\n",
        "# dict keys can be lots of diff. thigns, not just strings...\n",
        "# but must be unique!\n",
        "# key = (age, days-since-purchase-of-insurance)  \n",
        "user = {\n",
        "    (18, 13) : \"Fraud\",\n",
        "    (60, 300) : \"NotFraud\"\n",
        "}\n",
        "\n",
        "user[(18, 13)]"
      ],
      "execution_count": 55,
      "outputs": [
        {
          "output_type": "execute_result",
          "data": {
            "application/vnd.google.colaboratory.intrinsic+json": {
              "type": "string"
            },
            "text/plain": [
              "'Fraud'"
            ]
          },
          "metadata": {},
          "execution_count": 55
        }
      ]
    },
    {
      "cell_type": "code",
      "metadata": {
        "colab": {
          "base_uri": "https://localhost:8080/"
        },
        "id": "eVl-a5ASH32B",
        "outputId": "5f038ec8-1ddf-4dd1-fa42-ffdb8ba76ba9"
      },
      "source": [
        "# dictionaries more commonly are more like matrices...\n",
        "users = {\n",
        "    \"age-at-purchase\": [18, 60],\n",
        "    \"days-from-purcahse\": [13, 300]\n",
        "}\n",
        "\n",
        "ages = users['age-at-purchase']\n",
        "\n",
        "sum(ages)/len(ages)"
      ],
      "execution_count": 56,
      "outputs": [
        {
          "output_type": "execute_result",
          "data": {
            "text/plain": [
              "39.0"
            ]
          },
          "metadata": {},
          "execution_count": 56
        }
      ]
    },
    {
      "cell_type": "code",
      "metadata": {
        "colab": {
          "base_uri": "https://localhost:8080/"
        },
        "id": "n8k27a20IFTe",
        "outputId": "73547c1d-532e-4704-da96-64cd1561b067"
      },
      "source": [
        "user_age = 18\n",
        "\n",
        "if user_age > 65:                      # colons\n",
        "    print(\"See Retirement Plans\")      # indentation\n",
        "elif user_age > 21:                    # keyword, elif\n",
        "    print(\"See Vocation Plans\")\n",
        "elif user_age > 13:\n",
        "    print(\"See Education Plans\")\n",
        "else:\n",
        "    print(\"See your mother!\")\n",
        "    "
      ],
      "execution_count": 57,
      "outputs": [
        {
          "output_type": "stream",
          "name": "stdout",
          "text": [
            "See Education Plans\n"
          ]
        }
      ]
    },
    {
      "cell_type": "code",
      "metadata": {
        "colab": {
          "base_uri": "https://localhost:8080/"
        },
        "id": "Lg9AIwpCIhpb",
        "outputId": "a99a9b25-e066-4a3d-b669-87e9301619eb"
      },
      "source": [
        "# while loops are rare, usually bad -- repeating\n",
        "\n",
        "ratings = [5,5,6,7,8,1]\n",
        "\n",
        "while len(ratings) > 0:\n",
        "    print(ratings.pop())    # remove last one\n",
        "    \n",
        "    "
      ],
      "execution_count": 58,
      "outputs": [
        {
          "output_type": "stream",
          "name": "stdout",
          "text": [
            "1\n",
            "8\n",
            "7\n",
            "6\n",
            "5\n",
            "5\n"
          ]
        }
      ]
    },
    {
      "cell_type": "code",
      "metadata": {
        "colab": {
          "base_uri": "https://localhost:8080/"
        },
        "id": "aca4fCzgIvo0",
        "outputId": "92185e4d-0b9d-4cb3-8354-8b45997f622a"
      },
      "source": [
        "# for loop -- data processing loop\n",
        "\n",
        "ratings = [5,5,6,7,8,1]\n",
        "\n",
        "for element in ratings:      # for name-of-each-element  in source-data-input\n",
        "    print(element)           # algorithm for processing each-element\n",
        "    \n",
        "ratings"
      ],
      "execution_count": 59,
      "outputs": [
        {
          "output_type": "stream",
          "name": "stdout",
          "text": [
            "5\n",
            "5\n",
            "6\n",
            "7\n",
            "8\n",
            "1\n"
          ]
        },
        {
          "output_type": "execute_result",
          "data": {
            "text/plain": [
              "[5, 5, 6, 7, 8, 1]"
            ]
          },
          "metadata": {},
          "execution_count": 59
        }
      ]
    },
    {
      "cell_type": "code",
      "metadata": {
        "colab": {
          "base_uri": "https://localhost:8080/"
        },
        "id": "x87prLTDI9ZQ",
        "outputId": "d5d29235-b498-460a-cfe8-2ee34d90f5b3"
      },
      "source": [
        "bp = float(input(\"BP?\"))\n",
        "hr = float(input(\"HR?\"))\n",
        "\n",
        "if (bp > 200) or (hr > 200):\n",
        "    print(\"WARNING\")\n",
        "elif (bp > 150) and (hr > 170):\n",
        "    print(\"WARNING\")\n",
        "elif (bp < 100) and (hr < 40):\n",
        "    print(\"WARNING\")\n",
        "else:\n",
        "    print(\"OK!\")"
      ],
      "execution_count": 60,
      "outputs": [
        {
          "output_type": "stream",
          "name": "stdout",
          "text": [
            "BP?62\n",
            "HR?78\n",
            "OK!\n"
          ]
        }
      ]
    },
    {
      "cell_type": "code",
      "metadata": {
        "colab": {
          "base_uri": "https://localhost:8080/"
        },
        "id": "HkA8WsSiJig8",
        "outputId": "b46ceb68-4a1a-4ace-a5d4-abb35ba13167"
      },
      "source": [
        "feeling = input(\"How do you feel? \")"
      ],
      "execution_count": 61,
      "outputs": [
        {
          "name": "stdout",
          "output_type": "stream",
          "text": [
            "How do you feel? Happy\n"
          ]
        }
      ]
    },
    {
      "cell_type": "code",
      "metadata": {
        "colab": {
          "base_uri": "https://localhost:8080/"
        },
        "id": "tgFHEWRLJ7Q8",
        "outputId": "60bc05f1-0e9d-4023-a6ae-581a4daba5f9"
      },
      "source": [
        "if (\"sad\" in feeling) or (feeling.endswith(\"!?\")):\n",
        "    print(\"try some exercise!\")\n",
        "elif (\"happy\" in feeling) or (feeling.endswith(\"!\")):\n",
        "    print(\"try relaxing\")\n",
        "else:\n",
        "    print(\"not possible to offer advice\")"
      ],
      "execution_count": 62,
      "outputs": [
        {
          "output_type": "stream",
          "name": "stdout",
          "text": [
            "not possible to offer advice\n"
          ]
        }
      ]
    },
    {
      "cell_type": "code",
      "metadata": {
        "id": "q_7nTvWfKCui"
      },
      "source": [
        "hrs = [60, 70, 80]\n",
        "bps = [100, 200, 250]"
      ],
      "execution_count": 63,
      "outputs": []
    },
    {
      "cell_type": "code",
      "metadata": {
        "colab": {
          "base_uri": "https://localhost:8080/"
        },
        "id": "0H3eRNHHKfGA",
        "outputId": "109f0f68-ccf2-4e6e-f73a-e4fd824fae04"
      },
      "source": [
        "bundled = list(zip(hrs, bps))\n",
        "bundled"
      ],
      "execution_count": 64,
      "outputs": [
        {
          "output_type": "execute_result",
          "data": {
            "text/plain": [
              "[(60, 100), (70, 200), (80, 250)]"
            ]
          },
          "metadata": {},
          "execution_count": 64
        }
      ]
    },
    {
      "cell_type": "code",
      "metadata": {
        "colab": {
          "base_uri": "https://localhost:8080/"
        },
        "id": "KHkbXyY7KiIf",
        "outputId": "7d333962-4657-4854-8308-647c890f6f89"
      },
      "source": [
        "for hr, bp in zip(hrs, bps):\n",
        "    print(hr, bp)"
      ],
      "execution_count": 65,
      "outputs": [
        {
          "output_type": "stream",
          "name": "stdout",
          "text": [
            "60 100\n",
            "70 200\n",
            "80 250\n"
          ]
        }
      ]
    },
    {
      "cell_type": "code",
      "metadata": {
        "colab": {
          "base_uri": "https://localhost:8080/"
        },
        "id": "z0xBURKOKmnQ",
        "outputId": "531e3d61-42b4-4899-fb8d-86e20781435e"
      },
      "source": [
        "for hr, bp in zip(hrs, bps):\n",
        "    print(\"We measured: \", hr, \"bpm\")\n",
        "    print(\"We measured: \", bp, \"mmHg\")\n",
        "    \n",
        "    if (hr > 200) or (bp > 200):\n",
        "        print(\"WARNING\")\n",
        "    else:\n",
        "        print(\"OK\")\n",
        "        \n",
        "    print() # prints an empty line"
      ],
      "execution_count": 66,
      "outputs": [
        {
          "output_type": "stream",
          "name": "stdout",
          "text": [
            "We measured:  60 bpm\n",
            "We measured:  100 mmHg\n",
            "OK\n",
            "\n",
            "We measured:  70 bpm\n",
            "We measured:  200 mmHg\n",
            "OK\n",
            "\n",
            "We measured:  80 bpm\n",
            "We measured:  250 mmHg\n",
            "WARNING\n",
            "\n"
          ]
        }
      ]
    },
    {
      "cell_type": "code",
      "metadata": {
        "colab": {
          "base_uri": "https://localhost:8080/"
        },
        "id": "FKkBUZzNKu9k",
        "outputId": "f238f7d4-a40d-4713-cddc-7c771d18b0ee"
      },
      "source": [
        "list(range(0, 100, 20))"
      ],
      "execution_count": 67,
      "outputs": [
        {
          "output_type": "execute_result",
          "data": {
            "text/plain": [
              "[0, 20, 40, 60, 80]"
            ]
          },
          "metadata": {},
          "execution_count": 67
        }
      ]
    },
    {
      "cell_type": "code",
      "metadata": {
        "colab": {
          "base_uri": "https://localhost:8080/"
        },
        "id": "_9BmENMVLITt",
        "outputId": "a479e766-9ca1-4d12-a9e8-835cf17509ce"
      },
      "source": [
        "for i in range(0, 100, 20):\n",
        "    print(i)"
      ],
      "execution_count": 68,
      "outputs": [
        {
          "output_type": "stream",
          "name": "stdout",
          "text": [
            "0\n",
            "20\n",
            "40\n",
            "60\n",
            "80\n"
          ]
        }
      ]
    },
    {
      "cell_type": "code",
      "metadata": {
        "colab": {
          "base_uri": "https://localhost:8080/"
        },
        "id": "kSaVasWsLLRG",
        "outputId": "11ea5260-05fc-4cf5-ed68-6c5eeb9400d2"
      },
      "source": [
        "predicted_hr = []\n",
        "\n",
        "for hr in range(60, 180, 10):\n",
        "    predicted_hr.append(0.9 * hr + 1)\n",
        "    \n",
        "predicted_hr"
      ],
      "execution_count": 69,
      "outputs": [
        {
          "output_type": "execute_result",
          "data": {
            "text/plain": [
              "[55.0, 64.0, 73.0, 82.0, 91.0, 100.0, 109.0, 118.0, 127.0, 136.0, 145.0, 154.0]"
            ]
          },
          "metadata": {},
          "execution_count": 69
        }
      ]
    },
    {
      "cell_type": "code",
      "metadata": {
        "id": "O4nuQnxELRhL"
      },
      "source": [
        "hr_readings = [70,50,60,80]"
      ],
      "execution_count": 70,
      "outputs": []
    },
    {
      "cell_type": "code",
      "metadata": {
        "colab": {
          "base_uri": "https://localhost:8080/"
        },
        "id": "e1coWXN1LakN",
        "outputId": "210e7966-6da4-450f-8cf4-99d11074596e"
      },
      "source": [
        "for hr in hr_readings:\n",
        "    print(hr)"
      ],
      "execution_count": 71,
      "outputs": [
        {
          "output_type": "stream",
          "name": "stdout",
          "text": [
            "70\n",
            "50\n",
            "60\n",
            "80\n"
          ]
        }
      ]
    },
    {
      "cell_type": "code",
      "metadata": {
        "colab": {
          "base_uri": "https://localhost:8080/"
        },
        "id": "fVFGh7OqLdN3",
        "outputId": "258c12dd-9e10-4454-cd92-432b42a56bc9"
      },
      "source": [
        "for i, hr in enumerate(hr_readings):\n",
        "    print(f\"Reading {i + 1} was {hr} bpm\")"
      ],
      "execution_count": 72,
      "outputs": [
        {
          "output_type": "stream",
          "name": "stdout",
          "text": [
            "Reading 1 was 70 bpm\n",
            "Reading 2 was 50 bpm\n",
            "Reading 3 was 60 bpm\n",
            "Reading 4 was 80 bpm\n"
          ]
        }
      ]
    },
    {
      "cell_type": "code",
      "metadata": {
        "colab": {
          "base_uri": "https://localhost:8080/"
        },
        "id": "9iEb8AFzLiVZ",
        "outputId": "39ce4f2f-e522-4be5-8246-c66216ac5c8f"
      },
      "source": [
        "# iterators -- like data structures, but whole data not stored...\n",
        "\n",
        "ten = range(0, 10)\n",
        "\n",
        "print(ten)"
      ],
      "execution_count": 73,
      "outputs": [
        {
          "output_type": "stream",
          "name": "stdout",
          "text": [
            "range(0, 10)\n"
          ]
        }
      ]
    },
    {
      "cell_type": "code",
      "metadata": {
        "colab": {
          "base_uri": "https://localhost:8080/"
        },
        "id": "JaR2wY8vLqq5",
        "outputId": "0c2a4212-8c6e-4e3e-ea0e-fc17502aea67"
      },
      "source": [
        "for i in ten:      # the range gives a number each go around\n",
        "    print(i)"
      ],
      "execution_count": 74,
      "outputs": [
        {
          "output_type": "stream",
          "name": "stdout",
          "text": [
            "0\n",
            "1\n",
            "2\n",
            "3\n",
            "4\n",
            "5\n",
            "6\n",
            "7\n",
            "8\n",
            "9\n"
          ]
        }
      ]
    },
    {
      "cell_type": "code",
      "metadata": {
        "colab": {
          "base_uri": "https://localhost:8080/"
        },
        "id": "awB6EZcyLtx9",
        "outputId": "a293b019-f939-4c01-9448-070663611380"
      },
      "source": [
        "numbers = list(ten) # collects all data from ten into list, which stores all in memory\n",
        "\n",
        "numbers"
      ],
      "execution_count": 75,
      "outputs": [
        {
          "output_type": "execute_result",
          "data": {
            "text/plain": [
              "[0, 1, 2, 3, 4, 5, 6, 7, 8, 9]"
            ]
          },
          "metadata": {},
          "execution_count": 75
        }
      ]
    },
    {
      "cell_type": "code",
      "metadata": {
        "colab": {
          "base_uri": "https://localhost:8080/",
          "height": 200
        },
        "id": "4S9ZZm9ELyee",
        "outputId": "f3ee0141-23a4-45c3-89dd-709c91a3123a"
      },
      "source": [
        "age = \"18\"\n",
        "\n",
        "age < 20"
      ],
      "execution_count": 76,
      "outputs": [
        {
          "output_type": "error",
          "ename": "TypeError",
          "evalue": "ignored",
          "traceback": [
            "\u001b[0;31m---------------------------------------------------------------------------\u001b[0m",
            "\u001b[0;31mTypeError\u001b[0m                                 Traceback (most recent call last)",
            "\u001b[0;32m<ipython-input-76-387956351189>\u001b[0m in \u001b[0;36m<module>\u001b[0;34m()\u001b[0m\n\u001b[1;32m      1\u001b[0m \u001b[0mage\u001b[0m \u001b[0;34m=\u001b[0m \u001b[0;34m\"18\"\u001b[0m\u001b[0;34m\u001b[0m\u001b[0;34m\u001b[0m\u001b[0m\n\u001b[1;32m      2\u001b[0m \u001b[0;34m\u001b[0m\u001b[0m\n\u001b[0;32m----> 3\u001b[0;31m \u001b[0mage\u001b[0m \u001b[0;34m<\u001b[0m \u001b[0;36m20\u001b[0m\u001b[0;34m\u001b[0m\u001b[0;34m\u001b[0m\u001b[0m\n\u001b[0m",
            "\u001b[0;31mTypeError\u001b[0m: '<' not supported between instances of 'str' and 'int'"
          ]
        }
      ]
    },
    {
      "cell_type": "code",
      "metadata": {
        "colab": {
          "base_uri": "https://localhost:8080/"
        },
        "id": "qq1O7ynGL3eU",
        "outputId": "53ce0f7d-685c-4001-de53-49dd0d999e34"
      },
      "source": [
        "int(age) < 20"
      ],
      "execution_count": 77,
      "outputs": [
        {
          "output_type": "execute_result",
          "data": {
            "text/plain": [
              "True"
            ]
          },
          "metadata": {},
          "execution_count": 77
        }
      ]
    },
    {
      "cell_type": "code",
      "metadata": {
        "colab": {
          "base_uri": "https://localhost:8080/",
          "height": 35
        },
        "id": "LnqfZ3V5L87b",
        "outputId": "5f14044d-7b56-44c0-ba5b-d68f0b20639d"
      },
      "source": [
        "str(5) * 2  # \"5\" * 2"
      ],
      "execution_count": 78,
      "outputs": [
        {
          "output_type": "execute_result",
          "data": {
            "application/vnd.google.colaboratory.intrinsic+json": {
              "type": "string"
            },
            "text/plain": [
              "'55'"
            ]
          },
          "metadata": {},
          "execution_count": 78
        }
      ]
    },
    {
      "cell_type": "code",
      "metadata": {
        "colab": {
          "base_uri": "https://localhost:8080/"
        },
        "id": "w4j_C3cqL_ud",
        "outputId": "464357a7-b004-424a-8116-e4fb6aeaded7"
      },
      "source": [
        "dict( [ (\"name\", \"Michael\"), (\"age\", 29 )])"
      ],
      "execution_count": 79,
      "outputs": [
        {
          "output_type": "execute_result",
          "data": {
            "text/plain": [
              "{'age': 29, 'name': 'Michael'}"
            ]
          },
          "metadata": {},
          "execution_count": 79
        }
      ]
    },
    {
      "cell_type": "code",
      "metadata": {
        "id": "00ffolywMC7M"
      },
      "source": [
        ""
      ],
      "execution_count": null,
      "outputs": []
    }
  ]
}