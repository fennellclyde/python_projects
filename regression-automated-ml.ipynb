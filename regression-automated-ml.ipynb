{
  "cells": [
    {
      "cell_type": "markdown",
      "source": [
        "Copyright (c) Microsoft Corporation. All rights reserved."
      ],
      "metadata": {}
    },
    {
      "cell_type": "markdown",
      "source": [
        "![Impressions](https://PixelServer20190423114238.azurewebsites.net/api/impressions/NotebookVM/tutorials/regression-part2-automated-ml.png)"
      ],
      "metadata": {}
    },
    {
      "cell_type": "markdown",
      "source": [
        "# Tutorial: Use automated machine learning to predict taxi fares"
      ],
      "metadata": {}
    },
    {
      "cell_type": "markdown",
      "source": [
        "In this tutorial, you use automated machine learning in Azure Machine Learning service to create a regression model to predict NYC taxi fare prices. This process accepts training data and configuration settings, and automatically iterates through combinations of different feature normalization/standardization methods, models, and hyperparameter settings to arrive at the best model.\n",
        "\n",
        "In this tutorial you learn the following tasks:\n",
        "\n",
        "* Download, transform, and clean data using Azure Open Datasets\n",
        "* Train an automated machine learning regression model\n",
        "* Calculate model accuracy\n",
        "\n",
        "If you donâ€™t have an Azure subscription, create a free account before you begin. Try the [free or paid version](https://aka.ms/AMLFree) of Azure Machine Learning service today."
      ],
      "metadata": {}
    },
    {
      "cell_type": "markdown",
      "source": [
        "## Prerequisites"
      ],
      "metadata": {}
    },
    {
      "cell_type": "markdown",
      "source": [
        "* Complete the [setup tutorial](https://docs.microsoft.com/azure/machine-learning/service/tutorial-1st-experiment-sdk-setup) if you don't already have an Azure Machine Learning service workspace or notebook virtual machine.\n",
        "* After you complete the setup tutorial, open the **tutorials/regression-automated-ml.ipynb** notebook using the same notebook server.\n",
        "\n",
        "This tutorial is also available on [GitHub](https://github.com/Azure/MachineLearningNotebooks/tree/master/tutorials) if you wish to run it in your own [local environment](https://github.com/Azure/MachineLearningNotebooks/blob/master/how-to-use-azureml/automated-machine-learning/README.md#setup-using-a-local-conda-environment)."
      ],
      "metadata": {}
    },
    {
      "cell_type": "markdown",
      "source": [
        "## Download and prepare data"
      ],
      "metadata": {}
    },
    {
      "cell_type": "markdown",
      "source": [
        "Import the necessary packages. The Open Datasets package contains a class representing each data source (`NycTlcGreen` for example) to easily filter date parameters before downloading."
      ],
      "metadata": {}
    },
    {
      "cell_type": "code",
      "source": [
        "import pandas as pd\n",
        "from azureml.core import Dataset\n",
        "from datetime import datetime\n",
        "from dateutil.relativedelta import relativedelta"
      ],
      "outputs": [],
      "execution_count": 1,
      "metadata": {
        "gather": {
          "logged": 1638287851845
        }
      }
    },
    {
      "cell_type": "markdown",
      "source": [
        "Begin by creating a dataframe to hold the taxi data. Then preview the data."
      ],
      "metadata": {}
    },
    {
      "cell_type": "code",
      "source": [
        "green_taxi_dataset = Dataset.Tabular.from_parquet_files(path=\"https://automlsamplenotebookdata.blob.core.windows.net/automl-sample-notebook-data/green_taxi_data.parquet\")\n",
        "green_taxi_df = green_taxi_dataset.to_pandas_dataframe()\n",
        "green_taxi_df.head(10)"
      ],
      "outputs": [
        {
          "output_type": "execute_result",
          "execution_count": 2,
          "data": {
            "text/plain": "   vendorID         lpepPickupDatetime        lpepDropoffDatetime  \\\n0         2 1970-01-01 00:23:42.643089 1970-01-01 00:23:42.644509   \n1         1 1970-01-01 00:23:41.536899 1970-01-01 00:23:41.537716   \n2         2 1970-01-01 00:23:41.372320 1970-01-01 00:23:41.373175   \n3         2 1970-01-01 00:23:40.391366 1970-01-01 00:23:40.391772   \n4         1 1970-01-01 00:23:41.230257 1970-01-01 00:23:41.231610   \n5         2 1970-01-01 00:23:41.691041 1970-01-01 00:23:41.692340   \n6         2 1970-01-01 00:23:40.127061 1970-01-01 00:23:40.127416   \n7         2 1970-01-01 00:23:41.049681 1970-01-01 00:23:41.050492   \n8         1 1970-01-01 00:23:41.445266 1970-01-01 00:23:41.446359   \n9         2 1970-01-01 00:23:40.526093 1970-01-01 00:23:40.526663   \n\n   passengerCount  tripDistance puLocationId doLocationId  pickupLongitude  \\\n0               1          1.88         None         None       -73.996155   \n1               1          2.70         None         None       -73.978508   \n2               1          3.54         None         None       -73.957787   \n3               1          1.00         None         None       -73.919914   \n4               1          5.10         None         None       -73.943710   \n5               1          7.41         None         None       -73.940918   \n6               1          1.03         None         None       -73.985718   \n7               5          2.94         None         None       -73.939865   \n8               1          3.00         None         None       -73.957939   \n9               1          2.31         None         None       -73.943825   \n\n   pickupLatitude  dropoffLongitude  ...  fareAmount  extra mtaTax  \\\n0       40.690903        -73.964287  ...        15.0    1.0    0.5   \n1       40.687984        -73.955116  ...        11.5    0.5    0.5   \n2       40.721779        -73.963005  ...        13.5    0.5    0.5   \n3       40.826023        -73.904839  ...         6.5    0.0    0.5   \n4       40.825439        -73.982964  ...        18.5    0.0    0.5   \n5       40.839714        -73.994339  ...        24.0    0.0    0.5   \n6       40.685646        -73.996773  ...         6.5    0.0    0.5   \n7       40.789822        -73.952957  ...        12.5    0.0    0.5   \n8       40.721928        -73.926247  ...        14.0    0.5    0.5   \n9       40.810257        -73.943062  ...        10.0    0.0    0.5   \n\n   improvementSurcharge  tipAmount  tollsAmount  ehailFee totalAmount  \\\n0                   0.3       4.00          0.0      None       20.80   \n1                   0.3       2.55          0.0      None       15.35   \n2                   0.3       2.80          0.0      None       17.60   \n3                   0.3       0.00          0.0      None        7.30   \n4                   0.3       3.85          0.0      None       23.15   \n5                   0.3       4.80          0.0      None       29.60   \n6                   0.3       1.30          0.0      None        8.60   \n7                   0.3       0.00          0.0      None       13.30   \n8                   0.3       2.00          0.0      None       17.30   \n9                   0.3       2.00          0.0      None       12.80   \n\n   tripType          __index_level_0__  \n0       1.0 1970-01-01 00:23:42.643089  \n1       1.0 1970-01-01 00:23:41.536899  \n2       1.0 1970-01-01 00:23:41.372320  \n3       1.0 1970-01-01 00:23:40.391366  \n4       1.0 1970-01-01 00:23:41.230257  \n5       1.0 1970-01-01 00:23:41.691041  \n6       1.0 1970-01-01 00:23:40.127061  \n7       1.0 1970-01-01 00:23:41.049681  \n8       1.0 1970-01-01 00:23:41.445266  \n9       1.0 1970-01-01 00:23:40.526093  \n\n[10 rows x 24 columns]",
            "text/html": "<div>\n<style scoped>\n    .dataframe tbody tr th:only-of-type {\n        vertical-align: middle;\n    }\n\n    .dataframe tbody tr th {\n        vertical-align: top;\n    }\n\n    .dataframe thead th {\n        text-align: right;\n    }\n</style>\n<table border=\"1\" class=\"dataframe\">\n  <thead>\n    <tr style=\"text-align: right;\">\n      <th></th>\n      <th>vendorID</th>\n      <th>lpepPickupDatetime</th>\n      <th>lpepDropoffDatetime</th>\n      <th>passengerCount</th>\n      <th>tripDistance</th>\n      <th>puLocationId</th>\n      <th>doLocationId</th>\n      <th>pickupLongitude</th>\n      <th>pickupLatitude</th>\n      <th>dropoffLongitude</th>\n      <th>...</th>\n      <th>fareAmount</th>\n      <th>extra</th>\n      <th>mtaTax</th>\n      <th>improvementSurcharge</th>\n      <th>tipAmount</th>\n      <th>tollsAmount</th>\n      <th>ehailFee</th>\n      <th>totalAmount</th>\n      <th>tripType</th>\n      <th>__index_level_0__</th>\n    </tr>\n  </thead>\n  <tbody>\n    <tr>\n      <th>0</th>\n      <td>2</td>\n      <td>1970-01-01 00:23:42.643089</td>\n      <td>1970-01-01 00:23:42.644509</td>\n      <td>1</td>\n      <td>1.88</td>\n      <td>None</td>\n      <td>None</td>\n      <td>-73.996155</td>\n      <td>40.690903</td>\n      <td>-73.964287</td>\n      <td>...</td>\n      <td>15.0</td>\n      <td>1.0</td>\n      <td>0.5</td>\n      <td>0.3</td>\n      <td>4.00</td>\n      <td>0.0</td>\n      <td>None</td>\n      <td>20.80</td>\n      <td>1.0</td>\n      <td>1970-01-01 00:23:42.643089</td>\n    </tr>\n    <tr>\n      <th>1</th>\n      <td>1</td>\n      <td>1970-01-01 00:23:41.536899</td>\n      <td>1970-01-01 00:23:41.537716</td>\n      <td>1</td>\n      <td>2.70</td>\n      <td>None</td>\n      <td>None</td>\n      <td>-73.978508</td>\n      <td>40.687984</td>\n      <td>-73.955116</td>\n      <td>...</td>\n      <td>11.5</td>\n      <td>0.5</td>\n      <td>0.5</td>\n      <td>0.3</td>\n      <td>2.55</td>\n      <td>0.0</td>\n      <td>None</td>\n      <td>15.35</td>\n      <td>1.0</td>\n      <td>1970-01-01 00:23:41.536899</td>\n    </tr>\n    <tr>\n      <th>2</th>\n      <td>2</td>\n      <td>1970-01-01 00:23:41.372320</td>\n      <td>1970-01-01 00:23:41.373175</td>\n      <td>1</td>\n      <td>3.54</td>\n      <td>None</td>\n      <td>None</td>\n      <td>-73.957787</td>\n      <td>40.721779</td>\n      <td>-73.963005</td>\n      <td>...</td>\n      <td>13.5</td>\n      <td>0.5</td>\n      <td>0.5</td>\n      <td>0.3</td>\n      <td>2.80</td>\n      <td>0.0</td>\n      <td>None</td>\n      <td>17.60</td>\n      <td>1.0</td>\n      <td>1970-01-01 00:23:41.372320</td>\n    </tr>\n    <tr>\n      <th>3</th>\n      <td>2</td>\n      <td>1970-01-01 00:23:40.391366</td>\n      <td>1970-01-01 00:23:40.391772</td>\n      <td>1</td>\n      <td>1.00</td>\n      <td>None</td>\n      <td>None</td>\n      <td>-73.919914</td>\n      <td>40.826023</td>\n      <td>-73.904839</td>\n      <td>...</td>\n      <td>6.5</td>\n      <td>0.0</td>\n      <td>0.5</td>\n      <td>0.3</td>\n      <td>0.00</td>\n      <td>0.0</td>\n      <td>None</td>\n      <td>7.30</td>\n      <td>1.0</td>\n      <td>1970-01-01 00:23:40.391366</td>\n    </tr>\n    <tr>\n      <th>4</th>\n      <td>1</td>\n      <td>1970-01-01 00:23:41.230257</td>\n      <td>1970-01-01 00:23:41.231610</td>\n      <td>1</td>\n      <td>5.10</td>\n      <td>None</td>\n      <td>None</td>\n      <td>-73.943710</td>\n      <td>40.825439</td>\n      <td>-73.982964</td>\n      <td>...</td>\n      <td>18.5</td>\n      <td>0.0</td>\n      <td>0.5</td>\n      <td>0.3</td>\n      <td>3.85</td>\n      <td>0.0</td>\n      <td>None</td>\n      <td>23.15</td>\n      <td>1.0</td>\n      <td>1970-01-01 00:23:41.230257</td>\n    </tr>\n    <tr>\n      <th>5</th>\n      <td>2</td>\n      <td>1970-01-01 00:23:41.691041</td>\n      <td>1970-01-01 00:23:41.692340</td>\n      <td>1</td>\n      <td>7.41</td>\n      <td>None</td>\n      <td>None</td>\n      <td>-73.940918</td>\n      <td>40.839714</td>\n      <td>-73.994339</td>\n      <td>...</td>\n      <td>24.0</td>\n      <td>0.0</td>\n      <td>0.5</td>\n      <td>0.3</td>\n      <td>4.80</td>\n      <td>0.0</td>\n      <td>None</td>\n      <td>29.60</td>\n      <td>1.0</td>\n      <td>1970-01-01 00:23:41.691041</td>\n    </tr>\n    <tr>\n      <th>6</th>\n      <td>2</td>\n      <td>1970-01-01 00:23:40.127061</td>\n      <td>1970-01-01 00:23:40.127416</td>\n      <td>1</td>\n      <td>1.03</td>\n      <td>None</td>\n      <td>None</td>\n      <td>-73.985718</td>\n      <td>40.685646</td>\n      <td>-73.996773</td>\n      <td>...</td>\n      <td>6.5</td>\n      <td>0.0</td>\n      <td>0.5</td>\n      <td>0.3</td>\n      <td>1.30</td>\n      <td>0.0</td>\n      <td>None</td>\n      <td>8.60</td>\n      <td>1.0</td>\n      <td>1970-01-01 00:23:40.127061</td>\n    </tr>\n    <tr>\n      <th>7</th>\n      <td>2</td>\n      <td>1970-01-01 00:23:41.049681</td>\n      <td>1970-01-01 00:23:41.050492</td>\n      <td>5</td>\n      <td>2.94</td>\n      <td>None</td>\n      <td>None</td>\n      <td>-73.939865</td>\n      <td>40.789822</td>\n      <td>-73.952957</td>\n      <td>...</td>\n      <td>12.5</td>\n      <td>0.0</td>\n      <td>0.5</td>\n      <td>0.3</td>\n      <td>0.00</td>\n      <td>0.0</td>\n      <td>None</td>\n      <td>13.30</td>\n      <td>1.0</td>\n      <td>1970-01-01 00:23:41.049681</td>\n    </tr>\n    <tr>\n      <th>8</th>\n      <td>1</td>\n      <td>1970-01-01 00:23:41.445266</td>\n      <td>1970-01-01 00:23:41.446359</td>\n      <td>1</td>\n      <td>3.00</td>\n      <td>None</td>\n      <td>None</td>\n      <td>-73.957939</td>\n      <td>40.721928</td>\n      <td>-73.926247</td>\n      <td>...</td>\n      <td>14.0</td>\n      <td>0.5</td>\n      <td>0.5</td>\n      <td>0.3</td>\n      <td>2.00</td>\n      <td>0.0</td>\n      <td>None</td>\n      <td>17.30</td>\n      <td>1.0</td>\n      <td>1970-01-01 00:23:41.445266</td>\n    </tr>\n    <tr>\n      <th>9</th>\n      <td>2</td>\n      <td>1970-01-01 00:23:40.526093</td>\n      <td>1970-01-01 00:23:40.526663</td>\n      <td>1</td>\n      <td>2.31</td>\n      <td>None</td>\n      <td>None</td>\n      <td>-73.943825</td>\n      <td>40.810257</td>\n      <td>-73.943062</td>\n      <td>...</td>\n      <td>10.0</td>\n      <td>0.0</td>\n      <td>0.5</td>\n      <td>0.3</td>\n      <td>2.00</td>\n      <td>0.0</td>\n      <td>None</td>\n      <td>12.80</td>\n      <td>1.0</td>\n      <td>1970-01-01 00:23:40.526093</td>\n    </tr>\n  </tbody>\n</table>\n<p>10 rows × 24 columns</p>\n</div>"
          },
          "metadata": {}
        }
      ],
      "execution_count": 2,
      "metadata": {
        "gather": {
          "logged": 1638287869724
        }
      }
    },
    {
      "cell_type": "markdown",
      "source": [
        "Now that the initial data is loaded, define a function to create various time-based features from the pickup datetime field. This will create new fields for the month number, day of month, day of week, and hour of day, and will allow the model to factor in time-based seasonality. \n",
        "\n",
        "Use the `apply()` function on the dataframe to iteratively apply the `build_time_features()` function to each row in the taxi data."
      ],
      "metadata": {}
    },
    {
      "cell_type": "code",
      "source": [
        "def build_time_features(vector):\n",
        "    pickup_datetime = vector[0]\n",
        "    month_num = pickup_datetime.month\n",
        "    day_of_month = pickup_datetime.day\n",
        "    day_of_week = pickup_datetime.weekday()\n",
        "    hour_of_day = pickup_datetime.hour\n",
        "    \n",
        "    return pd.Series((month_num, day_of_month, day_of_week, hour_of_day))\n",
        "\n",
        "green_taxi_df[[\"month_num\", \"day_of_month\",\"day_of_week\", \"hour_of_day\"]] = green_taxi_df[[\"lpepPickupDatetime\"]].apply(build_time_features, axis=1)\n",
        "green_taxi_df.head(10)"
      ],
      "outputs": [
        {
          "output_type": "execute_result",
          "execution_count": 3,
          "data": {
            "text/plain": "   vendorID         lpepPickupDatetime        lpepDropoffDatetime  \\\n0         2 1970-01-01 00:23:42.643089 1970-01-01 00:23:42.644509   \n1         1 1970-01-01 00:23:41.536899 1970-01-01 00:23:41.537716   \n2         2 1970-01-01 00:23:41.372320 1970-01-01 00:23:41.373175   \n3         2 1970-01-01 00:23:40.391366 1970-01-01 00:23:40.391772   \n4         1 1970-01-01 00:23:41.230257 1970-01-01 00:23:41.231610   \n5         2 1970-01-01 00:23:41.691041 1970-01-01 00:23:41.692340   \n6         2 1970-01-01 00:23:40.127061 1970-01-01 00:23:40.127416   \n7         2 1970-01-01 00:23:41.049681 1970-01-01 00:23:41.050492   \n8         1 1970-01-01 00:23:41.445266 1970-01-01 00:23:41.446359   \n9         2 1970-01-01 00:23:40.526093 1970-01-01 00:23:40.526663   \n\n   passengerCount  tripDistance puLocationId doLocationId  pickupLongitude  \\\n0               1          1.88         None         None       -73.996155   \n1               1          2.70         None         None       -73.978508   \n2               1          3.54         None         None       -73.957787   \n3               1          1.00         None         None       -73.919914   \n4               1          5.10         None         None       -73.943710   \n5               1          7.41         None         None       -73.940918   \n6               1          1.03         None         None       -73.985718   \n7               5          2.94         None         None       -73.939865   \n8               1          3.00         None         None       -73.957939   \n9               1          2.31         None         None       -73.943825   \n\n   pickupLatitude  dropoffLongitude  ...  tipAmount  tollsAmount ehailFee  \\\n0       40.690903        -73.964287  ...       4.00          0.0     None   \n1       40.687984        -73.955116  ...       2.55          0.0     None   \n2       40.721779        -73.963005  ...       2.80          0.0     None   \n3       40.826023        -73.904839  ...       0.00          0.0     None   \n4       40.825439        -73.982964  ...       3.85          0.0     None   \n5       40.839714        -73.994339  ...       4.80          0.0     None   \n6       40.685646        -73.996773  ...       1.30          0.0     None   \n7       40.789822        -73.952957  ...       0.00          0.0     None   \n8       40.721928        -73.926247  ...       2.00          0.0     None   \n9       40.810257        -73.943062  ...       2.00          0.0     None   \n\n   totalAmount  tripType          __index_level_0__  month_num day_of_month  \\\n0        20.80       1.0 1970-01-01 00:23:42.643089          1            1   \n1        15.35       1.0 1970-01-01 00:23:41.536899          1            1   \n2        17.60       1.0 1970-01-01 00:23:41.372320          1            1   \n3         7.30       1.0 1970-01-01 00:23:40.391366          1            1   \n4        23.15       1.0 1970-01-01 00:23:41.230257          1            1   \n5        29.60       1.0 1970-01-01 00:23:41.691041          1            1   \n6         8.60       1.0 1970-01-01 00:23:40.127061          1            1   \n7        13.30       1.0 1970-01-01 00:23:41.049681          1            1   \n8        17.30       1.0 1970-01-01 00:23:41.445266          1            1   \n9        12.80       1.0 1970-01-01 00:23:40.526093          1            1   \n\n   day_of_week  hour_of_day  \n0            3            0  \n1            3            0  \n2            3            0  \n3            3            0  \n4            3            0  \n5            3            0  \n6            3            0  \n7            3            0  \n8            3            0  \n9            3            0  \n\n[10 rows x 28 columns]",
            "text/html": "<div>\n<style scoped>\n    .dataframe tbody tr th:only-of-type {\n        vertical-align: middle;\n    }\n\n    .dataframe tbody tr th {\n        vertical-align: top;\n    }\n\n    .dataframe thead th {\n        text-align: right;\n    }\n</style>\n<table border=\"1\" class=\"dataframe\">\n  <thead>\n    <tr style=\"text-align: right;\">\n      <th></th>\n      <th>vendorID</th>\n      <th>lpepPickupDatetime</th>\n      <th>lpepDropoffDatetime</th>\n      <th>passengerCount</th>\n      <th>tripDistance</th>\n      <th>puLocationId</th>\n      <th>doLocationId</th>\n      <th>pickupLongitude</th>\n      <th>pickupLatitude</th>\n      <th>dropoffLongitude</th>\n      <th>...</th>\n      <th>tipAmount</th>\n      <th>tollsAmount</th>\n      <th>ehailFee</th>\n      <th>totalAmount</th>\n      <th>tripType</th>\n      <th>__index_level_0__</th>\n      <th>month_num</th>\n      <th>day_of_month</th>\n      <th>day_of_week</th>\n      <th>hour_of_day</th>\n    </tr>\n  </thead>\n  <tbody>\n    <tr>\n      <th>0</th>\n      <td>2</td>\n      <td>1970-01-01 00:23:42.643089</td>\n      <td>1970-01-01 00:23:42.644509</td>\n      <td>1</td>\n      <td>1.88</td>\n      <td>None</td>\n      <td>None</td>\n      <td>-73.996155</td>\n      <td>40.690903</td>\n      <td>-73.964287</td>\n      <td>...</td>\n      <td>4.00</td>\n      <td>0.0</td>\n      <td>None</td>\n      <td>20.80</td>\n      <td>1.0</td>\n      <td>1970-01-01 00:23:42.643089</td>\n      <td>1</td>\n      <td>1</td>\n      <td>3</td>\n      <td>0</td>\n    </tr>\n    <tr>\n      <th>1</th>\n      <td>1</td>\n      <td>1970-01-01 00:23:41.536899</td>\n      <td>1970-01-01 00:23:41.537716</td>\n      <td>1</td>\n      <td>2.70</td>\n      <td>None</td>\n      <td>None</td>\n      <td>-73.978508</td>\n      <td>40.687984</td>\n      <td>-73.955116</td>\n      <td>...</td>\n      <td>2.55</td>\n      <td>0.0</td>\n      <td>None</td>\n      <td>15.35</td>\n      <td>1.0</td>\n      <td>1970-01-01 00:23:41.536899</td>\n      <td>1</td>\n      <td>1</td>\n      <td>3</td>\n      <td>0</td>\n    </tr>\n    <tr>\n      <th>2</th>\n      <td>2</td>\n      <td>1970-01-01 00:23:41.372320</td>\n      <td>1970-01-01 00:23:41.373175</td>\n      <td>1</td>\n      <td>3.54</td>\n      <td>None</td>\n      <td>None</td>\n      <td>-73.957787</td>\n      <td>40.721779</td>\n      <td>-73.963005</td>\n      <td>...</td>\n      <td>2.80</td>\n      <td>0.0</td>\n      <td>None</td>\n      <td>17.60</td>\n      <td>1.0</td>\n      <td>1970-01-01 00:23:41.372320</td>\n      <td>1</td>\n      <td>1</td>\n      <td>3</td>\n      <td>0</td>\n    </tr>\n    <tr>\n      <th>3</th>\n      <td>2</td>\n      <td>1970-01-01 00:23:40.391366</td>\n      <td>1970-01-01 00:23:40.391772</td>\n      <td>1</td>\n      <td>1.00</td>\n      <td>None</td>\n      <td>None</td>\n      <td>-73.919914</td>\n      <td>40.826023</td>\n      <td>-73.904839</td>\n      <td>...</td>\n      <td>0.00</td>\n      <td>0.0</td>\n      <td>None</td>\n      <td>7.30</td>\n      <td>1.0</td>\n      <td>1970-01-01 00:23:40.391366</td>\n      <td>1</td>\n      <td>1</td>\n      <td>3</td>\n      <td>0</td>\n    </tr>\n    <tr>\n      <th>4</th>\n      <td>1</td>\n      <td>1970-01-01 00:23:41.230257</td>\n      <td>1970-01-01 00:23:41.231610</td>\n      <td>1</td>\n      <td>5.10</td>\n      <td>None</td>\n      <td>None</td>\n      <td>-73.943710</td>\n      <td>40.825439</td>\n      <td>-73.982964</td>\n      <td>...</td>\n      <td>3.85</td>\n      <td>0.0</td>\n      <td>None</td>\n      <td>23.15</td>\n      <td>1.0</td>\n      <td>1970-01-01 00:23:41.230257</td>\n      <td>1</td>\n      <td>1</td>\n      <td>3</td>\n      <td>0</td>\n    </tr>\n    <tr>\n      <th>5</th>\n      <td>2</td>\n      <td>1970-01-01 00:23:41.691041</td>\n      <td>1970-01-01 00:23:41.692340</td>\n      <td>1</td>\n      <td>7.41</td>\n      <td>None</td>\n      <td>None</td>\n      <td>-73.940918</td>\n      <td>40.839714</td>\n      <td>-73.994339</td>\n      <td>...</td>\n      <td>4.80</td>\n      <td>0.0</td>\n      <td>None</td>\n      <td>29.60</td>\n      <td>1.0</td>\n      <td>1970-01-01 00:23:41.691041</td>\n      <td>1</td>\n      <td>1</td>\n      <td>3</td>\n      <td>0</td>\n    </tr>\n    <tr>\n      <th>6</th>\n      <td>2</td>\n      <td>1970-01-01 00:23:40.127061</td>\n      <td>1970-01-01 00:23:40.127416</td>\n      <td>1</td>\n      <td>1.03</td>\n      <td>None</td>\n      <td>None</td>\n      <td>-73.985718</td>\n      <td>40.685646</td>\n      <td>-73.996773</td>\n      <td>...</td>\n      <td>1.30</td>\n      <td>0.0</td>\n      <td>None</td>\n      <td>8.60</td>\n      <td>1.0</td>\n      <td>1970-01-01 00:23:40.127061</td>\n      <td>1</td>\n      <td>1</td>\n      <td>3</td>\n      <td>0</td>\n    </tr>\n    <tr>\n      <th>7</th>\n      <td>2</td>\n      <td>1970-01-01 00:23:41.049681</td>\n      <td>1970-01-01 00:23:41.050492</td>\n      <td>5</td>\n      <td>2.94</td>\n      <td>None</td>\n      <td>None</td>\n      <td>-73.939865</td>\n      <td>40.789822</td>\n      <td>-73.952957</td>\n      <td>...</td>\n      <td>0.00</td>\n      <td>0.0</td>\n      <td>None</td>\n      <td>13.30</td>\n      <td>1.0</td>\n      <td>1970-01-01 00:23:41.049681</td>\n      <td>1</td>\n      <td>1</td>\n      <td>3</td>\n      <td>0</td>\n    </tr>\n    <tr>\n      <th>8</th>\n      <td>1</td>\n      <td>1970-01-01 00:23:41.445266</td>\n      <td>1970-01-01 00:23:41.446359</td>\n      <td>1</td>\n      <td>3.00</td>\n      <td>None</td>\n      <td>None</td>\n      <td>-73.957939</td>\n      <td>40.721928</td>\n      <td>-73.926247</td>\n      <td>...</td>\n      <td>2.00</td>\n      <td>0.0</td>\n      <td>None</td>\n      <td>17.30</td>\n      <td>1.0</td>\n      <td>1970-01-01 00:23:41.445266</td>\n      <td>1</td>\n      <td>1</td>\n      <td>3</td>\n      <td>0</td>\n    </tr>\n    <tr>\n      <th>9</th>\n      <td>2</td>\n      <td>1970-01-01 00:23:40.526093</td>\n      <td>1970-01-01 00:23:40.526663</td>\n      <td>1</td>\n      <td>2.31</td>\n      <td>None</td>\n      <td>None</td>\n      <td>-73.943825</td>\n      <td>40.810257</td>\n      <td>-73.943062</td>\n      <td>...</td>\n      <td>2.00</td>\n      <td>0.0</td>\n      <td>None</td>\n      <td>12.80</td>\n      <td>1.0</td>\n      <td>1970-01-01 00:23:40.526093</td>\n      <td>1</td>\n      <td>1</td>\n      <td>3</td>\n      <td>0</td>\n    </tr>\n  </tbody>\n</table>\n<p>10 rows × 28 columns</p>\n</div>"
          },
          "metadata": {}
        }
      ],
      "execution_count": 3,
      "metadata": {
        "gather": {
          "logged": 1638287997535
        }
      }
    },
    {
      "cell_type": "markdown",
      "source": [
        "Remove some of the columns that you won't need for training or additional feature building."
      ],
      "metadata": {}
    },
    {
      "cell_type": "code",
      "source": [
        "columns_to_remove = [\"lpepPickupDatetime\", \"lpepDropoffDatetime\", \"puLocationId\", \"doLocationId\", \"extra\", \"mtaTax\",\n",
        "                     \"improvementSurcharge\", \"tollsAmount\", \"ehailFee\", \"tripType\", \"rateCodeID\", \n",
        "                     \"storeAndFwdFlag\", \"paymentType\", \"fareAmount\", \"tipAmount\"\n",
        "                    ]\n",
        "for col in columns_to_remove:\n",
        "    green_taxi_df.pop(col)\n",
        "    \n",
        "green_taxi_df.head(5)"
      ],
      "outputs": [
        {
          "output_type": "execute_result",
          "execution_count": 4,
          "data": {
            "text/plain": "   vendorID  passengerCount  tripDistance  pickupLongitude  pickupLatitude  \\\n0         2               1          1.88       -73.996155       40.690903   \n1         1               1          2.70       -73.978508       40.687984   \n2         2               1          3.54       -73.957787       40.721779   \n3         2               1          1.00       -73.919914       40.826023   \n4         1               1          5.10       -73.943710       40.825439   \n\n   dropoffLongitude  dropoffLatitude  totalAmount          __index_level_0__  \\\n0        -73.964287        40.679707        20.80 1970-01-01 00:23:42.643089   \n1        -73.955116        40.708138        15.35 1970-01-01 00:23:41.536899   \n2        -73.963005        40.682774        17.60 1970-01-01 00:23:41.372320   \n3        -73.904839        40.821404         7.30 1970-01-01 00:23:40.391366   \n4        -73.982964        40.767857        23.15 1970-01-01 00:23:41.230257   \n\n   month_num  day_of_month  day_of_week  hour_of_day  \n0          1             1            3            0  \n1          1             1            3            0  \n2          1             1            3            0  \n3          1             1            3            0  \n4          1             1            3            0  ",
            "text/html": "<div>\n<style scoped>\n    .dataframe tbody tr th:only-of-type {\n        vertical-align: middle;\n    }\n\n    .dataframe tbody tr th {\n        vertical-align: top;\n    }\n\n    .dataframe thead th {\n        text-align: right;\n    }\n</style>\n<table border=\"1\" class=\"dataframe\">\n  <thead>\n    <tr style=\"text-align: right;\">\n      <th></th>\n      <th>vendorID</th>\n      <th>passengerCount</th>\n      <th>tripDistance</th>\n      <th>pickupLongitude</th>\n      <th>pickupLatitude</th>\n      <th>dropoffLongitude</th>\n      <th>dropoffLatitude</th>\n      <th>totalAmount</th>\n      <th>__index_level_0__</th>\n      <th>month_num</th>\n      <th>day_of_month</th>\n      <th>day_of_week</th>\n      <th>hour_of_day</th>\n    </tr>\n  </thead>\n  <tbody>\n    <tr>\n      <th>0</th>\n      <td>2</td>\n      <td>1</td>\n      <td>1.88</td>\n      <td>-73.996155</td>\n      <td>40.690903</td>\n      <td>-73.964287</td>\n      <td>40.679707</td>\n      <td>20.80</td>\n      <td>1970-01-01 00:23:42.643089</td>\n      <td>1</td>\n      <td>1</td>\n      <td>3</td>\n      <td>0</td>\n    </tr>\n    <tr>\n      <th>1</th>\n      <td>1</td>\n      <td>1</td>\n      <td>2.70</td>\n      <td>-73.978508</td>\n      <td>40.687984</td>\n      <td>-73.955116</td>\n      <td>40.708138</td>\n      <td>15.35</td>\n      <td>1970-01-01 00:23:41.536899</td>\n      <td>1</td>\n      <td>1</td>\n      <td>3</td>\n      <td>0</td>\n    </tr>\n    <tr>\n      <th>2</th>\n      <td>2</td>\n      <td>1</td>\n      <td>3.54</td>\n      <td>-73.957787</td>\n      <td>40.721779</td>\n      <td>-73.963005</td>\n      <td>40.682774</td>\n      <td>17.60</td>\n      <td>1970-01-01 00:23:41.372320</td>\n      <td>1</td>\n      <td>1</td>\n      <td>3</td>\n      <td>0</td>\n    </tr>\n    <tr>\n      <th>3</th>\n      <td>2</td>\n      <td>1</td>\n      <td>1.00</td>\n      <td>-73.919914</td>\n      <td>40.826023</td>\n      <td>-73.904839</td>\n      <td>40.821404</td>\n      <td>7.30</td>\n      <td>1970-01-01 00:23:40.391366</td>\n      <td>1</td>\n      <td>1</td>\n      <td>3</td>\n      <td>0</td>\n    </tr>\n    <tr>\n      <th>4</th>\n      <td>1</td>\n      <td>1</td>\n      <td>5.10</td>\n      <td>-73.943710</td>\n      <td>40.825439</td>\n      <td>-73.982964</td>\n      <td>40.767857</td>\n      <td>23.15</td>\n      <td>1970-01-01 00:23:41.230257</td>\n      <td>1</td>\n      <td>1</td>\n      <td>3</td>\n      <td>0</td>\n    </tr>\n  </tbody>\n</table>\n</div>"
          },
          "metadata": {}
        }
      ],
      "execution_count": 4,
      "metadata": {
        "gather": {
          "logged": 1638288029666
        }
      }
    },
    {
      "cell_type": "markdown",
      "source": [
        "### Cleanse data "
      ],
      "metadata": {}
    },
    {
      "cell_type": "markdown",
      "source": [
        "Run the `describe()` function on the new dataframe to see summary statistics for each field."
      ],
      "metadata": {}
    },
    {
      "cell_type": "code",
      "source": [
        "green_taxi_df.describe()"
      ],
      "outputs": [
        {
          "output_type": "execute_result",
          "execution_count": 5,
          "data": {
            "text/plain": "           vendorID  passengerCount  tripDistance  pickupLongitude  \\\ncount  24000.000000    24000.000000  24000.000000     24000.000000   \nmean       1.777625        1.373625      2.893981       -73.827403   \nstd        0.415850        1.046180      3.072343         2.821767   \nmin        1.000000        0.000000      0.000000       -74.357101   \n25%        2.000000        1.000000      1.050000       -73.959175   \n50%        2.000000        1.000000      1.930000       -73.945049   \n75%        2.000000        1.000000      3.700000       -73.917089   \nmax        2.000000        8.000000    154.280000         0.000000   \n\n       pickupLatitude  dropoffLongitude  dropoffLatitude   totalAmount  \\\ncount    24000.000000      24000.000000     24000.000000  24000.000000   \nmean        40.689730        -73.819670        40.684436     14.892744   \nstd          1.556082          2.901199         1.599776     12.339749   \nmin          0.000000        -74.342766         0.000000   -120.800000   \n25%         40.699127        -73.966476        40.699459      8.000000   \n50%         40.746754        -73.944221        40.747536     11.300000   \n75%         40.803060        -73.909061        40.791526     17.800000   \nmax         41.109089          0.000000        40.982826    425.000000   \n\n       month_num  day_of_month  day_of_week  hour_of_day  \ncount    24000.0       24000.0      24000.0      24000.0  \nmean         1.0           1.0          3.0          0.0  \nstd          0.0           0.0          0.0          0.0  \nmin          1.0           1.0          3.0          0.0  \n25%          1.0           1.0          3.0          0.0  \n50%          1.0           1.0          3.0          0.0  \n75%          1.0           1.0          3.0          0.0  \nmax          1.0           1.0          3.0          0.0  ",
            "text/html": "<div>\n<style scoped>\n    .dataframe tbody tr th:only-of-type {\n        vertical-align: middle;\n    }\n\n    .dataframe tbody tr th {\n        vertical-align: top;\n    }\n\n    .dataframe thead th {\n        text-align: right;\n    }\n</style>\n<table border=\"1\" class=\"dataframe\">\n  <thead>\n    <tr style=\"text-align: right;\">\n      <th></th>\n      <th>vendorID</th>\n      <th>passengerCount</th>\n      <th>tripDistance</th>\n      <th>pickupLongitude</th>\n      <th>pickupLatitude</th>\n      <th>dropoffLongitude</th>\n      <th>dropoffLatitude</th>\n      <th>totalAmount</th>\n      <th>month_num</th>\n      <th>day_of_month</th>\n      <th>day_of_week</th>\n      <th>hour_of_day</th>\n    </tr>\n  </thead>\n  <tbody>\n    <tr>\n      <th>count</th>\n      <td>24000.000000</td>\n      <td>24000.000000</td>\n      <td>24000.000000</td>\n      <td>24000.000000</td>\n      <td>24000.000000</td>\n      <td>24000.000000</td>\n      <td>24000.000000</td>\n      <td>24000.000000</td>\n      <td>24000.0</td>\n      <td>24000.0</td>\n      <td>24000.0</td>\n      <td>24000.0</td>\n    </tr>\n    <tr>\n      <th>mean</th>\n      <td>1.777625</td>\n      <td>1.373625</td>\n      <td>2.893981</td>\n      <td>-73.827403</td>\n      <td>40.689730</td>\n      <td>-73.819670</td>\n      <td>40.684436</td>\n      <td>14.892744</td>\n      <td>1.0</td>\n      <td>1.0</td>\n      <td>3.0</td>\n      <td>0.0</td>\n    </tr>\n    <tr>\n      <th>std</th>\n      <td>0.415850</td>\n      <td>1.046180</td>\n      <td>3.072343</td>\n      <td>2.821767</td>\n      <td>1.556082</td>\n      <td>2.901199</td>\n      <td>1.599776</td>\n      <td>12.339749</td>\n      <td>0.0</td>\n      <td>0.0</td>\n      <td>0.0</td>\n      <td>0.0</td>\n    </tr>\n    <tr>\n      <th>min</th>\n      <td>1.000000</td>\n      <td>0.000000</td>\n      <td>0.000000</td>\n      <td>-74.357101</td>\n      <td>0.000000</td>\n      <td>-74.342766</td>\n      <td>0.000000</td>\n      <td>-120.800000</td>\n      <td>1.0</td>\n      <td>1.0</td>\n      <td>3.0</td>\n      <td>0.0</td>\n    </tr>\n    <tr>\n      <th>25%</th>\n      <td>2.000000</td>\n      <td>1.000000</td>\n      <td>1.050000</td>\n      <td>-73.959175</td>\n      <td>40.699127</td>\n      <td>-73.966476</td>\n      <td>40.699459</td>\n      <td>8.000000</td>\n      <td>1.0</td>\n      <td>1.0</td>\n      <td>3.0</td>\n      <td>0.0</td>\n    </tr>\n    <tr>\n      <th>50%</th>\n      <td>2.000000</td>\n      <td>1.000000</td>\n      <td>1.930000</td>\n      <td>-73.945049</td>\n      <td>40.746754</td>\n      <td>-73.944221</td>\n      <td>40.747536</td>\n      <td>11.300000</td>\n      <td>1.0</td>\n      <td>1.0</td>\n      <td>3.0</td>\n      <td>0.0</td>\n    </tr>\n    <tr>\n      <th>75%</th>\n      <td>2.000000</td>\n      <td>1.000000</td>\n      <td>3.700000</td>\n      <td>-73.917089</td>\n      <td>40.803060</td>\n      <td>-73.909061</td>\n      <td>40.791526</td>\n      <td>17.800000</td>\n      <td>1.0</td>\n      <td>1.0</td>\n      <td>3.0</td>\n      <td>0.0</td>\n    </tr>\n    <tr>\n      <th>max</th>\n      <td>2.000000</td>\n      <td>8.000000</td>\n      <td>154.280000</td>\n      <td>0.000000</td>\n      <td>41.109089</td>\n      <td>0.000000</td>\n      <td>40.982826</td>\n      <td>425.000000</td>\n      <td>1.0</td>\n      <td>1.0</td>\n      <td>3.0</td>\n      <td>0.0</td>\n    </tr>\n  </tbody>\n</table>\n</div>"
          },
          "metadata": {}
        }
      ],
      "execution_count": 5,
      "metadata": {
        "gather": {
          "logged": 1638288064791
        }
      }
    },
    {
      "cell_type": "markdown",
      "source": [
        "From the summary statistics, you see that there are several fields that have outliers or values that will reduce model accuracy. First filter the lat/long fields to be within the bounds of the Manhattan area. This will filter out longer taxi trips or trips that are outliers in respect to their relationship with other features. \n",
        "\n",
        "Additionally filter the `tripDistance` field to be greater than zero but less than 31 miles (the haversine distance between the two lat/long pairs). This eliminates long outlier trips that have inconsistent trip cost.\n",
        "\n",
        "Lastly, the `totalAmount` field has negative values for the taxi fares, which don't make sense in the context of our model, and the `passengerCount` field has bad data with the minimum values being zero.\n",
        "\n",
        "Filter out these anomalies using query functions, and then remove the last few columns unnecessary for training."
      ],
      "metadata": {}
    },
    {
      "cell_type": "code",
      "source": [
        "final_df = green_taxi_df.query(\"pickupLatitude>=40.53 and pickupLatitude<=40.88\")\n",
        "final_df = final_df.query(\"pickupLongitude>=-74.09 and pickupLongitude<=-73.72\")\n",
        "final_df = final_df.query(\"tripDistance>=0.25 and tripDistance<31\")\n",
        "final_df = final_df.query(\"passengerCount>0 and totalAmount>0\")\n",
        "\n",
        "columns_to_remove_for_training = [\"pickupLongitude\", \"pickupLatitude\", \"dropoffLongitude\", \"dropoffLatitude\"]\n",
        "for col in columns_to_remove_for_training:\n",
        "    final_df.pop(col)"
      ],
      "outputs": [],
      "execution_count": 6,
      "metadata": {
        "gather": {
          "logged": 1638288193500
        }
      }
    },
    {
      "cell_type": "markdown",
      "source": [
        "Call `describe()` again on the data to ensure cleansing worked as expected. You now have a prepared and cleansed set of taxi, holiday, and weather data to use for machine learning model training."
      ],
      "metadata": {}
    },
    {
      "cell_type": "code",
      "source": [
        "final_df.describe()"
      ],
      "outputs": [
        {
          "output_type": "execute_result",
          "execution_count": 7,
          "data": {
            "text/plain": "           vendorID  passengerCount  tripDistance   totalAmount  month_num  \\\ncount  23222.000000    23222.000000  23222.000000  23222.000000    23222.0   \nmean       1.778572        1.374688      2.956753     14.838994        1.0   \nstd        0.415217        1.046995      2.862415     10.363600        0.0   \nmin        1.000000        1.000000      0.250000      0.010000        1.0   \n25%        2.000000        1.000000      1.100000      8.190000        1.0   \n50%        2.000000        1.000000      2.000000     11.750000        1.0   \n75%        2.000000        1.000000      3.760000     17.880000        1.0   \nmax        2.000000        8.000000     30.840000    191.700000        1.0   \n\n       day_of_month  day_of_week  hour_of_day  \ncount       23222.0      23222.0      23222.0  \nmean            1.0          3.0          0.0  \nstd             0.0          0.0          0.0  \nmin             1.0          3.0          0.0  \n25%             1.0          3.0          0.0  \n50%             1.0          3.0          0.0  \n75%             1.0          3.0          0.0  \nmax             1.0          3.0          0.0  ",
            "text/html": "<div>\n<style scoped>\n    .dataframe tbody tr th:only-of-type {\n        vertical-align: middle;\n    }\n\n    .dataframe tbody tr th {\n        vertical-align: top;\n    }\n\n    .dataframe thead th {\n        text-align: right;\n    }\n</style>\n<table border=\"1\" class=\"dataframe\">\n  <thead>\n    <tr style=\"text-align: right;\">\n      <th></th>\n      <th>vendorID</th>\n      <th>passengerCount</th>\n      <th>tripDistance</th>\n      <th>totalAmount</th>\n      <th>month_num</th>\n      <th>day_of_month</th>\n      <th>day_of_week</th>\n      <th>hour_of_day</th>\n    </tr>\n  </thead>\n  <tbody>\n    <tr>\n      <th>count</th>\n      <td>23222.000000</td>\n      <td>23222.000000</td>\n      <td>23222.000000</td>\n      <td>23222.000000</td>\n      <td>23222.0</td>\n      <td>23222.0</td>\n      <td>23222.0</td>\n      <td>23222.0</td>\n    </tr>\n    <tr>\n      <th>mean</th>\n      <td>1.778572</td>\n      <td>1.374688</td>\n      <td>2.956753</td>\n      <td>14.838994</td>\n      <td>1.0</td>\n      <td>1.0</td>\n      <td>3.0</td>\n      <td>0.0</td>\n    </tr>\n    <tr>\n      <th>std</th>\n      <td>0.415217</td>\n      <td>1.046995</td>\n      <td>2.862415</td>\n      <td>10.363600</td>\n      <td>0.0</td>\n      <td>0.0</td>\n      <td>0.0</td>\n      <td>0.0</td>\n    </tr>\n    <tr>\n      <th>min</th>\n      <td>1.000000</td>\n      <td>1.000000</td>\n      <td>0.250000</td>\n      <td>0.010000</td>\n      <td>1.0</td>\n      <td>1.0</td>\n      <td>3.0</td>\n      <td>0.0</td>\n    </tr>\n    <tr>\n      <th>25%</th>\n      <td>2.000000</td>\n      <td>1.000000</td>\n      <td>1.100000</td>\n      <td>8.190000</td>\n      <td>1.0</td>\n      <td>1.0</td>\n      <td>3.0</td>\n      <td>0.0</td>\n    </tr>\n    <tr>\n      <th>50%</th>\n      <td>2.000000</td>\n      <td>1.000000</td>\n      <td>2.000000</td>\n      <td>11.750000</td>\n      <td>1.0</td>\n      <td>1.0</td>\n      <td>3.0</td>\n      <td>0.0</td>\n    </tr>\n    <tr>\n      <th>75%</th>\n      <td>2.000000</td>\n      <td>1.000000</td>\n      <td>3.760000</td>\n      <td>17.880000</td>\n      <td>1.0</td>\n      <td>1.0</td>\n      <td>3.0</td>\n      <td>0.0</td>\n    </tr>\n    <tr>\n      <th>max</th>\n      <td>2.000000</td>\n      <td>8.000000</td>\n      <td>30.840000</td>\n      <td>191.700000</td>\n      <td>1.0</td>\n      <td>1.0</td>\n      <td>3.0</td>\n      <td>0.0</td>\n    </tr>\n  </tbody>\n</table>\n</div>"
          },
          "metadata": {}
        }
      ],
      "execution_count": 7,
      "metadata": {
        "gather": {
          "logged": 1638288298560
        }
      }
    },
    {
      "cell_type": "markdown",
      "source": [
        "## Configure workspace\n"
      ],
      "metadata": {}
    },
    {
      "cell_type": "markdown",
      "source": [
        "Create a workspace object from the existing workspace. A [Workspace](https://docs.microsoft.com/python/api/azureml-core/azureml.core.workspace.workspace?view=azure-ml-py) is a class that accepts your Azure subscription and resource information. It also creates a cloud resource to monitor and track your model runs. `Workspace.from_config()` reads the file **config.json** and loads the authentication details into an object named `ws`. `ws` is used throughout the rest of the code in this tutorial."
      ],
      "metadata": {}
    },
    {
      "cell_type": "code",
      "source": [
        "from azureml.core.workspace import Workspace\n",
        "ws = Workspace.from_config()"
      ],
      "outputs": [],
      "execution_count": 8,
      "metadata": {
        "gather": {
          "logged": 1638288384755
        }
      }
    },
    {
      "cell_type": "markdown",
      "source": [
        "## Split the data into train and test sets"
      ],
      "metadata": {}
    },
    {
      "cell_type": "markdown",
      "source": [
        "Split the data into training and test sets by using the `train_test_split` function in the `scikit-learn` library. This function segregates the data into the x (**features**) data set for model training and the y (**values to predict**) data set for testing. The `test_size` parameter determines the percentage of data to allocate to testing. The `random_state` parameter sets a seed to the random generator, so that your train-test splits are deterministic."
      ],
      "metadata": {}
    },
    {
      "cell_type": "code",
      "source": [
        "from sklearn.model_selection import train_test_split\n",
        "\n",
        "x_train, x_test = train_test_split(final_df, test_size=0.2, random_state=223)"
      ],
      "outputs": [],
      "execution_count": 9,
      "metadata": {
        "gather": {
          "logged": 1638288466143
        }
      }
    },
    {
      "cell_type": "markdown",
      "source": [
        "The purpose of this step is to have data points to test the finished model that haven't been used to train the model, in order to measure true accuracy. \n",
        "\n",
        "In other words, a well-trained model should be able to accurately make predictions from data it hasn't already seen. You now have data prepared for auto-training a machine learning model."
      ],
      "metadata": {}
    },
    {
      "cell_type": "markdown",
      "source": [
        "## Automatically train a model"
      ],
      "metadata": {}
    },
    {
      "cell_type": "markdown",
      "source": [
        "To automatically train a model, take the following steps:\n",
        "1. Define settings for the experiment run. Attach your training data to the configuration, and modify settings that control the training process.\n",
        "1. Submit the experiment for model tuning. After submitting the experiment, the process iterates through different machine learning algorithms and hyperparameter settings, adhering to your defined constraints. It chooses the best-fit model by optimizing an accuracy metric."
      ],
      "metadata": {}
    },
    {
      "cell_type": "markdown",
      "source": [
        "### Define training settings"
      ],
      "metadata": {}
    },
    {
      "cell_type": "markdown",
      "source": [
        "Define the experiment parameter and model settings for training. View the full list of [settings](https://docs.microsoft.com/azure/machine-learning/service/how-to-configure-auto-train). Submitting the experiment with these default settings will take approximately 20 minutes, but if you want a shorter run time, reduce the `experiment_timeout_hours` parameter.\n",
        "\n",
        "\n",
        "|Property| Value in this tutorial |Description|\n",
        "|----|----|---|\n",
        "|**iteration_timeout_minutes**|10|Time limit in minutes for each iteration. Increase this value for larger datasets that need more time for each iteration.|\n",
        "|**experiment_timeout_hours**|0.3|Maximum amount of time in hours that all iterations combined can take before the experiment terminates.|\n",
        "|**enable_early_stopping**|True|Flag to enable early termination if the score is not improving in the short term.|\n",
        "|**primary_metric**| spearman_correlation | Metric that you want to optimize. The best-fit model will be chosen based on this metric.|\n",
        "|**featurization**| auto | By using auto, the experiment can preprocess the input data (handling missing data, converting text to numeric, etc.)|\n",
        "|**verbosity**| logging.INFO | Controls the level of logging.|\n",
        "|**n_cross_validations**|5|Number of cross-validation splits to perform when validation data is not specified.|"
      ],
      "metadata": {}
    },
    {
      "cell_type": "code",
      "source": [
        "import logging\n",
        "\n",
        "automl_settings = {\n",
        "    \"iteration_timeout_minutes\": 10,\n",
        "    \"experiment_timeout_hours\": 0.5,\n",
        "    \"enable_early_stopping\": True,\n",
        "    \"primary_metric\": 'spearman_correlation',\n",
        "    \"featurization\": 'auto',\n",
        "    \"verbosity\": logging.INFO,\n",
        "    \"n_cross_validations\": 5\n",
        "}"
      ],
      "outputs": [],
      "execution_count": 10,
      "metadata": {
        "gather": {
          "logged": 1638288632567
        }
      }
    },
    {
      "cell_type": "markdown",
      "source": [
        "Use your defined training settings as a `**kwargs` parameter to an `AutoMLConfig` object. Additionally, specify your training data and the type of model, which is `regression` in this case."
      ],
      "metadata": {}
    },
    {
      "cell_type": "code",
      "source": [
        "from azureml.train.automl import AutoMLConfig\n",
        "\n",
        "automl_config = AutoMLConfig(task='regression',\n",
        "                             debug_log='automated_ml_errors.log',\n",
        "                             training_data=x_train,\n",
        "                             label_column_name=\"totalAmount\",\n",
        "                             **automl_settings)"
      ],
      "outputs": [],
      "execution_count": 11,
      "metadata": {
        "gather": {
          "logged": 1638288711832
        }
      }
    },
    {
      "cell_type": "markdown",
      "source": [
        "Automated machine learning pre-processing steps (feature normalization, handling missing data, converting text to numeric, etc.) become part of the underlying model. When using the model for predictions, the same pre-processing steps applied during training are applied to your input data automatically."
      ],
      "metadata": {}
    },
    {
      "cell_type": "markdown",
      "source": [
        "### Train the automatic regression model"
      ],
      "metadata": {}
    },
    {
      "cell_type": "markdown",
      "source": [
        "Create an experiment object in your workspace. An experiment acts as a container for your individual runs. Pass the defined `automl_config` object to the experiment, and set the output to `True` to view progress during the run. \n",
        "\n",
        "After starting the experiment, the output shown updates live as the experiment runs. For each iteration, you see the model type, the run duration, and the training accuracy. The field `BEST` tracks the best running training score based on your metric type."
      ],
      "metadata": {}
    },
    {
      "cell_type": "code",
      "source": [
        "from azureml.core.experiment import Experiment\n",
        "experiment = Experiment(ws, \"Tutorial-NYCTaxi\")\n",
        "local_run = experiment.submit(automl_config, show_output=True)"
      ],
      "outputs": [
        {
          "output_type": "stream",
          "name": "stdout",
          "text": "No run_configuration provided, running on local with default configuration\nRunning in the active local environment.\n"
        },
        {
          "output_type": "display_data",
          "data": {
            "text/plain": "<IPython.core.display.HTML object>",
            "text/html": "<table style=\"width:100%\"><tr><th>Experiment</th><th>Id</th><th>Type</th><th>Status</th><th>Details Page</th><th>Docs Page</th></tr><tr><td>Tutorial-NYCTaxi</td><td>AutoML_d9d84163-a485-4902-85c7-b3342fd47603</td><td>automl</td><td>Preparing</td><td><a href=\"https://ml.azure.com/runs/AutoML_d9d84163-a485-4902-85c7-b3342fd47603?wsid=/subscriptions/25789373-7091-4fdb-93ab-75458295ff2b/resourcegroups/mlrg/workspaces/ml_workspace&amp;tid=7907a55b-09eb-4e4c-aa4d-0906383f5e34\" target=\"_blank\" rel=\"noopener\">Link to Azure Machine Learning studio</a></td><td><a href=\"https://docs.microsoft.com/en-us/python/api/overview/azure/ml/intro?view=azure-ml-py\" target=\"_blank\" rel=\"noopener\">Link to Documentation</a></td></tr></table>"
          },
          "metadata": {}
        },
        {
          "output_type": "stream",
          "name": "stdout",
          "text": "Current status: DatasetEvaluation. Gathering dataset statistics.\nCurrent status: FeaturesGeneration. Generating features for the dataset.\nCurrent status: DatasetFeaturization. Beginning to fit featurizers and featurize the dataset.\nCurrent status: DatasetFeaturizationCompleted. Completed fit featurizers and featurizing the dataset.\nCurrent status: DatasetCrossValidationSplit. Generating individually featurized CV splits.\n\n****************************************************************************************************\nDATA GUARDRAILS: \n\nTYPE:         Missing feature values imputation\nSTATUS:       PASSED\nDESCRIPTION:  No feature missing values were detected in the training data.\n              Learn more about missing value imputation: https://aka.ms/AutomatedMLFeaturization\n\n****************************************************************************************************\n\nTYPE:         High cardinality feature detection\nSTATUS:       PASSED\nDESCRIPTION:  Your inputs were analyzed, and no high cardinality features were detected.\n              Learn more about high cardinality feature handling: https://aka.ms/AutomatedMLFeaturization\n\n****************************************************************************************************\nCurrent status: ModelSelection. Beginning model selection.\n\n****************************************************************************************************\nITERATION: The iteration being evaluated.\nPIPELINE: A summary description of the pipeline being evaluated.\nDURATION: Time taken for the current iteration.\nMETRIC: The result of computing score on the fitted pipeline.\nBEST: The best observed score thus far.\n****************************************************************************************************\n\n ITERATION   PIPELINE                                       DURATION      METRIC      BEST\n         0   MaxAbsScaler LightGBM                          0:00:25       0.9440    0.9440\n         1   MaxAbsScaler XGBoostRegressor                  0:00:26       0.9444    0.9444\n         2   MaxAbsScaler ElasticNet                        0:00:23       0.9447    0.9447\n         3   StandardScalerWrapper XGBoostRegressor         0:00:27       0.9421    0.9447\n         4   StandardScalerWrapper XGBoostRegressor         0:00:23       0.9397    0.9447\n         5   StandardScalerWrapper ExtremeRandomTrees       0:00:24       0.8893    0.9447\n         6   StandardScalerWrapper RandomForest             0:00:26       0.9412    0.9447\n         7   StandardScalerWrapper DecisionTree             0:00:22       0.9437    0.9447\n         8   StandardScalerWrapper LightGBM                 0:00:25       0.9440    0.9447\n         9   StandardScalerWrapper LightGBM                 0:00:30       0.9430    0.9447\n        10   StandardScalerWrapper ElasticNet               0:00:22       0.9447    0.9447\n        11   StandardScalerWrapper ElasticNet               0:00:23       0.9447    0.9447\n        12   MaxAbsScaler ExtremeRandomTrees                0:01:22       0.9149    0.9447\n        13   StandardScalerWrapper XGBoostRegressor         0:00:30       0.9422    0.9447\n        14   StandardScalerWrapper DecisionTree             0:00:23       0.9438    0.9447\n        15   StandardScalerWrapper ElasticNet               0:00:25       0.9447    0.9447\n        16   StandardScalerWrapper ExtremeRandomTrees       0:00:29       0.9368    0.9447\n        17   MaxAbsScaler DecisionTree                      0:00:24       0.9407    0.9447\n        18   MaxAbsScaler SGD                               0:00:24       0.9447    0.9447\n        19   SparseNormalizer XGBoostRegressor              0:00:49       0.9421    0.9447\n        20   MaxAbsScaler RandomForest                      0:00:27       0.9438    0.9447\n        21   StandardScalerWrapper ExtremeRandomTrees       0:00:46       0.9415    0.9447\n        22   StandardScalerWrapper ElasticNet               0:00:22       0.9448    0.9448\n        23   SparseNormalizer RandomForest                  0:02:09       0.9408    0.9448\n        24   MaxAbsScaler SGD                               0:00:22       0.9446    0.9448\n        25   TruncatedSVDWrapper ElasticNet                 0:00:22       0.9442    0.9448\n        26   MaxAbsScaler GradientBoosting                  0:00:55       0.9415    0.9448\n        27   StandardScalerWrapper XGBoostRegressor         0:00:39       0.9429    0.9448\n        28                                                  0:10:03          nan    0.9448\nERROR: Iteration timeout reached, skipping execution of the child run. Consider increasing iteration_timeout_minutes.\n        29   MaxAbsScaler GradientBoosting                  0:00:28       0.9443    0.9448\n        30   MaxAbsScaler ElasticNet                        0:00:24       0.9448    0.9448\n        31   StandardScalerWrapper LightGBM                 0:00:26       0.9441    0.9448\n        32   MaxAbsScaler GradientBoosting                  0:00:50       0.9445    0.9448\n        33   StandardScalerWrapper XGBoostRegressor         0:00:23       0.9413    0.9448\n        34   SparseNormalizer XGBoostRegressor              0:00:25       0.9442    0.9448\n        35   TruncatedSVDWrapper ElasticNet                 0:00:23       0.9448    0.9448\n        36   VotingEnsemble                                 0:00:37       0.9449    0.9449\n        37   StackEnsemble                                  0:00:38       0.9449    0.9449\nStopping criteria reached at iteration 38. Ending experiment.\n****************************************************************************************************\nCurrent status: BestRunExplainModel. Best run model explanations started\nCurrent status: ModelExplanationDataSetSetup. Model explanations data setup completed\nCurrent status: PickSurrogateModel. Choosing LightGBM as the surrogate model for explanations\nCurrent status: EngineeredFeatureExplanations. Computation of engineered features started\nCurrent status: EngineeredFeatureExplanations. Computation of engineered features completed\nCurrent status: RawFeaturesExplanations. Computation of raw features started\nCurrent status: RawFeaturesExplanations. Computation of raw features completed\nCurrent status: BestRunExplainModel. Best run model explanations completed\n****************************************************************************************************\n"
        }
      ],
      "execution_count": 12,
      "metadata": {
        "gather": {
          "logged": 1638290815587
        }
      }
    },
    {
      "cell_type": "markdown",
      "source": [
        "## Explore the results"
      ],
      "metadata": {}
    },
    {
      "cell_type": "markdown",
      "source": [
        "Explore the results of automatic training with a [Jupyter widget](https://docs.microsoft.com/python/api/azureml-widgets/azureml.widgets?view=azure-ml-py). The widget allows you to see a graph and table of all individual run iterations, along with training accuracy metrics and metadata. Additionally, you can filter on different accuracy metrics than your primary metric with the dropdown selector."
      ],
      "metadata": {}
    },
    {
      "cell_type": "code",
      "source": [
        "from azureml.widgets import RunDetails\n",
        "RunDetails(local_run).show()"
      ],
      "outputs": [
        {
          "output_type": "display_data",
          "data": {
            "text/plain": "_AutoMLWidget(widget_settings={'childWidgetDisplay': 'popup', 'send_telemetry': False, 'log_level': 'INFO', 's…",
            "application/vnd.jupyter.widget-view+json": {
              "version_major": 2,
              "version_minor": 0,
              "model_id": "1e11a361c7744adc84ee9cf3b32e13ac"
            }
          },
          "metadata": {}
        },
        {
          "output_type": "display_data",
          "data": {
            "application/aml.mini.widget.v1": "{\"status\": \"Completed\", \"workbench_run_details_uri\": \"https://ml.azure.com/runs/AutoML_d9d84163-a485-4902-85c7-b3342fd47603?wsid=/subscriptions/25789373-7091-4fdb-93ab-75458295ff2b/resourcegroups/mlrg/workspaces/ml_workspace&tid=7907a55b-09eb-4e4c-aa4d-0906383f5e34\", \"run_id\": \"AutoML_d9d84163-a485-4902-85c7-b3342fd47603\", \"run_properties\": {\"run_id\": \"AutoML_d9d84163-a485-4902-85c7-b3342fd47603\", \"created_utc\": \"2021-11-30T16:13:53.108401Z\", \"properties\": {\"num_iterations\": \"1000\", \"training_type\": \"TrainFull\", \"acquisition_function\": \"EI\", \"primary_metric\": \"spearman_correlation\", \"train_split\": \"0\", \"acquisition_parameter\": \"0\", \"num_cross_validation\": \"5\", \"target\": \"local\", \"AMLSettingsJsonString\": \"{\\\"path\\\":null,\\\"name\\\":\\\"Tutorial-NYCTaxi\\\",\\\"subscription_id\\\":\\\"25789373-7091-4fdb-93ab-75458295ff2b\\\",\\\"resource_group\\\":\\\"mlrg\\\",\\\"workspace_name\\\":\\\"ml_workspace\\\",\\\"region\\\":\\\"eastus2\\\",\\\"compute_target\\\":\\\"local\\\",\\\"spark_service\\\":null,\\\"azure_service\\\":\\\"Microsoft.AzureNotebookVM\\\",\\\"many_models\\\":false,\\\"pipeline_fetch_max_batch_size\\\":1,\\\"enable_batch_run\\\":false,\\\"enable_run_restructure\\\":false,\\\"start_auxiliary_runs_before_parent_complete\\\":false,\\\"enable_code_generation\\\":false,\\\"iterations\\\":1000,\\\"primary_metric\\\":\\\"spearman_correlation\\\",\\\"task_type\\\":\\\"regression\\\",\\\"data_script\\\":null,\\\"test_size\\\":0.0,\\\"test_include_predictions_only\\\":false,\\\"validation_size\\\":0.0,\\\"n_cross_validations\\\":5,\\\"y_min\\\":null,\\\"y_max\\\":null,\\\"num_classes\\\":null,\\\"featurization\\\":\\\"auto\\\",\\\"_ignore_package_version_incompatibilities\\\":false,\\\"is_timeseries\\\":false,\\\"max_cores_per_iteration\\\":1,\\\"max_concurrent_iterations\\\":1,\\\"iteration_timeout_minutes\\\":10,\\\"mem_in_mb\\\":null,\\\"enforce_time_on_windows\\\":false,\\\"experiment_timeout_minutes\\\":30,\\\"experiment_exit_score\\\":null,\\\"whitelist_models\\\":null,\\\"blacklist_algos\\\":[\\\"TensorFlowDNN\\\",\\\"TensorFlowLinearRegressor\\\"],\\\"supported_models\\\":[\\\"FastLinearRegressor\\\",\\\"GradientBoosting\\\",\\\"XGBoostRegressor\\\",\\\"OnlineGradientDescentRegressor\\\",\\\"LightGBM\\\",\\\"TensorFlowLinearRegressor\\\",\\\"KNN\\\",\\\"ExtremeRandomTrees\\\",\\\"LassoLars\\\",\\\"TensorFlowDNN\\\",\\\"ElasticNet\\\",\\\"RandomForest\\\",\\\"DecisionTree\\\",\\\"SGD\\\"],\\\"private_models\\\":[],\\\"auto_blacklist\\\":true,\\\"blacklist_samples_reached\\\":false,\\\"exclude_nan_labels\\\":true,\\\"verbosity\\\":20,\\\"_debug_log\\\":\\\"automated_ml_errors.log\\\",\\\"show_warnings\\\":false,\\\"model_explainability\\\":true,\\\"service_url\\\":null,\\\"sdk_url\\\":null,\\\"sdk_packages\\\":null,\\\"enable_onnx_compatible_models\\\":false,\\\"enable_split_onnx_featurizer_estimator_models\\\":false,\\\"vm_type\\\":null,\\\"telemetry_verbosity\\\":20,\\\"send_telemetry\\\":true,\\\"enable_dnn\\\":false,\\\"scenario\\\":\\\"SDK-1.13.0\\\",\\\"environment_label\\\":null,\\\"save_mlflow\\\":false,\\\"force_text_dnn\\\":false,\\\"enable_feature_sweeping\\\":true,\\\"enable_early_stopping\\\":true,\\\"early_stopping_n_iters\\\":10,\\\"metrics\\\":null,\\\"enable_metric_confidence\\\":false,\\\"enable_ensembling\\\":true,\\\"enable_stack_ensembling\\\":true,\\\"ensemble_iterations\\\":15,\\\"enable_tf\\\":false,\\\"enable_subsampling\\\":null,\\\"subsample_seed\\\":null,\\\"enable_nimbusml\\\":false,\\\"enable_streaming\\\":false,\\\"force_streaming\\\":false,\\\"track_child_runs\\\":true,\\\"allowed_private_models\\\":[],\\\"label_column_name\\\":\\\"totalAmount\\\",\\\"weight_column_name\\\":null,\\\"cv_split_column_names\\\":null,\\\"positive_label\\\":null,\\\"enable_local_managed\\\":false,\\\"_local_managed_run_id\\\":null,\\\"cost_mode\\\":1,\\\"lag_length\\\":0,\\\"metric_operation\\\":\\\"maximize\\\",\\\"preprocess\\\":true}\", \"DataPrepJsonString\": null, \"EnableSubsampling\": null, \"runTemplate\": \"AutoML\", \"azureml.runsource\": \"automl\", \"display_task_type\": \"regression\", \"dependencies_versions\": \"{\\\"azureml-widgets\\\": \\\"1.34.0\\\", \\\"azureml-train\\\": \\\"1.34.0\\\", \\\"azureml-train-restclients-hyperdrive\\\": \\\"1.34.0\\\", \\\"azureml-train-core\\\": \\\"1.34.0\\\", \\\"azureml-train-automl\\\": \\\"1.34.0\\\", \\\"azureml-train-automl-runtime\\\": \\\"1.34.0\\\", \\\"azureml-train-automl-client\\\": \\\"1.34.0\\\", \\\"azureml-tensorboard\\\": \\\"1.34.0\\\", \\\"azureml-telemetry\\\": \\\"1.34.0\\\", \\\"azureml-sdk\\\": \\\"1.34.0\\\", \\\"azureml-samples\\\": \\\"0+unknown\\\", \\\"azureml-responsibleai\\\": \\\"1.34.0\\\", \\\"azureml-pipeline\\\": \\\"1.34.0\\\", \\\"azureml-pipeline-steps\\\": \\\"1.34.0\\\", \\\"azureml-pipeline-core\\\": \\\"1.34.0\\\", \\\"azureml-opendatasets\\\": \\\"1.34.0\\\", \\\"azureml-mlflow\\\": \\\"1.34.0\\\", \\\"azureml-interpret\\\": \\\"1.34.0\\\", \\\"azureml-inference-server-http\\\": \\\"0.3.1\\\", \\\"azureml-explain-model\\\": \\\"1.34.0\\\", \\\"azureml-defaults\\\": \\\"1.34.0\\\", \\\"azureml-dataset-runtime\\\": \\\"1.34.0\\\", \\\"azureml-dataprep\\\": \\\"2.22.2\\\", \\\"azureml-dataprep-rslex\\\": \\\"1.20.1\\\", \\\"azureml-dataprep-native\\\": \\\"38.0.0\\\", \\\"azureml-datadrift\\\": \\\"1.34.0\\\", \\\"azureml-core\\\": \\\"1.34.0\\\", \\\"azureml-contrib-services\\\": \\\"1.34.0\\\", \\\"azureml-contrib-server\\\": \\\"1.34.0\\\", \\\"azureml-contrib-reinforcementlearning\\\": \\\"1.34.0\\\", \\\"azureml-contrib-pipeline-steps\\\": \\\"1.34.0\\\", \\\"azureml-contrib-notebook\\\": \\\"1.34.0\\\", \\\"azureml-contrib-fairness\\\": \\\"1.34.0\\\", \\\"azureml-contrib-dataset\\\": \\\"1.34.0\\\", \\\"azureml-contrib-automl-pipeline-steps\\\": \\\"1.34.0\\\", \\\"azureml-cli-common\\\": \\\"1.34.0\\\", \\\"azureml-automl-runtime\\\": \\\"1.34.0\\\", \\\"azureml-automl-dnn-nlp\\\": \\\"1.34.0\\\", \\\"azureml-automl-core\\\": \\\"1.34.0\\\", \\\"azureml-accel-models\\\": \\\"1.34.0\\\"}\", \"_aml_system_scenario_identification\": \"Local.Parent\", \"ClientSdkVersion\": \"1.34.0\", \"ClientType\": \"SDK\", \"environment_cpu_name\": \"AzureML-AutoML\", \"environment_cpu_label\": \"prod\", \"environment_gpu_name\": \"AzureML-AutoML-GPU\", \"environment_gpu_label\": \"prod\", \"root_attribution\": \"automl\", \"attribution\": \"AutoML\", \"Orchestrator\": \"AutoML\", \"_azureml.ComputeTargetType\": \"local\", \"ProblemInfoJsonString\": \"{\\\"dataset_num_categorical\\\": 0, \\\"is_sparse\\\": true, \\\"subsampling\\\": false, \\\"has_extra_col\\\": true, \\\"dataset_classes\\\": 995, \\\"dataset_features\\\": 19, \\\"dataset_samples\\\": 18577, \\\"single_frequency_class_detected\\\": false}\"}, \"tags\": {\"model_explain_run\": \"best_run\", \"best_score\": \"0.9449093212802122\", \"best_pipeline\": \"VotingEnsemble\", \"automl_best_child_run_id\": \"AutoML_d9d84163-a485-4902-85c7-b3342fd47603_36\", \"model_explain_best_run_child_id\": \"AutoML_d9d84163-a485-4902-85c7-b3342fd47603_36\"}, \"end_time_utc\": \"2021-11-30T16:45:29.991057Z\", \"status\": \"Completed\", \"log_files\": {}, \"log_groups\": [], \"run_duration\": \"0:31:36\", \"run_number\": \"1\", \"run_queued_details\": {\"status\": \"Completed\", \"details\": null}}, \"child_runs\": [{\"run_id\": \"AutoML_d9d84163-a485-4902-85c7-b3342fd47603_0\", \"run_number\": 2, \"metric\": null, \"status\": \"Completed\", \"run_type\": null, \"training_percent\": \"100\", \"start_time\": \"2021-11-30T16:14:05.4647Z\", \"end_time\": \"2021-11-30T16:14:31.317524Z\", \"created_time\": \"2021-11-30T16:14:05.350643Z\", \"created_time_dt\": \"2021-11-30T16:14:05.350643Z\", \"duration\": \"0:00:25\", \"iteration\": \"0\", \"goal\": \"spearman_correlation_max\", \"run_name\": \"MaxAbsScaler, LightGBM\", \"run_properties\": \"copy=True\", \"primary_metric\": 0.94402079, \"best_metric\": 0.94402079}, {\"run_id\": \"AutoML_d9d84163-a485-4902-85c7-b3342fd47603_1\", \"run_number\": 3, \"metric\": null, \"status\": \"Completed\", \"run_type\": null, \"training_percent\": \"100\", \"start_time\": \"2021-11-30T16:14:31.656939Z\", \"end_time\": \"2021-11-30T16:14:57.975545Z\", \"created_time\": \"2021-11-30T16:14:31.544435Z\", \"created_time_dt\": \"2021-11-30T16:14:31.544435Z\", \"duration\": \"0:00:26\", \"iteration\": \"1\", \"goal\": \"spearman_correlation_max\", \"run_name\": \"MaxAbsScaler, XGBoostRegressor\", \"run_properties\": \"copy=True\", \"primary_metric\": 0.9443785, \"best_metric\": 0.9443785}, {\"run_id\": \"AutoML_d9d84163-a485-4902-85c7-b3342fd47603_2\", \"run_number\": 4, \"metric\": null, \"status\": \"Completed\", \"run_type\": null, \"training_percent\": \"100\", \"start_time\": \"2021-11-30T16:14:58.710096Z\", \"end_time\": \"2021-11-30T16:15:22.327559Z\", \"created_time\": \"2021-11-30T16:14:58.584543Z\", \"created_time_dt\": \"2021-11-30T16:14:58.584543Z\", \"duration\": \"0:00:23\", \"iteration\": \"2\", \"goal\": \"spearman_correlation_max\", \"run_name\": \"MaxAbsScaler, ElasticNet\", \"run_properties\": \"copy=True\", \"primary_metric\": 0.94472331, \"best_metric\": 0.94472331}, {\"run_id\": \"AutoML_d9d84163-a485-4902-85c7-b3342fd47603_3\", \"run_number\": 5, \"metric\": null, \"status\": \"Completed\", \"run_type\": null, \"training_percent\": \"100\", \"start_time\": \"2021-11-30T16:15:23.652237Z\", \"end_time\": \"2021-11-30T16:15:51.439526Z\", \"created_time\": \"2021-11-30T16:15:23.547236Z\", \"created_time_dt\": \"2021-11-30T16:15:23.547236Z\", \"duration\": \"0:00:27\", \"iteration\": \"3\", \"goal\": \"spearman_correlation_max\", \"run_name\": \"StandardScalerWrapper, XGBoostRegressor\", \"run_properties\": \"\\n    copy=True,\\n    with_mean=False,\\n    with_std=False\\n\", \"primary_metric\": 0.94207911, \"best_metric\": 0.94472331}, {\"run_id\": \"AutoML_d9d84163-a485-4902-85c7-b3342fd47603_4\", \"run_number\": 6, \"metric\": null, \"status\": \"Completed\", \"run_type\": null, \"training_percent\": \"100\", \"start_time\": \"2021-11-30T16:15:52.789221Z\", \"end_time\": \"2021-11-30T16:16:16.133538Z\", \"created_time\": \"2021-11-30T16:15:52.668349Z\", \"created_time_dt\": \"2021-11-30T16:15:52.668349Z\", \"duration\": \"0:00:23\", \"iteration\": \"4\", \"goal\": \"spearman_correlation_max\", \"run_name\": \"StandardScalerWrapper, XGBoostRegressor\", \"run_properties\": \"\\n    copy=True,\\n    with_mean=False,\\n    with_std=False\\n\", \"primary_metric\": 0.93967836, \"best_metric\": 0.94472331}, {\"run_id\": \"AutoML_d9d84163-a485-4902-85c7-b3342fd47603_5\", \"run_number\": 7, \"metric\": null, \"status\": \"Completed\", \"run_type\": null, \"training_percent\": \"100\", \"start_time\": \"2021-11-30T16:16:17.445539Z\", \"end_time\": \"2021-11-30T16:16:41.439658Z\", \"created_time\": \"2021-11-30T16:16:17.309486Z\", \"created_time_dt\": \"2021-11-30T16:16:17.309486Z\", \"duration\": \"0:00:24\", \"iteration\": \"5\", \"goal\": \"spearman_correlation_max\", \"run_name\": \"StandardScalerWrapper, ExtremeRandomTrees\", \"run_properties\": \"\\n    copy=True,\\n    with_mean=False,\\n    with_std=False\\n\", \"primary_metric\": 0.88929264, \"best_metric\": 0.94472331}, {\"run_id\": \"AutoML_d9d84163-a485-4902-85c7-b3342fd47603_6\", \"run_number\": 8, \"metric\": null, \"status\": \"Completed\", \"run_type\": null, \"training_percent\": \"100\", \"start_time\": \"2021-11-30T16:16:42.841465Z\", \"end_time\": \"2021-11-30T16:17:08.941689Z\", \"created_time\": \"2021-11-30T16:16:42.718854Z\", \"created_time_dt\": \"2021-11-30T16:16:42.718854Z\", \"duration\": \"0:00:26\", \"iteration\": \"6\", \"goal\": \"spearman_correlation_max\", \"run_name\": \"StandardScalerWrapper, RandomForest\", \"run_properties\": \"\\n    copy=True,\\n    with_mean=False,\\n    with_std=True\\n\", \"primary_metric\": 0.94124211, \"best_metric\": 0.94472331}, {\"run_id\": \"AutoML_d9d84163-a485-4902-85c7-b3342fd47603_7\", \"run_number\": 9, \"metric\": null, \"status\": \"Completed\", \"run_type\": null, \"training_percent\": \"100\", \"start_time\": \"2021-11-30T16:17:10.30782Z\", \"end_time\": \"2021-11-30T16:17:32.38013Z\", \"created_time\": \"2021-11-30T16:17:10.191497Z\", \"created_time_dt\": \"2021-11-30T16:17:10.191497Z\", \"duration\": \"0:00:22\", \"iteration\": \"7\", \"goal\": \"spearman_correlation_max\", \"run_name\": \"StandardScalerWrapper, DecisionTree\", \"run_properties\": \"\\n    copy=True,\\n    with_mean=False,\\n    with_std=True\\n\", \"primary_metric\": 0.94370023, \"best_metric\": 0.94472331}, {\"run_id\": \"AutoML_d9d84163-a485-4902-85c7-b3342fd47603_8\", \"run_number\": 10, \"metric\": null, \"status\": \"Completed\", \"run_type\": null, \"training_percent\": \"100\", \"start_time\": \"2021-11-30T16:17:33.671182Z\", \"end_time\": \"2021-11-30T16:17:59.037132Z\", \"created_time\": \"2021-11-30T16:17:33.547642Z\", \"created_time_dt\": \"2021-11-30T16:17:33.547642Z\", \"duration\": \"0:00:25\", \"iteration\": \"8\", \"goal\": \"spearman_correlation_max\", \"run_name\": \"StandardScalerWrapper, LightGBM\", \"run_properties\": \"\\n    copy=True,\\n    with_mean=False,\\n    with_std=True\\n\", \"primary_metric\": 0.9439918, \"best_metric\": 0.94472331}, {\"run_id\": \"AutoML_d9d84163-a485-4902-85c7-b3342fd47603_9\", \"run_number\": 11, \"metric\": null, \"status\": \"Completed\", \"run_type\": null, \"training_percent\": \"100\", \"start_time\": \"2021-11-30T16:18:00.431649Z\", \"end_time\": \"2021-11-30T16:18:30.723227Z\", \"created_time\": \"2021-11-30T16:18:00.297351Z\", \"created_time_dt\": \"2021-11-30T16:18:00.297351Z\", \"duration\": \"0:00:30\", \"iteration\": \"9\", \"goal\": \"spearman_correlation_max\", \"run_name\": \"StandardScalerWrapper, LightGBM\", \"run_properties\": \"\\n    copy=True,\\n    with_mean=False,\\n    with_std=False\\n\", \"primary_metric\": 0.94295045, \"best_metric\": 0.94472331}, {\"run_id\": \"AutoML_d9d84163-a485-4902-85c7-b3342fd47603_10\", \"run_number\": 12, \"metric\": null, \"status\": \"Completed\", \"run_type\": null, \"training_percent\": \"100\", \"start_time\": \"2021-11-30T16:18:32.095108Z\", \"end_time\": \"2021-11-30T16:18:54.030221Z\", \"created_time\": \"2021-11-30T16:18:31.981237Z\", \"created_time_dt\": \"2021-11-30T16:18:31.981237Z\", \"duration\": \"0:00:22\", \"iteration\": \"10\", \"goal\": \"spearman_correlation_max\", \"run_name\": \"StandardScalerWrapper, ElasticNet\", \"run_properties\": \"\\n    copy=True,\\n    with_mean=False,\\n    with_std=True\\n\", \"primary_metric\": 0.9447427, \"best_metric\": 0.9447427}, {\"run_id\": \"AutoML_d9d84163-a485-4902-85c7-b3342fd47603_11\", \"run_number\": 13, \"metric\": null, \"status\": \"Completed\", \"run_type\": null, \"training_percent\": \"100\", \"start_time\": \"2021-11-30T16:18:55.299576Z\", \"end_time\": \"2021-11-30T16:19:18.470976Z\", \"created_time\": \"2021-11-30T16:18:55.183712Z\", \"created_time_dt\": \"2021-11-30T16:18:55.183712Z\", \"duration\": \"0:00:23\", \"iteration\": \"11\", \"goal\": \"spearman_correlation_max\", \"run_name\": \"StandardScalerWrapper, ElasticNet\", \"run_properties\": \"\\n    copy=True,\\n    with_mean=False,\\n    with_std=False\\n\", \"primary_metric\": 0.94468821, \"best_metric\": 0.9447427}, {\"run_id\": \"AutoML_d9d84163-a485-4902-85c7-b3342fd47603_12\", \"run_number\": 14, \"metric\": null, \"status\": \"Completed\", \"run_type\": null, \"training_percent\": \"100\", \"start_time\": \"2021-11-30T16:19:19.73288Z\", \"end_time\": \"2021-11-30T16:20:39.818045Z\", \"created_time\": \"2021-11-30T16:19:19.594922Z\", \"created_time_dt\": \"2021-11-30T16:19:19.594922Z\", \"duration\": \"0:01:20\", \"iteration\": \"12\", \"goal\": \"spearman_correlation_max\", \"run_name\": \"MaxAbsScaler, ExtremeRandomTrees\", \"run_properties\": \"copy=True\", \"primary_metric\": 0.91493198, \"best_metric\": 0.9447427}, {\"run_id\": \"AutoML_d9d84163-a485-4902-85c7-b3342fd47603_13\", \"run_number\": 15, \"metric\": null, \"status\": \"Completed\", \"run_type\": null, \"training_percent\": \"100\", \"start_time\": \"2021-11-30T16:20:43.135246Z\", \"end_time\": \"2021-11-30T16:21:13.606232Z\", \"created_time\": \"2021-11-30T16:20:42.900966Z\", \"created_time_dt\": \"2021-11-30T16:20:42.900966Z\", \"duration\": \"0:00:30\", \"iteration\": \"13\", \"goal\": \"spearman_correlation_max\", \"run_name\": \"StandardScalerWrapper, XGBoostRegressor\", \"run_properties\": \"\\n    copy=True,\\n    with_mean=False,\\n    with_std=False\\n\", \"primary_metric\": 0.94219438, \"best_metric\": 0.9447427}, {\"run_id\": \"AutoML_d9d84163-a485-4902-85c7-b3342fd47603_14\", \"run_number\": 16, \"metric\": null, \"status\": \"Completed\", \"run_type\": null, \"training_percent\": \"100\", \"start_time\": \"2021-11-30T16:21:15.121366Z\", \"end_time\": \"2021-11-30T16:21:38.182691Z\", \"created_time\": \"2021-11-30T16:21:14.863062Z\", \"created_time_dt\": \"2021-11-30T16:21:14.863062Z\", \"duration\": \"0:00:23\", \"iteration\": \"14\", \"goal\": \"spearman_correlation_max\", \"run_name\": \"StandardScalerWrapper, DecisionTree\", \"run_properties\": \"\\n    copy=True,\\n    with_mean=False,\\n    with_std=True\\n\", \"primary_metric\": 0.94376478, \"best_metric\": 0.9447427}, {\"run_id\": \"AutoML_d9d84163-a485-4902-85c7-b3342fd47603_15\", \"run_number\": 17, \"metric\": null, \"status\": \"Completed\", \"run_type\": null, \"training_percent\": \"100\", \"start_time\": \"2021-11-30T16:21:39.778805Z\", \"end_time\": \"2021-11-30T16:22:04.785473Z\", \"created_time\": \"2021-11-30T16:21:39.366299Z\", \"created_time_dt\": \"2021-11-30T16:21:39.366299Z\", \"duration\": \"0:00:25\", \"iteration\": \"15\", \"goal\": \"spearman_correlation_max\", \"run_name\": \"StandardScalerWrapper, ElasticNet\", \"run_properties\": \"\\n    copy=True,\\n    with_mean=False,\\n    with_std=True\\n\", \"primary_metric\": 0.94466839, \"best_metric\": 0.9447427}, {\"run_id\": \"AutoML_d9d84163-a485-4902-85c7-b3342fd47603_16\", \"run_number\": 18, \"metric\": null, \"status\": \"Completed\", \"run_type\": null, \"training_percent\": \"100\", \"start_time\": \"2021-11-30T16:22:06.670904Z\", \"end_time\": \"2021-11-30T16:22:36.253138Z\", \"created_time\": \"2021-11-30T16:22:06.440414Z\", \"created_time_dt\": \"2021-11-30T16:22:06.440414Z\", \"duration\": \"0:00:29\", \"iteration\": \"16\", \"goal\": \"spearman_correlation_max\", \"run_name\": \"StandardScalerWrapper, ExtremeRandomTrees\", \"run_properties\": \"\\n    copy=True,\\n    with_mean=False,\\n    with_std=False\\n\", \"primary_metric\": 0.93675526, \"best_metric\": 0.9447427}, {\"run_id\": \"AutoML_d9d84163-a485-4902-85c7-b3342fd47603_17\", \"run_number\": 19, \"metric\": null, \"status\": \"Completed\", \"run_type\": null, \"training_percent\": \"100\", \"start_time\": \"2021-11-30T16:22:38.347527Z\", \"end_time\": \"2021-11-30T16:23:02.380998Z\", \"created_time\": \"2021-11-30T16:22:37.688869Z\", \"created_time_dt\": \"2021-11-30T16:22:37.688869Z\", \"duration\": \"0:00:24\", \"iteration\": \"17\", \"goal\": \"spearman_correlation_max\", \"run_name\": \"MaxAbsScaler, DecisionTree\", \"run_properties\": \"copy=True\", \"primary_metric\": 0.94072735, \"best_metric\": 0.9447427}, {\"run_id\": \"AutoML_d9d84163-a485-4902-85c7-b3342fd47603_18\", \"run_number\": 20, \"metric\": null, \"status\": \"Completed\", \"run_type\": null, \"training_percent\": \"100\", \"start_time\": \"2021-11-30T16:23:03.81252Z\", \"end_time\": \"2021-11-30T16:23:28.281593Z\", \"created_time\": \"2021-11-30T16:23:03.611146Z\", \"created_time_dt\": \"2021-11-30T16:23:03.611146Z\", \"duration\": \"0:00:24\", \"iteration\": \"18\", \"goal\": \"spearman_correlation_max\", \"run_name\": \"MaxAbsScaler, SGD\", \"run_properties\": \"copy=True\", \"primary_metric\": 0.94465626, \"best_metric\": 0.9447427}, {\"run_id\": \"AutoML_d9d84163-a485-4902-85c7-b3342fd47603_19\", \"run_number\": 21, \"metric\": null, \"status\": \"Completed\", \"run_type\": null, \"training_percent\": \"100\", \"start_time\": \"2021-11-30T16:23:29.689904Z\", \"end_time\": \"2021-11-30T16:24:18.64074Z\", \"created_time\": \"2021-11-30T16:23:29.45698Z\", \"created_time_dt\": \"2021-11-30T16:23:29.45698Z\", \"duration\": \"0:00:49\", \"iteration\": \"19\", \"goal\": \"spearman_correlation_max\", \"run_name\": \"SparseNormalizer, XGBoostRegressor\", \"run_properties\": \"copy=True, norm='l1'\", \"primary_metric\": 0.94205406, \"best_metric\": 0.9447427}, {\"run_id\": \"AutoML_d9d84163-a485-4902-85c7-b3342fd47603_20\", \"run_number\": 22, \"metric\": null, \"status\": \"Completed\", \"run_type\": null, \"training_percent\": \"100\", \"start_time\": \"2021-11-30T16:24:20.035572Z\", \"end_time\": \"2021-11-30T16:24:47.516579Z\", \"created_time\": \"2021-11-30T16:24:19.806431Z\", \"created_time_dt\": \"2021-11-30T16:24:19.806431Z\", \"duration\": \"0:00:27\", \"iteration\": \"20\", \"goal\": \"spearman_correlation_max\", \"run_name\": \"MaxAbsScaler, RandomForest\", \"run_properties\": \"copy=True\", \"primary_metric\": 0.94381479, \"best_metric\": 0.9447427}, {\"run_id\": \"AutoML_d9d84163-a485-4902-85c7-b3342fd47603_21\", \"run_number\": 23, \"metric\": null, \"status\": \"Completed\", \"run_type\": null, \"training_percent\": \"100\", \"start_time\": \"2021-11-30T16:24:48.797607Z\", \"end_time\": \"2021-11-30T16:25:35.076512Z\", \"created_time\": \"2021-11-30T16:24:48.676243Z\", \"created_time_dt\": \"2021-11-30T16:24:48.676243Z\", \"duration\": \"0:00:46\", \"iteration\": \"21\", \"goal\": \"spearman_correlation_max\", \"run_name\": \"StandardScalerWrapper, ExtremeRandomTrees\", \"run_properties\": \"\\n    copy=True,\\n    with_mean=False,\\n    with_std=True\\n\", \"primary_metric\": 0.94153149, \"best_metric\": 0.9447427}, {\"run_id\": \"AutoML_d9d84163-a485-4902-85c7-b3342fd47603_22\", \"run_number\": 24, \"metric\": null, \"status\": \"Completed\", \"run_type\": null, \"training_percent\": \"100\", \"start_time\": \"2021-11-30T16:25:36.302316Z\", \"end_time\": \"2021-11-30T16:25:59.090838Z\", \"created_time\": \"2021-11-30T16:25:36.177264Z\", \"created_time_dt\": \"2021-11-30T16:25:36.177264Z\", \"duration\": \"0:00:22\", \"iteration\": \"22\", \"goal\": \"spearman_correlation_max\", \"run_name\": \"StandardScalerWrapper, ElasticNet\", \"run_properties\": \"\\n    copy=True,\\n    with_mean=False,\\n    with_std=True\\n\", \"primary_metric\": 0.9447816, \"best_metric\": 0.9447816}, {\"run_id\": \"AutoML_d9d84163-a485-4902-85c7-b3342fd47603_23\", \"run_number\": 25, \"metric\": null, \"status\": \"Completed\", \"run_type\": null, \"training_percent\": \"100\", \"start_time\": \"2021-11-30T16:26:00.363536Z\", \"end_time\": \"2021-11-30T16:28:09.919291Z\", \"created_time\": \"2021-11-30T16:26:00.255114Z\", \"created_time_dt\": \"2021-11-30T16:26:00.255114Z\", \"duration\": \"0:02:09\", \"iteration\": \"23\", \"goal\": \"spearman_correlation_max\", \"run_name\": \"SparseNormalizer, RandomForest\", \"run_properties\": \"copy=True, norm='l1'\", \"primary_metric\": 0.94076596, \"best_metric\": 0.9447816}, {\"run_id\": \"AutoML_d9d84163-a485-4902-85c7-b3342fd47603_24\", \"run_number\": 26, \"metric\": null, \"status\": \"Completed\", \"run_type\": null, \"training_percent\": \"100\", \"start_time\": \"2021-11-30T16:28:11.110189Z\", \"end_time\": \"2021-11-30T16:28:33.246669Z\", \"created_time\": \"2021-11-30T16:28:10.983188Z\", \"created_time_dt\": \"2021-11-30T16:28:10.983188Z\", \"duration\": \"0:00:22\", \"iteration\": \"24\", \"goal\": \"spearman_correlation_max\", \"run_name\": \"MaxAbsScaler, SGD\", \"run_properties\": \"copy=True\", \"primary_metric\": 0.94463459, \"best_metric\": 0.9447816}, {\"run_id\": \"AutoML_d9d84163-a485-4902-85c7-b3342fd47603_25\", \"run_number\": 27, \"metric\": null, \"status\": \"Completed\", \"run_type\": null, \"training_percent\": \"100\", \"start_time\": \"2021-11-30T16:28:35.958084Z\", \"end_time\": \"2021-11-30T16:28:58.440693Z\", \"created_time\": \"2021-11-30T16:28:35.830969Z\", \"created_time_dt\": \"2021-11-30T16:28:35.830969Z\", \"duration\": \"0:00:22\", \"iteration\": \"25\", \"goal\": \"spearman_correlation_max\", \"run_name\": \"TruncatedSVDWrapper, ElasticNet\", \"run_properties\": \"n_components=0.2573684210526316, random_state=None\", \"primary_metric\": 0.94421357, \"best_metric\": 0.9447816}, {\"run_id\": \"AutoML_d9d84163-a485-4902-85c7-b3342fd47603_26\", \"run_number\": 28, \"metric\": null, \"status\": \"Completed\", \"run_type\": null, \"training_percent\": \"100\", \"start_time\": \"2021-11-30T16:28:59.675757Z\", \"end_time\": \"2021-11-30T16:29:55.14069Z\", \"created_time\": \"2021-11-30T16:28:59.552106Z\", \"created_time_dt\": \"2021-11-30T16:28:59.552106Z\", \"duration\": \"0:00:55\", \"iteration\": \"26\", \"goal\": \"spearman_correlation_max\", \"run_name\": \"MaxAbsScaler, GradientBoosting\", \"run_properties\": \"copy=True\", \"primary_metric\": 0.94145378, \"best_metric\": 0.9447816}, {\"run_id\": \"AutoML_d9d84163-a485-4902-85c7-b3342fd47603_27\", \"run_number\": 29, \"metric\": null, \"status\": \"Completed\", \"run_type\": null, \"training_percent\": \"100\", \"start_time\": \"2021-11-30T16:29:56.400979Z\", \"end_time\": \"2021-11-30T16:30:35.955176Z\", \"created_time\": \"2021-11-30T16:29:56.288809Z\", \"created_time_dt\": \"2021-11-30T16:29:56.288809Z\", \"duration\": \"0:00:39\", \"iteration\": \"27\", \"goal\": \"spearman_correlation_max\", \"run_name\": \"StandardScalerWrapper, XGBoostRegressor\", \"run_properties\": \"\\n    copy=True,\\n    with_mean=False,\\n    with_std=False\\n\", \"primary_metric\": 0.94285604, \"best_metric\": 0.9447816}, {\"run_id\": \"AutoML_d9d84163-a485-4902-85c7-b3342fd47603_28\", \"run_number\": 30, \"metric\": null, \"status\": \"Failed\", \"run_type\": null, \"training_percent\": \"100\", \"start_time\": \"2021-11-30T16:30:37.222539Z\", \"end_time\": \"2021-11-30T16:40:40.717579Z\", \"created_time\": \"2021-11-30T16:30:37.087118Z\", \"created_time_dt\": \"2021-11-30T16:30:37.087118Z\", \"duration\": \"0:10:03\", \"iteration\": \"28\", \"goal\": \"spearman_correlation_max\", \"run_name\": \"StandardScalerWrapper, ExtremeRandomTrees\", \"run_properties\": null}, {\"run_id\": \"AutoML_d9d84163-a485-4902-85c7-b3342fd47603_29\", \"run_number\": 31, \"metric\": null, \"status\": \"Completed\", \"run_type\": null, \"training_percent\": \"100\", \"start_time\": \"2021-11-30T16:40:42.001033Z\", \"end_time\": \"2021-11-30T16:41:09.984745Z\", \"created_time\": \"2021-11-30T16:40:41.845456Z\", \"created_time_dt\": \"2021-11-30T16:40:41.845456Z\", \"duration\": \"0:00:28\", \"iteration\": \"29\", \"goal\": \"spearman_correlation_max\", \"run_name\": \"MaxAbsScaler, GradientBoosting\", \"run_properties\": \"copy=True\", \"primary_metric\": 0.94426576, \"best_metric\": 0.9447816}, {\"run_id\": \"AutoML_d9d84163-a485-4902-85c7-b3342fd47603_30\", \"run_number\": 32, \"metric\": null, \"status\": \"Completed\", \"run_type\": null, \"training_percent\": \"100\", \"start_time\": \"2021-11-30T16:41:12.116713Z\", \"end_time\": \"2021-11-30T16:41:36.426723Z\", \"created_time\": \"2021-11-30T16:41:11.988733Z\", \"created_time_dt\": \"2021-11-30T16:41:11.988733Z\", \"duration\": \"0:00:24\", \"iteration\": \"30\", \"goal\": \"spearman_correlation_max\", \"run_name\": \"MaxAbsScaler, ElasticNet\", \"run_properties\": \"copy=True\", \"primary_metric\": 0.94478976, \"best_metric\": 0.94478976}, {\"run_id\": \"AutoML_d9d84163-a485-4902-85c7-b3342fd47603_31\", \"run_number\": 33, \"metric\": null, \"status\": \"Completed\", \"run_type\": null, \"training_percent\": \"100\", \"start_time\": \"2021-11-30T16:41:37.817311Z\", \"end_time\": \"2021-11-30T16:42:04.462278Z\", \"created_time\": \"2021-11-30T16:41:37.615843Z\", \"created_time_dt\": \"2021-11-30T16:41:37.615843Z\", \"duration\": \"0:00:26\", \"iteration\": \"31\", \"goal\": \"spearman_correlation_max\", \"run_name\": \"StandardScalerWrapper, LightGBM\", \"run_properties\": \"\\n    copy=True,\\n    with_mean=False,\\n    with_std=False\\n\", \"primary_metric\": 0.9441236, \"best_metric\": 0.94478976}, {\"run_id\": \"AutoML_d9d84163-a485-4902-85c7-b3342fd47603_32\", \"run_number\": 34, \"metric\": null, \"status\": \"Completed\", \"run_type\": null, \"training_percent\": \"100\", \"start_time\": \"2021-11-30T16:42:05.854107Z\", \"end_time\": \"2021-11-30T16:42:56.55346Z\", \"created_time\": \"2021-11-30T16:42:05.728979Z\", \"created_time_dt\": \"2021-11-30T16:42:05.728979Z\", \"duration\": \"0:00:50\", \"iteration\": \"32\", \"goal\": \"spearman_correlation_max\", \"run_name\": \"MaxAbsScaler, GradientBoosting\", \"run_properties\": \"copy=True\", \"primary_metric\": 0.94449597, \"best_metric\": 0.94478976}, {\"run_id\": \"AutoML_d9d84163-a485-4902-85c7-b3342fd47603_33\", \"run_number\": 35, \"metric\": null, \"status\": \"Completed\", \"run_type\": null, \"training_percent\": \"100\", \"start_time\": \"2021-11-30T16:42:57.893468Z\", \"end_time\": \"2021-11-30T16:43:21.535283Z\", \"created_time\": \"2021-11-30T16:42:57.77887Z\", \"created_time_dt\": \"2021-11-30T16:42:57.77887Z\", \"duration\": \"0:00:23\", \"iteration\": \"33\", \"goal\": \"spearman_correlation_max\", \"run_name\": \"StandardScalerWrapper, XGBoostRegressor\", \"run_properties\": \"\\n    copy=True,\\n    with_mean=False,\\n    with_std=False\\n\", \"primary_metric\": 0.94132136, \"best_metric\": 0.94478976}, {\"run_id\": \"AutoML_d9d84163-a485-4902-85c7-b3342fd47603_34\", \"run_number\": 36, \"metric\": null, \"status\": \"Completed\", \"run_type\": null, \"training_percent\": \"100\", \"start_time\": \"2021-11-30T16:43:22.757757Z\", \"end_time\": \"2021-11-30T16:43:47.773578Z\", \"created_time\": \"2021-11-30T16:43:22.642912Z\", \"created_time_dt\": \"2021-11-30T16:43:22.642912Z\", \"duration\": \"0:00:25\", \"iteration\": \"34\", \"goal\": \"spearman_correlation_max\", \"run_name\": \"SparseNormalizer, XGBoostRegressor\", \"run_properties\": \"copy=True, norm='max'\", \"primary_metric\": 0.94415118, \"best_metric\": 0.94478976}, {\"run_id\": \"AutoML_d9d84163-a485-4902-85c7-b3342fd47603_35\", \"run_number\": 37, \"metric\": null, \"status\": \"Completed\", \"run_type\": null, \"training_percent\": \"100\", \"start_time\": \"2021-11-30T16:43:49.929953Z\", \"end_time\": \"2021-11-30T16:44:13.229245Z\", \"created_time\": \"2021-11-30T16:43:49.785143Z\", \"created_time_dt\": \"2021-11-30T16:43:49.785143Z\", \"duration\": \"0:00:23\", \"iteration\": \"35\", \"goal\": \"spearman_correlation_max\", \"run_name\": \"TruncatedSVDWrapper, ElasticNet\", \"run_properties\": \"n_components=0.40578947368421053, random_state=None\", \"primary_metric\": 0.94480048, \"best_metric\": 0.94480048}, {\"run_id\": \"AutoML_d9d84163-a485-4902-85c7-b3342fd47603_36\", \"run_number\": 38, \"metric\": null, \"status\": \"Completed\", \"run_type\": null, \"training_percent\": \"100\", \"start_time\": \"2021-11-30T16:44:13.575278Z\", \"end_time\": \"2021-11-30T16:44:50.630991Z\", \"created_time\": \"2021-11-30T16:44:13.460974Z\", \"created_time_dt\": \"2021-11-30T16:44:13.460974Z\", \"duration\": \"0:00:37\", \"iteration\": \"36\", \"goal\": \"spearman_correlation_max\", \"run_name\": \"VotingEnsemble\", \"run_properties\": \"\\n    estimators=[('35', Pipeline(\\n        memory=None,\\n        steps=[('truncatedsvdwrapper', TruncatedSVDWrapper(\\n            n_components=0.40578947368421053,\\n            random_state=None\\n        \", \"primary_metric\": 0.94490932, \"best_metric\": 0.94490932}, {\"run_id\": \"AutoML_d9d84163-a485-4902-85c7-b3342fd47603_37\", \"run_number\": 39, \"metric\": null, \"status\": \"Completed\", \"run_type\": null, \"training_percent\": \"100\", \"start_time\": \"2021-11-30T16:44:50.965864Z\", \"end_time\": \"2021-11-30T16:45:29.59946Z\", \"created_time\": \"2021-11-30T16:44:50.854983Z\", \"created_time_dt\": \"2021-11-30T16:44:50.854983Z\", \"duration\": \"0:00:38\", \"iteration\": \"37\", \"goal\": \"spearman_correlation_max\", \"run_name\": \"StackEnsemble\", \"run_properties\": \"\\n    base_learners=[('35', Pipeline(\\n        memory=None,\\n        steps=[('truncatedsvdwrapper', TruncatedSVDWrapper(\\n            n_components=0.40578947368421053,\\n            random_state=None\\n        \", \"primary_metric\": 0.94488365, \"best_metric\": 0.94490932}], \"children_metrics\": {\"categories\": [0], \"series\": {\"r2_score\": [{\"categories\": [\"0\", \"1\", \"2\", \"3\", \"4\", \"5\", \"6\", \"7\", \"8\", \"9\", \"10\", \"11\", \"12\", \"13\", \"14\", \"15\", \"16\", \"17\", \"18\", \"19\", \"20\", \"21\", \"22\", \"23\", \"24\", \"25\", \"26\", \"27\", \"29\", \"30\", \"31\", \"32\", \"33\", \"34\", \"35\", \"36\", \"37\"], \"mode\": \"markers\", \"name\": \"r2_score\", \"stepped\": false, \"type\": \"scatter\", \"data\": [0.851324352340163, 0.8552814625962922, 0.8619911604229096, 0.8442387297048581, 0.8274558074714371, 0.5154274456004704, 0.8366122913950435, 0.8477582179890935, 0.8489733293780029, 0.8202745204916659, 0.8608448619268907, 0.8620093857409554, 0.5805245552494458, 0.8438570554198744, 0.8484473512397791, 0.8598279425020339, 0.8250362521358852, 0.8518942709003474, 0.8617961603553818, 0.8424628721889826, 0.851596239129328, 0.8449528930939609, 0.8617883393596337, 0.8343826287427669, 0.8612976925986506, 0.0023780426532514333, 0.7508274401404444, 0.8358100792582539, 0.6971477387413305, 0.02023079688228351, 0.8587682047380423, 0.8506583139059598, 0.8281346320998775, 0.8567161070753594, 0.8612956555041624, 0.8229091636768384, 0.8610256976903361]}, {\"categories\": [\"0\", \"1\", \"2\", \"3\", \"4\", \"5\", \"6\", \"7\", \"8\", \"9\", \"10\", \"11\", \"12\", \"13\", \"14\", \"15\", \"16\", \"17\", \"18\", \"19\", \"20\", \"21\", \"22\", \"23\", \"24\", \"25\", \"26\", \"27\", \"29\", \"30\", \"31\", \"32\", \"33\", \"34\", \"35\", \"36\", \"37\"], \"mode\": \"lines\", \"name\": \"r2_score_max\", \"stepped\": true, \"type\": \"scatter\", \"data\": [0.851324352340163, 0.8552814625962922, 0.8619911604229096, 0.8619911604229096, 0.8619911604229096, 0.8619911604229096, 0.8619911604229096, 0.8619911604229096, 0.8619911604229096, 0.8619911604229096, 0.8619911604229096, 0.8620093857409554, 0.8620093857409554, 0.8620093857409554, 0.8620093857409554, 0.8620093857409554, 0.8620093857409554, 0.8620093857409554, 0.8620093857409554, 0.8620093857409554, 0.8620093857409554, 0.8620093857409554, 0.8620093857409554, 0.8620093857409554, 0.8620093857409554, 0.8620093857409554, 0.8620093857409554, 0.8620093857409554, 0.8620093857409554, 0.8620093857409554, 0.8620093857409554, 0.8620093857409554, 0.8620093857409554, 0.8620093857409554, 0.8620093857409554, 0.8620093857409554, 0.8620093857409554]}], \"spearman_correlation\": [{\"categories\": [\"0\", \"1\", \"2\", \"3\", \"4\", \"5\", \"6\", \"7\", \"8\", \"9\", \"10\", \"11\", \"12\", \"13\", \"14\", \"15\", \"16\", \"17\", \"18\", \"19\", \"20\", \"21\", \"22\", \"23\", \"24\", \"25\", \"26\", \"27\", \"29\", \"30\", \"31\", \"32\", \"33\", \"34\", \"35\", \"36\", \"37\"], \"mode\": \"markers\", \"name\": \"spearman_correlation\", \"stepped\": false, \"type\": \"scatter\", \"data\": [0.9440207948019322, 0.9443784992453577, 0.9447233061675396, 0.9420791074538142, 0.9396783636405871, 0.8892926352985911, 0.9412421118445128, 0.9437002287926998, 0.9439917997839549, 0.9429504456042579, 0.9447426984379707, 0.9446882090422581, 0.914931979997035, 0.9421943844517525, 0.9437647781030638, 0.9446683949809375, 0.9367552557383639, 0.9407273529805339, 0.9446562593050831, 0.9420540632942942, 0.9438147888620942, 0.9415314949611128, 0.9447816021744468, 0.9407659635401353, 0.9446345856823989, 0.9442135663363045, 0.9414537836805186, 0.9428560409223747, 0.9442657552210789, 0.9447897599720289, 0.9441235962166405, 0.9444959659017984, 0.941321358484006, 0.9441511842562426, 0.9448004798933779, 0.9449093212802122, 0.9448836477401201]}, {\"categories\": [\"0\", \"1\", \"2\", \"3\", \"4\", \"5\", \"6\", \"7\", \"8\", \"9\", \"10\", \"11\", \"12\", \"13\", \"14\", \"15\", \"16\", \"17\", \"18\", \"19\", \"20\", \"21\", \"22\", \"23\", \"24\", \"25\", \"26\", \"27\", \"29\", \"30\", \"31\", \"32\", \"33\", \"34\", \"35\", \"36\", \"37\"], \"mode\": \"lines\", \"name\": \"spearman_correlation_max\", \"stepped\": true, \"type\": \"scatter\", \"data\": [0.9440207948019322, 0.9443784992453577, 0.9447233061675396, 0.9447233061675396, 0.9447233061675396, 0.9447233061675396, 0.9447233061675396, 0.9447233061675396, 0.9447233061675396, 0.9447233061675396, 0.9447426984379707, 0.9447426984379707, 0.9447426984379707, 0.9447426984379707, 0.9447426984379707, 0.9447426984379707, 0.9447426984379707, 0.9447426984379707, 0.9447426984379707, 0.9447426984379707, 0.9447426984379707, 0.9447426984379707, 0.9447816021744468, 0.9447816021744468, 0.9447816021744468, 0.9447816021744468, 0.9447816021744468, 0.9447816021744468, 0.9447816021744468, 0.9447897599720289, 0.9447897599720289, 0.9447897599720289, 0.9447897599720289, 0.9447897599720289, 0.9448004798933779, 0.9449093212802122, 0.9449093212802122]}], \"normalized_median_absolute_error\": [{\"categories\": [\"0\", \"1\", \"2\", \"3\", \"4\", \"5\", \"6\", \"7\", \"8\", \"9\", \"10\", \"11\", \"12\", \"13\", \"14\", \"15\", \"16\", \"17\", \"18\", \"19\", \"20\", \"21\", \"22\", \"23\", \"24\", \"25\", \"26\", \"27\", \"29\", \"30\", \"31\", \"32\", \"33\", \"34\", \"35\", \"36\", \"37\"], \"mode\": \"markers\", \"name\": \"normalized_median_absolute_error\", \"stepped\": false, \"type\": \"scatter\", \"data\": [0.006801865160093361, 0.006772345029926553, 0.007246104632423122, 0.0067919374376689354, 0.007119927393127054, 0.017862719576292162, 0.0071513462142830456, 0.00676546785444051, 0.006753360784830599, 0.006854053947206194, 0.007754739909852505, 0.00724632999296512, 0.009699775679482497, 0.006740683788884827, 0.0067404166235717254, 0.007978389614776182, 0.007591120002907975, 0.006874034945166798, 0.007462346406977109, 0.0067776814767766995, 0.0067340508872877096, 0.007019961876713901, 0.007409799843924733, 0.008048904591032104, 0.007446769148363909, 0.031643293776019, 0.006740864730385156, 0.006754451315692409, 0.009395413740857677, 0.031358005651343356, 0.00673234433649129, 0.006203898621670143, 0.007164911587253612, 0.0069363162068421715, 0.007651823952949924, 0.010545307038347334, 0.0071720596032219]}, {\"categories\": [\"0\", \"1\", \"2\", \"3\", \"4\", \"5\", \"6\", \"7\", \"8\", \"9\", \"10\", \"11\", \"12\", \"13\", \"14\", \"15\", \"16\", \"17\", \"18\", \"19\", \"20\", \"21\", \"22\", \"23\", \"24\", \"25\", \"26\", \"27\", \"29\", \"30\", \"31\", \"32\", \"33\", \"34\", \"35\", \"36\", \"37\"], \"mode\": \"lines\", \"name\": \"normalized_median_absolute_error_min\", \"stepped\": true, \"type\": \"scatter\", \"data\": [0.006801865160093361, 0.006772345029926553, 0.006772345029926553, 0.006772345029926553, 0.006772345029926553, 0.006772345029926553, 0.006772345029926553, 0.00676546785444051, 0.006753360784830599, 0.006753360784830599, 0.006753360784830599, 0.006753360784830599, 0.006753360784830599, 0.006740683788884827, 0.0067404166235717254, 0.0067404166235717254, 0.0067404166235717254, 0.0067404166235717254, 0.0067404166235717254, 0.0067404166235717254, 0.0067340508872877096, 0.0067340508872877096, 0.0067340508872877096, 0.0067340508872877096, 0.0067340508872877096, 0.0067340508872877096, 0.0067340508872877096, 0.0067340508872877096, 0.0067340508872877096, 0.0067340508872877096, 0.00673234433649129, 0.006203898621670143, 0.006203898621670143, 0.006203898621670143, 0.006203898621670143, 0.006203898621670143, 0.006203898621670143]}], \"normalized_root_mean_squared_error\": [{\"categories\": [\"0\", \"1\", \"2\", \"3\", \"4\", \"5\", \"6\", \"7\", \"8\", \"9\", \"10\", \"11\", \"12\", \"13\", \"14\", \"15\", \"16\", \"17\", \"18\", \"19\", \"20\", \"21\", \"22\", \"23\", \"24\", \"25\", \"26\", \"27\", \"29\", \"30\", \"31\", \"32\", \"33\", \"34\", \"35\", \"36\", \"37\"], \"mode\": \"markers\", \"name\": \"normalized_root_mean_squared_error\", \"stepped\": false, \"type\": \"scatter\", \"data\": [0.020908257625575306, 0.020603417634746466, 0.02012264770979389, 0.021385831423294883, 0.022537132942296617, 0.03765700636816101, 0.021932897197710233, 0.021161757783673324, 0.021080476390245687, 0.023006197125546503, 0.020211509789521985, 0.020121046002216703, 0.034989721372335005, 0.021421661436676148, 0.021116180880041493, 0.020287929852529453, 0.02270227188488464, 0.02087176203844116, 0.020138197640018746, 0.02152135078097986, 0.020897140158386424, 0.02136397077712796, 0.02013941071515218, 0.022082669946214255, 0.020172429658201166, 0.05421297959280073, 0.0270990537850739, 0.021948976157192816, 0.029876311247890232, 0.053725872095816495, 0.020373618524200745, 0.020961255024996173, 0.02249729865123229, 0.020501635383581684, 0.0201769269610377, 0.0228323400727224, 0.02019524231520956]}, {\"categories\": [\"0\", \"1\", \"2\", \"3\", \"4\", \"5\", \"6\", \"7\", \"8\", \"9\", \"10\", \"11\", \"12\", \"13\", \"14\", \"15\", \"16\", \"17\", \"18\", \"19\", \"20\", \"21\", \"22\", \"23\", \"24\", \"25\", \"26\", \"27\", \"29\", \"30\", \"31\", \"32\", \"33\", \"34\", \"35\", \"36\", \"37\"], \"mode\": \"lines\", \"name\": \"normalized_root_mean_squared_error_min\", \"stepped\": true, \"type\": \"scatter\", \"data\": [0.020908257625575306, 0.020603417634746466, 0.02012264770979389, 0.02012264770979389, 0.02012264770979389, 0.02012264770979389, 0.02012264770979389, 0.02012264770979389, 0.02012264770979389, 0.02012264770979389, 0.02012264770979389, 0.020121046002216703, 0.020121046002216703, 0.020121046002216703, 0.020121046002216703, 0.020121046002216703, 0.020121046002216703, 0.020121046002216703, 0.020121046002216703, 0.020121046002216703, 0.020121046002216703, 0.020121046002216703, 0.020121046002216703, 0.020121046002216703, 0.020121046002216703, 0.020121046002216703, 0.020121046002216703, 0.020121046002216703, 0.020121046002216703, 0.020121046002216703, 0.020121046002216703, 0.020121046002216703, 0.020121046002216703, 0.020121046002216703, 0.020121046002216703, 0.020121046002216703, 0.020121046002216703]}], \"mean_absolute_error\": [{\"categories\": [\"0\", \"1\", \"2\", \"3\", \"4\", \"5\", \"6\", \"7\", \"8\", \"9\", \"10\", \"11\", \"12\", \"13\", \"14\", \"15\", \"16\", \"17\", \"18\", \"19\", \"20\", \"21\", \"22\", \"23\", \"24\", \"25\", \"26\", \"27\", \"29\", \"30\", \"31\", \"32\", \"33\", \"34\", \"35\", \"36\", \"37\"], \"mode\": \"markers\", \"name\": \"mean_absolute_error\", \"stepped\": false, \"type\": \"scatter\", \"data\": [2.1378018408066333, 2.0946273438152687, 2.1180841333410796, 2.1409190391479442, 2.294073870650802, 4.492448731204514, 2.211516619037118, 2.138907603863534, 2.1275580015868307, 2.2564882461845652, 2.15570867004535, 2.117348164724581, 3.435737185659626, 2.140478980287008, 2.1373797649665587, 2.1776052613308456, 2.2945449984967228, 2.1717670329588317, 2.135345085803882, 2.161536843681272, 2.121900697142701, 2.166685455260877, 2.129256997617473, 2.3139750540751085, 2.141405332865923, 7.244326056997522, 2.457248262028247, 2.1556070523656747, 2.931995650244477, 7.177062317919997, 2.102152768143508, 2.06889570215982, 2.278541697160251, 2.10015769082968, 2.1475448554063687, 2.6113498767049332, 2.1044244716483327]}, {\"categories\": [\"0\", \"1\", \"2\", \"3\", \"4\", \"5\", \"6\", \"7\", \"8\", \"9\", \"10\", \"11\", \"12\", \"13\", \"14\", \"15\", \"16\", \"17\", \"18\", \"19\", \"20\", \"21\", \"22\", \"23\", \"24\", \"25\", \"26\", \"27\", \"29\", \"30\", \"31\", \"32\", \"33\", \"34\", \"35\", \"36\", \"37\"], \"mode\": \"lines\", \"name\": \"mean_absolute_error_min\", \"stepped\": true, \"type\": \"scatter\", \"data\": [2.1378018408066333, 2.0946273438152687, 2.0946273438152687, 2.0946273438152687, 2.0946273438152687, 2.0946273438152687, 2.0946273438152687, 2.0946273438152687, 2.0946273438152687, 2.0946273438152687, 2.0946273438152687, 2.0946273438152687, 2.0946273438152687, 2.0946273438152687, 2.0946273438152687, 2.0946273438152687, 2.0946273438152687, 2.0946273438152687, 2.0946273438152687, 2.0946273438152687, 2.0946273438152687, 2.0946273438152687, 2.0946273438152687, 2.0946273438152687, 2.0946273438152687, 2.0946273438152687, 2.0946273438152687, 2.0946273438152687, 2.0946273438152687, 2.0946273438152687, 2.0946273438152687, 2.06889570215982, 2.06889570215982, 2.06889570215982, 2.06889570215982, 2.06889570215982, 2.06889570215982]}], \"root_mean_squared_log_error\": [{\"categories\": [\"0\", \"1\", \"2\", \"3\", \"4\", \"5\", \"6\", \"7\", \"8\", \"9\", \"10\", \"11\", \"12\", \"13\", \"14\", \"15\", \"16\", \"17\", \"18\", \"19\", \"20\", \"21\", \"22\", \"23\", \"24\", \"25\", \"26\", \"27\", \"29\", \"30\", \"31\", \"32\", \"33\", \"34\", \"35\", \"36\", \"37\"], \"mode\": \"markers\", \"name\": \"root_mean_squared_log_error\", \"stepped\": false, \"type\": \"scatter\", \"data\": [0.17666370565139772, 0.17556005819385484, 0.17867793339266014, 0.1789327560471852, 0.19628347505887075, 0.35023071672899375, 0.1818619988409407, 0.1764431787094055, 0.17552646775365793, 0.17980078950778045, 0.18334463769479542, 0.17854759100484024, 0.264875317093091, 0.17915724744627498, 0.1764173408978893, 0.1857453521421791, 0.18907921813527767, 0.1800732073562153, 0.18061661236936016, 0.17981069120613707, 0.17584359633373448, 0.17916769345646302, 0.18014461135208157, 0.19256368283757358, 0.18068718660149127, 0.5447572318475266, 0.19171956415767438, 0.17900840358944842, 0.2293398413583098, 0.5394857773114304, 0.1751171364360317, 0.17458056365855615, 0.19435487713137256, 0.17668752311245034, 0.1824145475731707, 0.22355343296537694, 0.177288277171905]}, {\"categories\": [\"0\", \"1\", \"2\", \"3\", \"4\", \"5\", \"6\", \"7\", \"8\", \"9\", \"10\", \"11\", \"12\", \"13\", \"14\", \"15\", \"16\", \"17\", \"18\", \"19\", \"20\", \"21\", \"22\", \"23\", \"24\", \"25\", \"26\", \"27\", \"29\", \"30\", \"31\", \"32\", \"33\", \"34\", \"35\", \"36\", \"37\"], \"mode\": \"lines\", \"name\": \"root_mean_squared_log_error_min\", \"stepped\": true, \"type\": \"scatter\", \"data\": [0.17666370565139772, 0.17556005819385484, 0.17556005819385484, 0.17556005819385484, 0.17556005819385484, 0.17556005819385484, 0.17556005819385484, 0.17556005819385484, 0.17552646775365793, 0.17552646775365793, 0.17552646775365793, 0.17552646775365793, 0.17552646775365793, 0.17552646775365793, 0.17552646775365793, 0.17552646775365793, 0.17552646775365793, 0.17552646775365793, 0.17552646775365793, 0.17552646775365793, 0.17552646775365793, 0.17552646775365793, 0.17552646775365793, 0.17552646775365793, 0.17552646775365793, 0.17552646775365793, 0.17552646775365793, 0.17552646775365793, 0.17552646775365793, 0.17552646775365793, 0.1751171364360317, 0.17458056365855615, 0.17458056365855615, 0.17458056365855615, 0.17458056365855615, 0.17458056365855615, 0.17458056365855615]}], \"normalized_root_mean_squared_log_error\": [{\"categories\": [\"0\", \"1\", \"2\", \"3\", \"4\", \"5\", \"6\", \"7\", \"8\", \"9\", \"10\", \"11\", \"12\", \"13\", \"14\", \"15\", \"16\", \"17\", \"18\", \"19\", \"20\", \"21\", \"22\", \"23\", \"24\", \"25\", \"26\", \"27\", \"29\", \"30\", \"31\", \"32\", \"33\", \"34\", \"35\", \"36\", \"37\"], \"mode\": \"markers\", \"name\": \"normalized_root_mean_squared_log_error\", \"stepped\": false, \"type\": \"scatter\", \"data\": [0.033642640864138984, 0.03343246970918766, 0.03402621676767853, 0.03407474346997215, 0.03737889701012578, 0.06669556816471268, 0.03463256864946115, 0.03360064520530825, 0.033426072973016835, 0.034240045889420354, 0.034914912361813016, 0.03400139524518962, 0.05044106334054639, 0.03411749409319052, 0.033595724827292006, 0.035372088178842756, 0.03600696706288644, 0.0342919233013997, 0.03439540567562929, 0.03424193150186422, 0.03348646479423405, 0.034119483360696964, 0.03430552099527991, 0.0366705249462155, 0.03440884535491766, 0.10373988161072989, 0.03650977669580465, 0.03408914927611796, 0.04367392776126329, 0.10273602147355229, 0.03334812268626967, 0.0332459413967766, 0.037011627868980435, 0.03364717650028187, 0.034737792291690356, 0.042572003295573604, 0.03376158003888866]}, {\"categories\": [\"0\", \"1\", \"2\", \"3\", \"4\", \"5\", \"6\", \"7\", \"8\", \"9\", \"10\", \"11\", \"12\", \"13\", \"14\", \"15\", \"16\", \"17\", \"18\", \"19\", \"20\", \"21\", \"22\", \"23\", \"24\", \"25\", \"26\", \"27\", \"29\", \"30\", \"31\", \"32\", \"33\", \"34\", \"35\", \"36\", \"37\"], \"mode\": \"lines\", \"name\": \"normalized_root_mean_squared_log_error_min\", \"stepped\": true, \"type\": \"scatter\", \"data\": [0.033642640864138984, 0.03343246970918766, 0.03343246970918766, 0.03343246970918766, 0.03343246970918766, 0.03343246970918766, 0.03343246970918766, 0.03343246970918766, 0.033426072973016835, 0.033426072973016835, 0.033426072973016835, 0.033426072973016835, 0.033426072973016835, 0.033426072973016835, 0.033426072973016835, 0.033426072973016835, 0.033426072973016835, 0.033426072973016835, 0.033426072973016835, 0.033426072973016835, 0.033426072973016835, 0.033426072973016835, 0.033426072973016835, 0.033426072973016835, 0.033426072973016835, 0.033426072973016835, 0.033426072973016835, 0.033426072973016835, 0.033426072973016835, 0.033426072973016835, 0.03334812268626967, 0.0332459413967766, 0.0332459413967766, 0.0332459413967766, 0.0332459413967766, 0.0332459413967766, 0.0332459413967766]}], \"mean_absolute_percentage_error\": [{\"categories\": [\"0\", \"1\", \"2\", \"3\", \"4\", \"5\", \"6\", \"7\", \"8\", \"9\", \"10\", \"11\", \"12\", \"13\", \"14\", \"15\", \"16\", \"17\", \"18\", \"19\", \"20\", \"21\", \"22\", \"23\", \"24\", \"25\", \"26\", \"27\", \"29\", \"30\", \"31\", \"32\", \"33\", \"34\", \"35\", \"36\", \"37\"], \"mode\": \"markers\", \"name\": \"mean_absolute_percentage_error\", \"stepped\": false, \"type\": \"scatter\", \"data\": [73.37253665754619, 77.33369176453748, 74.63942501380677, 80.73635234663718, 62.14034655645311, 60.07207447636765, 58.92091306384689, 61.08806936374498, 59.6727120764386, 53.948657535018334, 73.91836026093375, 74.58117289823839, 51.02205799647599, 77.70768800433726, 60.919029094087094, 73.66632971221209, 58.32916615808515, 70.43999220420869, 74.62577728270179, 81.49229966231123, 61.48987580071447, 60.00394300559303, 74.38919954170076, 60.381887676953184, 75.15375513759429, 76.94611176424726, 47.22014066247457, 81.25368975786014, 48.738913712956375, 76.84399140678482, 70.62881233689939, 58.6908058789097, 58.87289210422343, 77.81349219538411, 74.03620599936117, 70.95089393123318, 75.85680021212637]}, {\"categories\": [\"0\", \"1\", \"2\", \"3\", \"4\", \"5\", \"6\", \"7\", \"8\", \"9\", \"10\", \"11\", \"12\", \"13\", \"14\", \"15\", \"16\", \"17\", \"18\", \"19\", \"20\", \"21\", \"22\", \"23\", \"24\", \"25\", \"26\", \"27\", \"29\", \"30\", \"31\", \"32\", \"33\", \"34\", \"35\", \"36\", \"37\"], \"mode\": \"lines\", \"name\": \"mean_absolute_percentage_error_min\", \"stepped\": true, \"type\": \"scatter\", \"data\": [73.37253665754619, 73.37253665754619, 73.37253665754619, 73.37253665754619, 62.14034655645311, 60.07207447636765, 58.92091306384689, 58.92091306384689, 58.92091306384689, 53.948657535018334, 53.948657535018334, 53.948657535018334, 51.02205799647599, 51.02205799647599, 51.02205799647599, 51.02205799647599, 51.02205799647599, 51.02205799647599, 51.02205799647599, 51.02205799647599, 51.02205799647599, 51.02205799647599, 51.02205799647599, 51.02205799647599, 51.02205799647599, 51.02205799647599, 47.22014066247457, 47.22014066247457, 47.22014066247457, 47.22014066247457, 47.22014066247457, 47.22014066247457, 47.22014066247457, 47.22014066247457, 47.22014066247457, 47.22014066247457, 47.22014066247457]}], \"explained_variance\": [{\"categories\": [\"0\", \"1\", \"2\", \"3\", \"4\", \"5\", \"6\", \"7\", \"8\", \"9\", \"10\", \"11\", \"12\", \"13\", \"14\", \"15\", \"16\", \"17\", \"18\", \"19\", \"20\", \"21\", \"22\", \"23\", \"24\", \"25\", \"26\", \"27\", \"29\", \"30\", \"31\", \"32\", \"33\", \"34\", \"35\", \"36\", \"37\"], \"mode\": \"markers\", \"name\": \"explained_variance\", \"stepped\": false, \"type\": \"scatter\", \"data\": [0.8513584153351401, 0.8553113733886519, 0.8620190800343593, 0.8442720039161026, 0.8372870221058492, 0.5156422724891689, 0.8366472310958004, 0.8477777434377434, 0.8490142936559991, 0.820298979491535, 0.860874667789471, 0.8620378648399699, 0.6050739916218897, 0.8438899578335148, 0.8484657720104675, 0.8598593944910359, 0.8250885105173641, 0.851906712845843, 0.861874712906492, 0.8425078120750067, 0.8516224692922595, 0.8449826123810634, 0.861815845192497, 0.8344144778111258, 0.8619963885077742, 0.0028007458510824535, 0.7554857325306001, 0.8358604856187881, 0.7091869791514162, 0.02064615799230838, 0.8587933307657153, 0.8526575548170265, 0.8380634045388664, 0.8567966591108925, 0.8613259954562092, 0.8229673510008606, 0.861071291318979]}, {\"categories\": [\"0\", \"1\", \"2\", \"3\", \"4\", \"5\", \"6\", \"7\", \"8\", \"9\", \"10\", \"11\", \"12\", \"13\", \"14\", \"15\", \"16\", \"17\", \"18\", \"19\", \"20\", \"21\", \"22\", \"23\", \"24\", \"25\", \"26\", \"27\", \"29\", \"30\", \"31\", \"32\", \"33\", \"34\", \"35\", \"36\", \"37\"], \"mode\": \"lines\", \"name\": \"explained_variance_max\", \"stepped\": true, \"type\": \"scatter\", \"data\": [0.8513584153351401, 0.8553113733886519, 0.8620190800343593, 0.8620190800343593, 0.8620190800343593, 0.8620190800343593, 0.8620190800343593, 0.8620190800343593, 0.8620190800343593, 0.8620190800343593, 0.8620190800343593, 0.8620378648399699, 0.8620378648399699, 0.8620378648399699, 0.8620378648399699, 0.8620378648399699, 0.8620378648399699, 0.8620378648399699, 0.8620378648399699, 0.8620378648399699, 0.8620378648399699, 0.8620378648399699, 0.8620378648399699, 0.8620378648399699, 0.8620378648399699, 0.8620378648399699, 0.8620378648399699, 0.8620378648399699, 0.8620378648399699, 0.8620378648399699, 0.8620378648399699, 0.8620378648399699, 0.8620378648399699, 0.8620378648399699, 0.8620378648399699, 0.8620378648399699, 0.8620378648399699]}], \"root_mean_squared_error\": [{\"categories\": [\"0\", \"1\", \"2\", \"3\", \"4\", \"5\", \"6\", \"7\", \"8\", \"9\", \"10\", \"11\", \"12\", \"13\", \"14\", \"15\", \"16\", \"17\", \"18\", \"19\", \"20\", \"21\", \"22\", \"23\", \"24\", \"25\", \"26\", \"27\", \"29\", \"30\", \"31\", \"32\", \"33\", \"34\", \"35\", \"36\", \"37\"], \"mode\": \"markers\", \"name\": \"root_mean_squared_error\", \"stepped\": false, \"type\": \"scatter\", \"data\": [4.00790390424653, 3.94946912640455, 3.857310339490391, 4.099450025531395, 4.320143013708838, 7.218471550712783, 4.204317063829074, 4.056497349552339, 4.0409165192461955, 4.410057926996009, 3.874344311553469, 3.85700330816492, 6.7071796898628975, 4.106318280796451, 4.047760712895153, 3.88899327343137, 4.351798497613537, 4.000908065148787, 3.8602911056151923, 4.125427731206029, 4.005772796961094, 4.095259558267658, 3.860523639987522, 4.233027001989812, 3.866853041180581, 10.39208605814397, 5.194617620060816, 4.2073992395722914, 5.726990103108078, 10.298712422047064, 3.9054189349040414, 4.0180629757415165, 4.312507178454718, 3.9299584866787733, 3.867715129161317, 4.376731268540157, 3.87122599940252]}, {\"categories\": [\"0\", \"1\", \"2\", \"3\", \"4\", \"5\", \"6\", \"7\", \"8\", \"9\", \"10\", \"11\", \"12\", \"13\", \"14\", \"15\", \"16\", \"17\", \"18\", \"19\", \"20\", \"21\", \"22\", \"23\", \"24\", \"25\", \"26\", \"27\", \"29\", \"30\", \"31\", \"32\", \"33\", \"34\", \"35\", \"36\", \"37\"], \"mode\": \"lines\", \"name\": \"root_mean_squared_error_min\", \"stepped\": true, \"type\": \"scatter\", \"data\": [4.00790390424653, 3.94946912640455, 3.857310339490391, 3.857310339490391, 3.857310339490391, 3.857310339490391, 3.857310339490391, 3.857310339490391, 3.857310339490391, 3.857310339490391, 3.857310339490391, 3.85700330816492, 3.85700330816492, 3.85700330816492, 3.85700330816492, 3.85700330816492, 3.85700330816492, 3.85700330816492, 3.85700330816492, 3.85700330816492, 3.85700330816492, 3.85700330816492, 3.85700330816492, 3.85700330816492, 3.85700330816492, 3.85700330816492, 3.85700330816492, 3.85700330816492, 3.85700330816492, 3.85700330816492, 3.85700330816492, 3.85700330816492, 3.85700330816492, 3.85700330816492, 3.85700330816492, 3.85700330816492, 3.85700330816492]}], \"median_absolute_error\": [{\"categories\": [\"0\", \"1\", \"2\", \"3\", \"4\", \"5\", \"6\", \"7\", \"8\", \"9\", \"10\", \"11\", \"12\", \"13\", \"14\", \"15\", \"16\", \"17\", \"18\", \"19\", \"20\", \"21\", \"22\", \"23\", \"24\", \"25\", \"26\", \"27\", \"29\", \"30\", \"31\", \"32\", \"33\", \"34\", \"35\", \"36\", \"37\"], \"mode\": \"markers\", \"name\": \"median_absolute_error\", \"stepped\": false, \"type\": \"scatter\", \"data\": [1.3038495325382962, 1.298190818786621, 1.3890057969891885, 1.3019464874267581, 1.364818881988525, 3.424104715579444, 1.370841555815917, 1.2968725330177013, 1.2945517288441775, 1.3138536011399553, 1.4865060933196268, 1.3890489963514836, 1.8593499999999998, 1.2921216754913327, 1.2920704625724642, 1.5293775052564462, 1.45514179335743, 1.3176837586390238, 1.430457182753442, 1.2992137622833255, 1.2908502145841811, 1.3456564921472876, 1.4203845320819322, 1.5428945210549443, 1.4274711780498777, 6.065702983925081, 1.2921563601675303, 1.2947607727050778, 1.8010068599850082, 6.011016103306007, 1.2905230858620156, 1.1892253267879496, 1.373441902160645, 1.3296224536895758, 1.4667781335409709, 2.0214299061808005, 1.374812105341606]}, {\"categories\": [\"0\", \"1\", \"2\", \"3\", \"4\", \"5\", \"6\", \"7\", \"8\", \"9\", \"10\", \"11\", \"12\", \"13\", \"14\", \"15\", \"16\", \"17\", \"18\", \"19\", \"20\", \"21\", \"22\", \"23\", \"24\", \"25\", \"26\", \"27\", \"29\", \"30\", \"31\", \"32\", \"33\", \"34\", \"35\", \"36\", \"37\"], \"mode\": \"lines\", \"name\": \"median_absolute_error_min\", \"stepped\": true, \"type\": \"scatter\", \"data\": [1.3038495325382962, 1.298190818786621, 1.298190818786621, 1.298190818786621, 1.298190818786621, 1.298190818786621, 1.298190818786621, 1.2968725330177013, 1.2945517288441775, 1.2945517288441775, 1.2945517288441775, 1.2945517288441775, 1.2945517288441775, 1.2921216754913327, 1.2920704625724642, 1.2920704625724642, 1.2920704625724642, 1.2920704625724642, 1.2920704625724642, 1.2920704625724642, 1.2908502145841811, 1.2908502145841811, 1.2908502145841811, 1.2908502145841811, 1.2908502145841811, 1.2908502145841811, 1.2908502145841811, 1.2908502145841811, 1.2908502145841811, 1.2908502145841811, 1.2905230858620156, 1.1892253267879496, 1.1892253267879496, 1.1892253267879496, 1.1892253267879496, 1.1892253267879496, 1.1892253267879496]}], \"normalized_mean_absolute_error\": [{\"categories\": [\"0\", \"1\", \"2\", \"3\", \"4\", \"5\", \"6\", \"7\", \"8\", \"9\", \"10\", \"11\", \"12\", \"13\", \"14\", \"15\", \"16\", \"17\", \"18\", \"19\", \"20\", \"21\", \"22\", \"23\", \"24\", \"25\", \"26\", \"27\", \"29\", \"30\", \"31\", \"32\", \"33\", \"34\", \"35\", \"36\", \"37\"], \"mode\": \"markers\", \"name\": \"normalized_mean_absolute_error\", \"stepped\": false, \"type\": \"scatter\", \"data\": [0.011152391052254334, 0.010927160226486873, 0.011049528579169908, 0.011168652716093401, 0.011967624136109354, 0.023436009865952918, 0.01153694308016651, 0.01115815954856035, 0.011098951440277694, 0.011771549095855628, 0.011245806615083467, 0.01104568921031134, 0.01792340333694833, 0.011166357036293014, 0.0111501891854899, 0.011360035793890375, 0.011970081895230439, 0.011329579179711157, 0.011139574760310302, 0.011276210776155624, 0.01106943866212479, 0.01130306982764295, 0.011107814688389967, 0.012071443758543002, 0.011171189591871892, 0.03779188302466233, 0.01281886515743256, 0.01124527650042086, 0.015295506548304435, 0.03744098449538316, 0.010966418530666744, 0.010792924524804738, 0.011886596573427154, 0.010956010698678492, 0.011203217984278622, 0.0136227757144605, 0.010978269454057766]}, {\"categories\": [\"0\", \"1\", \"2\", \"3\", \"4\", \"5\", \"6\", \"7\", \"8\", \"9\", \"10\", \"11\", \"12\", \"13\", \"14\", \"15\", \"16\", \"17\", \"18\", \"19\", \"20\", \"21\", \"22\", \"23\", \"24\", \"25\", \"26\", \"27\", \"29\", \"30\", \"31\", \"32\", \"33\", \"34\", \"35\", \"36\", \"37\"], \"mode\": \"lines\", \"name\": \"normalized_mean_absolute_error_min\", \"stepped\": true, \"type\": \"scatter\", \"data\": [0.011152391052254334, 0.010927160226486873, 0.010927160226486873, 0.010927160226486873, 0.010927160226486873, 0.010927160226486873, 0.010927160226486873, 0.010927160226486873, 0.010927160226486873, 0.010927160226486873, 0.010927160226486873, 0.010927160226486873, 0.010927160226486873, 0.010927160226486873, 0.010927160226486873, 0.010927160226486873, 0.010927160226486873, 0.010927160226486873, 0.010927160226486873, 0.010927160226486873, 0.010927160226486873, 0.010927160226486873, 0.010927160226486873, 0.010927160226486873, 0.010927160226486873, 0.010927160226486873, 0.010927160226486873, 0.010927160226486873, 0.010927160226486873, 0.010927160226486873, 0.010927160226486873, 0.010792924524804738, 0.010792924524804738, 0.010792924524804738, 0.010792924524804738, 0.010792924524804738, 0.010792924524804738]}]}, \"metricName\": null, \"primaryMetricName\": \"spearman_correlation\", \"showLegend\": false}, \"run_metrics\": [{\"name\": \"root_mean_squared_log_error\", \"run_id\": \"AutoML_d9d84163-a485-4902-85c7-b3342fd47603\", \"categories\": [0], \"series\": [{\"data\": [0.22355343296537694]}]}, {\"name\": \"normalized_mean_absolute_error\", \"run_id\": \"AutoML_d9d84163-a485-4902-85c7-b3342fd47603\", \"categories\": [0], \"series\": [{\"data\": [0.0136227757144605]}]}, {\"name\": \"root_mean_squared_error\", \"run_id\": \"AutoML_d9d84163-a485-4902-85c7-b3342fd47603\", \"categories\": [0], \"series\": [{\"data\": [4.376731268540157]}]}, {\"name\": \"normalized_median_absolute_error\", \"run_id\": \"AutoML_d9d84163-a485-4902-85c7-b3342fd47603\", \"categories\": [0], \"series\": [{\"data\": [0.010545307038347334]}]}, {\"name\": \"normalized_root_mean_squared_log_error\", \"run_id\": \"AutoML_d9d84163-a485-4902-85c7-b3342fd47603\", \"categories\": [0], \"series\": [{\"data\": [0.042572003295573604]}]}, {\"name\": \"mean_absolute_error\", \"run_id\": \"AutoML_d9d84163-a485-4902-85c7-b3342fd47603\", \"categories\": [0], \"series\": [{\"data\": [2.6113498767049332]}]}, {\"name\": \"r2_score\", \"run_id\": \"AutoML_d9d84163-a485-4902-85c7-b3342fd47603\", \"categories\": [0], \"series\": [{\"data\": [0.8229091636768384]}]}, {\"name\": \"normalized_root_mean_squared_error\", \"run_id\": \"AutoML_d9d84163-a485-4902-85c7-b3342fd47603\", \"categories\": [0], \"series\": [{\"data\": [0.0228323400727224]}]}, {\"name\": \"mean_absolute_percentage_error\", \"run_id\": \"AutoML_d9d84163-a485-4902-85c7-b3342fd47603\", \"categories\": [0], \"series\": [{\"data\": [70.95089393123318]}]}, {\"name\": \"spearman_correlation\", \"run_id\": \"AutoML_d9d84163-a485-4902-85c7-b3342fd47603\", \"categories\": [0], \"series\": [{\"data\": [0.9449093212802122]}]}, {\"name\": \"explained_variance\", \"run_id\": \"AutoML_d9d84163-a485-4902-85c7-b3342fd47603\", \"categories\": [0], \"series\": [{\"data\": [0.8229673510008606]}]}, {\"name\": \"median_absolute_error\", \"run_id\": \"AutoML_d9d84163-a485-4902-85c7-b3342fd47603\", \"categories\": [0], \"series\": [{\"data\": [2.0214299061808005]}]}], \"run_logs\": \"\\nRun is completed.\", \"graph\": {}, \"widget_settings\": {\"childWidgetDisplay\": \"popup\", \"send_telemetry\": false, \"log_level\": \"INFO\", \"sdk_version\": \"1.34.0\"}, \"loading\": false}"
          },
          "metadata": {}
        }
      ],
      "execution_count": 13,
      "metadata": {
        "gather": {
          "logged": 1638291063499
        }
      }
    },
    {
      "cell_type": "markdown",
      "source": [
        "### Retrieve the best model"
      ],
      "metadata": {}
    },
    {
      "cell_type": "markdown",
      "source": [
        "Select the best model from your iterations. The `get_output` function returns the best run and the fitted model for the last fit invocation. By using the overloads on `get_output`, you can retrieve the best run and fitted model for any logged metric or a particular iteration."
      ],
      "metadata": {}
    },
    {
      "cell_type": "code",
      "source": [
        "best_run, fitted_model = local_run.get_output()\n",
        "print(best_run)\n",
        "print(fitted_model)"
      ],
      "outputs": [
        {
          "output_type": "stream",
          "name": "stdout",
          "text": "Run(Experiment: Tutorial-NYCTaxi,\nId: AutoML_d9d84163-a485-4902-85c7-b3342fd47603_36,\nType: None,\nStatus: Completed)\nRegressionPipeline(pipeline=Pipeline(memory=None,\n                                     steps=[('datatransformer',\n                                             DataTransformer(enable_dnn=False, enable_feature_sweeping=True, feature_sweeping_config={}, feature_sweeping_timeout=86400, featurization_config=None, force_text_dnn=False, is_cross_validation=True, is_onnx_compatible=False, observer=None, task='regression', working_dir='/mnt/batch/ta...\n    gpu_training_param_dict={'processing_unit_type': 'cpu'}\n), random_state=None, reg_alpha=0.6749999999999999, reg_lambda=0.075, subsample=0.9, subsample_freq=1))], verbose=False))], weights=[0.2, 0.06666666666666667, 0.2, 0.06666666666666667, 0.06666666666666667, 0.06666666666666667, 0.13333333333333333, 0.06666666666666667, 0.06666666666666667, 0.06666666666666667]))],\n                                     verbose=False),\n                   stddev=[4.384307311911192])\n"
        }
      ],
      "execution_count": 14,
      "metadata": {
        "gather": {
          "logged": 1638291445802
        }
      }
    },
    {
      "cell_type": "markdown",
      "source": [
        "### Test the best model accuracy"
      ],
      "metadata": {}
    },
    {
      "cell_type": "markdown",
      "source": [
        "Use the best model to run predictions on the test data set to predict taxi fares. The function `predict` uses the best model and predicts the values of y, **trip cost**, from the `x_test` data set. Print the first 10 predicted cost values from `y_predict`."
      ],
      "metadata": {}
    },
    {
      "cell_type": "code",
      "source": [
        "y_test = x_test.pop(\"totalAmount\")\n",
        "\n",
        "y_predict = fitted_model.predict(x_test)\n",
        "print(y_predict[:10])"
      ],
      "outputs": [
        {
          "output_type": "stream",
          "name": "stdout",
          "text": "[13.61507652 11.1757637  14.74866533 10.19628599 14.65606261  8.7603463\n 18.74678392 13.41393221 11.95371627 14.58485553]\n"
        }
      ],
      "execution_count": 15,
      "metadata": {
        "gather": {
          "logged": 1638291507570
        }
      }
    },
    {
      "cell_type": "markdown",
      "source": [
        "Calculate the `root mean squared error` of the results. Convert the `y_test` dataframe to a list to compare to the predicted values. The function `mean_squared_error` takes two arrays of values and calculates the average squared error between them. Taking the square root of the result gives an error in the same units as the y variable, **cost**. It indicates roughly how far the taxi fare predictions are from the actual fares."
      ],
      "metadata": {}
    },
    {
      "cell_type": "code",
      "source": [
        "from sklearn.metrics import mean_squared_error\n",
        "from math import sqrt\n",
        "\n",
        "y_actual = y_test.values.flatten().tolist()\n",
        "rmse = sqrt(mean_squared_error(y_actual, y_predict))\n",
        "rmse"
      ],
      "outputs": [
        {
          "output_type": "execute_result",
          "execution_count": 16,
          "data": {
            "text/plain": "4.191445919129066"
          },
          "metadata": {}
        }
      ],
      "execution_count": 16,
      "metadata": {
        "gather": {
          "logged": 1638291568000
        }
      }
    },
    {
      "cell_type": "markdown",
      "source": [
        "Run the following code to calculate mean absolute percent error (MAPE) by using the full `y_actual` and `y_predict` data sets. This metric calculates an absolute difference between each predicted and actual value and sums all the differences. Then it expresses that sum as a percent of the total of the actual values."
      ],
      "metadata": {}
    },
    {
      "cell_type": "code",
      "source": [
        "sum_actuals = sum_errors = 0\n",
        "\n",
        "for actual_val, predict_val in zip(y_actual, y_predict):\n",
        "    abs_error = actual_val - predict_val\n",
        "    if abs_error < 0:\n",
        "        abs_error = abs_error * -1\n",
        "\n",
        "    sum_errors = sum_errors + abs_error\n",
        "    sum_actuals = sum_actuals + actual_val\n",
        "\n",
        "mean_abs_percent_error = sum_errors / sum_actuals\n",
        "print(\"Model MAPE:\")\n",
        "print(mean_abs_percent_error)\n",
        "print()\n",
        "print(\"Model Accuracy:\")\n",
        "print(1 - mean_abs_percent_error)"
      ],
      "outputs": [
        {
          "output_type": "stream",
          "name": "stdout",
          "text": "Model MAPE:\n0.1710327996356087\n\nModel Accuracy:\n0.8289672003643913\n"
        }
      ],
      "execution_count": 17,
      "metadata": {
        "gather": {
          "logged": 1638291609374
        }
      }
    },
    {
      "cell_type": "markdown",
      "source": [
        "From the two prediction accuracy metrics, you see that the model is fairly good at predicting taxi fares from the data set's features, typically within +- $4.00, and approximately 15% error. \n",
        "\n",
        "The traditional machine learning model development process is highly resource-intensive, and requires significant domain knowledge and time investment to run and compare the results of dozens of models. Using automated machine learning is a great way to rapidly test many different models for your scenario."
      ],
      "metadata": {}
    },
    {
      "cell_type": "markdown",
      "source": [
        "## Clean up resources"
      ],
      "metadata": {}
    },
    {
      "cell_type": "markdown",
      "source": [
        "Do not complete this section if you plan on running other Azure Machine Learning service tutorials."
      ],
      "metadata": {}
    },
    {
      "cell_type": "markdown",
      "source": [
        "### Stop the notebook VM"
      ],
      "metadata": {}
    },
    {
      "cell_type": "markdown",
      "source": [
        "If you used a cloud notebook server, stop the VM when you are not using it to reduce cost."
      ],
      "metadata": {}
    },
    {
      "cell_type": "markdown",
      "source": [
        "1. In your workspace, select **Compute**.\n",
        "1. Select the **Notebook VMs** tab in the compute page.\n",
        "1. From the list, select the VM.\n",
        "1. Select **Stop**.\n",
        "1. When you're ready to use the server again, select **Start**."
      ],
      "metadata": {}
    },
    {
      "cell_type": "markdown",
      "source": [
        "### Delete everything"
      ],
      "metadata": {}
    },
    {
      "cell_type": "markdown",
      "source": [
        "If you don't plan to use the resources you created, delete them, so you don't incur any charges."
      ],
      "metadata": {}
    },
    {
      "cell_type": "markdown",
      "source": [
        "1. In the Azure portal, select **Resource groups** on the far left.\n",
        "1. From the list, select the resource group you created.\n",
        "1. Select **Delete resource group**.\n",
        "1. Enter the resource group name. Then select **Delete**.\n",
        "\n",
        "You can also keep the resource group but delete a single workspace. Display the workspace properties and select **Delete**."
      ],
      "metadata": {}
    },
    {
      "cell_type": "markdown",
      "source": [
        "## Next steps"
      ],
      "metadata": {}
    },
    {
      "cell_type": "markdown",
      "source": [
        "In this automated machine learning tutorial, you did the following tasks:\n",
        "\n",
        "> * Configured a workspace and prepared data for an experiment.\n",
        "> * Trained by using an automated regression model locally with custom parameters.\n",
        "> * Explored and reviewed training results.\n",
        "\n",
        "[Deploy your model](https://docs.microsoft.com/azure/machine-learning/service/tutorial-deploy-models-with-aml) with Azure Machine Learning service."
      ],
      "metadata": {}
    },
    {
      "cell_type": "code",
      "source": [],
      "outputs": [],
      "execution_count": null,
      "metadata": {}
    }
  ],
  "metadata": {
    "authors": [
      {
        "name": "jeffshep"
      }
    ],
    "kernelspec": {
      "name": "python3-azureml",
      "language": "python",
      "display_name": "Python 3.6 - AzureML"
    },
    "language_info": {
      "name": "python",
      "version": "3.6.9",
      "mimetype": "text/x-python",
      "codemirror_mode": {
        "name": "ipython",
        "version": 3
      },
      "pygments_lexer": "ipython3",
      "nbconvert_exporter": "python",
      "file_extension": ".py"
    },
    "msauthor": "trbye",
    "network_required": false,
    "categories": [
      "tutorials"
    ],
    "kernel_info": {
      "name": "python3-azureml"
    },
    "nteract": {
      "version": "nteract-front-end@1.0.0"
    }
  },
  "nbformat": 4,
  "nbformat_minor": 2
}